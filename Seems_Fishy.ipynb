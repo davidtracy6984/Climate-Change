{
 "cells": [
  {
   "cell_type": "code",
   "execution_count": 1,
   "metadata": {},
   "outputs": [],
   "source": [
    "#Import the libraries that will be used\n",
    "import pandas as pd\n",
    "import glob\n",
    "import matplotlib.pyplot as plt"
   ]
  },
  {
   "cell_type": "code",
   "execution_count": 2,
   "metadata": {},
   "outputs": [],
   "source": [
    "#set up the pathway for the fpc files\n",
    "path = 'Data\\\\fpc_csv_files\\\\'\n",
    "\n",
    "#Make a list of all the files in that pathway of type .csv\n",
    "all_files = glob.glob(path + \"/*.csv\")"
   ]
  },
  {
   "cell_type": "code",
   "execution_count": 3,
   "metadata": {},
   "outputs": [],
   "source": [
    "#Create an empty list to store all the dataframe\n",
    "fish_list = []\n",
    "\n",
    "#For loop to loop through all the files, load them into a dataframe, then cut of the last 2 \"rows\"\n",
    "#The reason is the last two rows are just metadata  information, not numerical data.\n",
    "#The third step is to pass this new dataframe into the dataframe list\n",
    "for filename in all_files:\n",
    "    df = pd.read_csv(filename, index_col=0, header=0)\n",
    "    df2 = df[:-2]\n",
    "    fish_list.append(df2)"
   ]
  },
  {
   "cell_type": "code",
   "execution_count": 4,
   "metadata": {},
   "outputs": [
    {
     "data": {
      "text/html": [
       "<div>\n",
       "<style scoped>\n",
       "    .dataframe tbody tr th:only-of-type {\n",
       "        vertical-align: middle;\n",
       "    }\n",
       "\n",
       "    .dataframe tbody tr th {\n",
       "        vertical-align: top;\n",
       "    }\n",
       "\n",
       "    .dataframe thead th {\n",
       "        text-align: right;\n",
       "    }\n",
       "</style>\n",
       "<table border=\"1\" class=\"dataframe\">\n",
       "  <thead>\n",
       "    <tr style=\"text-align: right;\">\n",
       "      <th></th>\n",
       "      <th>Dam</th>\n",
       "      <th>Year</th>\n",
       "      <th>ChinookAdult</th>\n",
       "      <th>ChinookJack</th>\n",
       "      <th>CohoAdult</th>\n",
       "      <th>CohoJack</th>\n",
       "      <th>Steelhead</th>\n",
       "      <th>UnclippedSteelhead</th>\n",
       "      <th>Sockeye</th>\n",
       "      <th>Pink</th>\n",
       "      <th>Chum</th>\n",
       "      <th>Lamprey</th>\n",
       "      <th>Shad</th>\n",
       "    </tr>\n",
       "  </thead>\n",
       "  <tbody>\n",
       "    <tr>\n",
       "      <th>0</th>\n",
       "      <td>BON</td>\n",
       "      <td>1938</td>\n",
       "      <td>271799.0</td>\n",
       "      <td>0.0</td>\n",
       "      <td>15174.0</td>\n",
       "      <td>0.0</td>\n",
       "      <td>107003.0</td>\n",
       "      <td>0.0</td>\n",
       "      <td>75029.0</td>\n",
       "      <td>0.0</td>\n",
       "      <td>2114.0</td>\n",
       "      <td>0.0</td>\n",
       "      <td>0.0</td>\n",
       "    </tr>\n",
       "    <tr>\n",
       "      <th>1</th>\n",
       "      <td>BON</td>\n",
       "      <td>1939</td>\n",
       "      <td>286156.0</td>\n",
       "      <td>0.0</td>\n",
       "      <td>14383.0</td>\n",
       "      <td>0.0</td>\n",
       "      <td>121932.0</td>\n",
       "      <td>0.0</td>\n",
       "      <td>73382.0</td>\n",
       "      <td>0.0</td>\n",
       "      <td>1147.0</td>\n",
       "      <td>0.0</td>\n",
       "      <td>0.0</td>\n",
       "    </tr>\n",
       "    <tr>\n",
       "      <th>2</th>\n",
       "      <td>BON</td>\n",
       "      <td>1940</td>\n",
       "      <td>391573.0</td>\n",
       "      <td>0.0</td>\n",
       "      <td>11870.0</td>\n",
       "      <td>0.0</td>\n",
       "      <td>185161.0</td>\n",
       "      <td>0.0</td>\n",
       "      <td>148805.0</td>\n",
       "      <td>0.0</td>\n",
       "      <td>1729.0</td>\n",
       "      <td>0.0</td>\n",
       "      <td>0.0</td>\n",
       "    </tr>\n",
       "    <tr>\n",
       "      <th>3</th>\n",
       "      <td>BON</td>\n",
       "      <td>1941</td>\n",
       "      <td>461443.0</td>\n",
       "      <td>0.0</td>\n",
       "      <td>17911.0</td>\n",
       "      <td>0.0</td>\n",
       "      <td>118087.0</td>\n",
       "      <td>0.0</td>\n",
       "      <td>65741.0</td>\n",
       "      <td>4.0</td>\n",
       "      <td>5269.0</td>\n",
       "      <td>0.0</td>\n",
       "      <td>0.0</td>\n",
       "    </tr>\n",
       "    <tr>\n",
       "      <th>4</th>\n",
       "      <td>BON</td>\n",
       "      <td>1942</td>\n",
       "      <td>401998.0</td>\n",
       "      <td>0.0</td>\n",
       "      <td>12401.0</td>\n",
       "      <td>0.0</td>\n",
       "      <td>151395.0</td>\n",
       "      <td>0.0</td>\n",
       "      <td>55474.0</td>\n",
       "      <td>11.0</td>\n",
       "      <td>1865.0</td>\n",
       "      <td>0.0</td>\n",
       "      <td>0.0</td>\n",
       "    </tr>\n",
       "    <tr>\n",
       "      <th>...</th>\n",
       "      <td>...</td>\n",
       "      <td>...</td>\n",
       "      <td>...</td>\n",
       "      <td>...</td>\n",
       "      <td>...</td>\n",
       "      <td>...</td>\n",
       "      <td>...</td>\n",
       "      <td>...</td>\n",
       "      <td>...</td>\n",
       "      <td>...</td>\n",
       "      <td>...</td>\n",
       "      <td>...</td>\n",
       "      <td>...</td>\n",
       "    </tr>\n",
       "    <tr>\n",
       "      <th>673</th>\n",
       "      <td>WFA</td>\n",
       "      <td>2015</td>\n",
       "      <td>53979.0</td>\n",
       "      <td>3064.0</td>\n",
       "      <td>2651.0</td>\n",
       "      <td>923.0</td>\n",
       "      <td>8280.0</td>\n",
       "      <td>0.0</td>\n",
       "      <td>0.0</td>\n",
       "      <td>0.0</td>\n",
       "      <td>0.0</td>\n",
       "      <td>0.0</td>\n",
       "      <td>0.0</td>\n",
       "    </tr>\n",
       "    <tr>\n",
       "      <th>674</th>\n",
       "      <td>WFA</td>\n",
       "      <td>2016</td>\n",
       "      <td>31358.0</td>\n",
       "      <td>2383.0</td>\n",
       "      <td>2559.0</td>\n",
       "      <td>1991.0</td>\n",
       "      <td>27503.0</td>\n",
       "      <td>0.0</td>\n",
       "      <td>0.0</td>\n",
       "      <td>0.0</td>\n",
       "      <td>0.0</td>\n",
       "      <td>0.0</td>\n",
       "      <td>0.0</td>\n",
       "    </tr>\n",
       "    <tr>\n",
       "      <th>675</th>\n",
       "      <td>WFA</td>\n",
       "      <td>2017</td>\n",
       "      <td>37072.0</td>\n",
       "      <td>3018.0</td>\n",
       "      <td>3146.0</td>\n",
       "      <td>2782.0</td>\n",
       "      <td>2992.0</td>\n",
       "      <td>955.0</td>\n",
       "      <td>0.0</td>\n",
       "      <td>0.0</td>\n",
       "      <td>0.0</td>\n",
       "      <td>0.0</td>\n",
       "      <td>0.0</td>\n",
       "    </tr>\n",
       "    <tr>\n",
       "      <th>676</th>\n",
       "      <td>WFA</td>\n",
       "      <td>2018</td>\n",
       "      <td>27185.0</td>\n",
       "      <td>2334.0</td>\n",
       "      <td>2557.0</td>\n",
       "      <td>2806.0</td>\n",
       "      <td>11127.0</td>\n",
       "      <td>2401.0</td>\n",
       "      <td>0.0</td>\n",
       "      <td>0.0</td>\n",
       "      <td>0.0</td>\n",
       "      <td>0.0</td>\n",
       "      <td>0.0</td>\n",
       "    </tr>\n",
       "    <tr>\n",
       "      <th>677</th>\n",
       "      <td>WFA</td>\n",
       "      <td>2019</td>\n",
       "      <td>20353.0</td>\n",
       "      <td>2030.0</td>\n",
       "      <td>7454.0</td>\n",
       "      <td>1389.0</td>\n",
       "      <td>8549.0</td>\n",
       "      <td>3579.0</td>\n",
       "      <td>0.0</td>\n",
       "      <td>0.0</td>\n",
       "      <td>0.0</td>\n",
       "      <td>0.0</td>\n",
       "      <td>0.0</td>\n",
       "    </tr>\n",
       "  </tbody>\n",
       "</table>\n",
       "<p>678 rows × 13 columns</p>\n",
       "</div>"
      ],
      "text/plain": [
       "     Dam  Year  ChinookAdult  ChinookJack  CohoAdult  CohoJack  Steelhead  \\\n",
       "0    BON  1938      271799.0          0.0    15174.0       0.0   107003.0   \n",
       "1    BON  1939      286156.0          0.0    14383.0       0.0   121932.0   \n",
       "2    BON  1940      391573.0          0.0    11870.0       0.0   185161.0   \n",
       "3    BON  1941      461443.0          0.0    17911.0       0.0   118087.0   \n",
       "4    BON  1942      401998.0          0.0    12401.0       0.0   151395.0   \n",
       "..   ...   ...           ...          ...        ...       ...        ...   \n",
       "673  WFA  2015       53979.0       3064.0     2651.0     923.0     8280.0   \n",
       "674  WFA  2016       31358.0       2383.0     2559.0    1991.0    27503.0   \n",
       "675  WFA  2017       37072.0       3018.0     3146.0    2782.0     2992.0   \n",
       "676  WFA  2018       27185.0       2334.0     2557.0    2806.0    11127.0   \n",
       "677  WFA  2019       20353.0       2030.0     7454.0    1389.0     8549.0   \n",
       "\n",
       "     UnclippedSteelhead   Sockeye  Pink    Chum  Lamprey  Shad  \n",
       "0                   0.0   75029.0   0.0  2114.0      0.0   0.0  \n",
       "1                   0.0   73382.0   0.0  1147.0      0.0   0.0  \n",
       "2                   0.0  148805.0   0.0  1729.0      0.0   0.0  \n",
       "3                   0.0   65741.0   4.0  5269.0      0.0   0.0  \n",
       "4                   0.0   55474.0  11.0  1865.0      0.0   0.0  \n",
       "..                  ...       ...   ...     ...      ...   ...  \n",
       "673                 0.0       0.0   0.0     0.0      0.0   0.0  \n",
       "674                 0.0       0.0   0.0     0.0      0.0   0.0  \n",
       "675               955.0       0.0   0.0     0.0      0.0   0.0  \n",
       "676              2401.0       0.0   0.0     0.0      0.0   0.0  \n",
       "677              3579.0       0.0   0.0     0.0      0.0   0.0  \n",
       "\n",
       "[678 rows x 13 columns]"
      ]
     },
     "execution_count": 4,
     "metadata": {},
     "output_type": "execute_result"
    }
   ],
   "source": [
    "#Next is to concat the list of dataframes\n",
    "raw_fish_df = pd.concat(fish_list, axis=0, ignore_index=False)\n",
    "dam_fish_df = raw_fish_df.reset_index()\n",
    "dam_fish_df"
   ]
  },
  {
   "cell_type": "code",
   "execution_count": 5,
   "metadata": {},
   "outputs": [
    {
     "data": {
      "text/html": [
       "<div>\n",
       "<style scoped>\n",
       "    .dataframe tbody tr th:only-of-type {\n",
       "        vertical-align: middle;\n",
       "    }\n",
       "\n",
       "    .dataframe tbody tr th {\n",
       "        vertical-align: top;\n",
       "    }\n",
       "\n",
       "    .dataframe thead th {\n",
       "        text-align: right;\n",
       "    }\n",
       "</style>\n",
       "<table border=\"1\" class=\"dataframe\">\n",
       "  <thead>\n",
       "    <tr style=\"text-align: right;\">\n",
       "      <th></th>\n",
       "      <th>Year</th>\n",
       "      <th>Dam</th>\n",
       "      <th>ChinookAdult</th>\n",
       "    </tr>\n",
       "  </thead>\n",
       "  <tbody>\n",
       "    <tr>\n",
       "      <th>0</th>\n",
       "      <td>1938</td>\n",
       "      <td>BON</td>\n",
       "      <td>271799.0</td>\n",
       "    </tr>\n",
       "    <tr>\n",
       "      <th>1</th>\n",
       "      <td>1939</td>\n",
       "      <td>BON</td>\n",
       "      <td>286156.0</td>\n",
       "    </tr>\n",
       "    <tr>\n",
       "      <th>2</th>\n",
       "      <td>1940</td>\n",
       "      <td>BON</td>\n",
       "      <td>391573.0</td>\n",
       "    </tr>\n",
       "    <tr>\n",
       "      <th>3</th>\n",
       "      <td>1941</td>\n",
       "      <td>BON</td>\n",
       "      <td>461443.0</td>\n",
       "    </tr>\n",
       "    <tr>\n",
       "      <th>4</th>\n",
       "      <td>1942</td>\n",
       "      <td>BON</td>\n",
       "      <td>401998.0</td>\n",
       "    </tr>\n",
       "  </tbody>\n",
       "</table>\n",
       "</div>"
      ],
      "text/plain": [
       "   Year  Dam  ChinookAdult\n",
       "0  1938  BON      271799.0\n",
       "1  1939  BON      286156.0\n",
       "2  1940  BON      391573.0\n",
       "3  1941  BON      461443.0\n",
       "4  1942  BON      401998.0"
      ]
     },
     "execution_count": 5,
     "metadata": {},
     "output_type": "execute_result"
    }
   ],
   "source": [
    "chinookAdult_df = dam_fish_df[['Year','Dam','ChinookAdult']]\n",
    "chinookAdult_bon_df = chinookAdult_df[chinookAdult_df['Dam'] == 'BON']\n",
    "chinookAdult_bon_df.head()"
   ]
  },
  {
   "cell_type": "code",
   "execution_count": 6,
   "metadata": {},
   "outputs": [
    {
     "data": {
      "text/plain": [
       "<matplotlib.axes._subplots.AxesSubplot at 0x27134415f60>"
      ]
     },
     "execution_count": 6,
     "metadata": {},
     "output_type": "execute_result"
    },
    {
     "data": {
      "image/png": "[encoded data removed]",
      "text/plain": [
       "<Figure size 432x288 with 1 Axes>"
      ]
     },
     "metadata": {
      "needs_background": "light"
     },
     "output_type": "display_data"
    }
   ],
   "source": [
    "chinookAdult_bon_df.plot(kind='line',x='Year',y='ChinookAdult')"
   ]
  },
  {
   "cell_type": "code",
   "execution_count": 35,
   "metadata": {},
   "outputs": [
    {
     "data": {
      "text/html": [
       "<div>\n",
       "<style scoped>\n",
       "    .dataframe tbody tr th:only-of-type {\n",
       "        vertical-align: middle;\n",
       "    }\n",
       "\n",
       "    .dataframe tbody tr th {\n",
       "        vertical-align: top;\n",
       "    }\n",
       "\n",
       "    .dataframe thead th {\n",
       "        text-align: right;\n",
       "    }\n",
       "</style>\n",
       "<table border=\"1\" class=\"dataframe\">\n",
       "  <thead>\n",
       "    <tr style=\"text-align: right;\">\n",
       "      <th></th>\n",
       "      <th>Year</th>\n",
       "      <th>Dam</th>\n",
       "      <th>ChinookAdult</th>\n",
       "      <th>Steelhead</th>\n",
       "      <th>Sockeye</th>\n",
       "    </tr>\n",
       "  </thead>\n",
       "  <tbody>\n",
       "    <tr>\n",
       "      <th>552</th>\n",
       "      <td>1970</td>\n",
       "      <td>TDA</td>\n",
       "      <td>261430.0</td>\n",
       "      <td>74623.0</td>\n",
       "      <td>77678.0</td>\n",
       "    </tr>\n",
       "    <tr>\n",
       "      <th>553</th>\n",
       "      <td>1971</td>\n",
       "      <td>TDA</td>\n",
       "      <td>250528.0</td>\n",
       "      <td>151348.0</td>\n",
       "      <td>76103.0</td>\n",
       "    </tr>\n",
       "    <tr>\n",
       "      <th>554</th>\n",
       "      <td>1972</td>\n",
       "      <td>TDA</td>\n",
       "      <td>268628.0</td>\n",
       "      <td>135303.0</td>\n",
       "      <td>44671.0</td>\n",
       "    </tr>\n",
       "    <tr>\n",
       "      <th>555</th>\n",
       "      <td>1973</td>\n",
       "      <td>TDA</td>\n",
       "      <td>280945.0</td>\n",
       "      <td>100082.0</td>\n",
       "      <td>52303.0</td>\n",
       "    </tr>\n",
       "    <tr>\n",
       "      <th>556</th>\n",
       "      <td>1974</td>\n",
       "      <td>TDA</td>\n",
       "      <td>217181.0</td>\n",
       "      <td>70875.0</td>\n",
       "      <td>28827.0</td>\n",
       "    </tr>\n",
       "  </tbody>\n",
       "</table>\n",
       "</div>"
      ],
      "text/plain": [
       "     Year  Dam  ChinookAdult  Steelhead  Sockeye\n",
       "552  1970  TDA      261430.0    74623.0  77678.0\n",
       "553  1971  TDA      250528.0   151348.0  76103.0\n",
       "554  1972  TDA      268628.0   135303.0  44671.0\n",
       "555  1973  TDA      280945.0   100082.0  52303.0\n",
       "556  1974  TDA      217181.0    70875.0  28827.0"
      ]
     },
     "execution_count": 35,
     "metadata": {},
     "output_type": "execute_result"
    }
   ],
   "source": [
    "oftfrfbf_df = dam_fish_df[['Year','Dam','ChinookAdult','Steelhead','Sockeye']]\n",
    "year_to_int = {'Year':int}\n",
    "oftfrfbf_df = oftfrfbf_df.astype(year_to_int)\n",
    "oftfrfbf_70_df = oftfrfbf_df[oftfrfbf_df['Year'] >= 1970]\n",
    "oftfrfbf_bon_df = oftfrfbf_70_df[oftfrfbf_70_df['Dam'] == 'BON']\n",
    "oftfrfbf_mcn_df = oftfrfbf_70_df[oftfrfbf_70_df['Dam'] == 'MCN']\n",
    "oftfrfbf_jda_df = oftfrfbf_70_df[oftfrfbf_70_df['Dam'] == 'JDA']\n",
    "oftfrfbf_tda_df = oftfrfbf_70_df[oftfrfbf_70_df['Dam'] == 'TDA']\n",
    "\n",
    "#ftfrfbf_bon_df = oftfrfbf_bon_df.astype(year_to_int)\n",
    "oftfrfbf_tda_df.head()"
   ]
  },
  {
   "cell_type": "code",
   "execution_count": 36,
   "metadata": {},
   "outputs": [
    {
     "data": {
      "image/png": "[encoded data removed]",
      "text/plain": [
       "<Figure size 432x288 with 1 Axes>"
      ]
     },
     "metadata": {
      "needs_background": "light"
     },
     "output_type": "display_data"
    }
   ],
   "source": [
    "ax1 = oftfrfbf_bon_df.plot(kind='scatter', x='Year', y='ChinookAdult', color='r', label='ChinookAdult')\n",
    "ax2 = oftfrfbf_bon_df.plot(kind='scatter', x='Year', y='Steelhead', color='b',ax=ax1, label='Steelhead')\n",
    "ax3 = oftfrfbf_bon_df.plot(kind='scatter', x='Year', y='Sockeye', color='g',ax=ax1, label='Sockeye')\n",
    "#ax1.legend()"
   ]
  },
  {
   "cell_type": "code",
   "execution_count": 37,
   "metadata": {},
   "outputs": [
    {
     "data": {
      "image/png": "[encoded data removed]",
      "text/plain": [
       "<Figure size 432x288 with 1 Axes>"
      ]
     },
     "metadata": {
      "needs_background": "light"
     },
     "output_type": "display_data"
    }
   ],
   "source": [
    "ax1 = oftfrfbf_mcn_df.plot(kind='scatter', x='Year', y='ChinookAdult', color='r', label='ChinookAdult')\n",
    "ax2 = oftfrfbf_mcn_df.plot(kind='scatter', x='Year', y='Steelhead', color='b',ax=ax1, label='Steelhead')\n",
    "ax3 = oftfrfbf_mcn_df.plot(kind='scatter', x='Year', y='Sockeye', color='g',ax=ax1, label='Sockeye')"
   ]
  },
  {
   "cell_type": "code",
   "execution_count": 38,
   "metadata": {},
   "outputs": [
    {
     "data": {
      "image/png": "[encoded data removed]",
      "text/plain": [
       "<Figure size 432x288 with 1 Axes>"
      ]
     },
     "metadata": {
      "needs_background": "light"
     },
     "output_type": "display_data"
    }
   ],
   "source": [
    "ax1 = oftfrfbf_jda_df.plot(kind='scatter', x='Year', y='ChinookAdult', color='r', label='ChinookAdult')\n",
    "ax2 = oftfrfbf_jda_df.plot(kind='scatter', x='Year', y='Steelhead', color='b',ax=ax1, label='Steelhead')\n",
    "ax3 = oftfrfbf_jda_df.plot(kind='scatter', x='Year', y='Sockeye', color='g',ax=ax1, label='Sockeye')"
   ]
  },
  {
   "cell_type": "code",
   "execution_count": 39,
   "metadata": {},
   "outputs": [
    {
     "data": {
      "image/png": "[encoded data removed]",
      "text/plain": [
       "<Figure size 432x288 with 1 Axes>"
      ]
     },
     "metadata": {
      "needs_background": "light"
     },
     "output_type": "display_data"
    }
   ],
   "source": [
    "ax1 = oftfrfbf_tda_df.plot(kind='scatter', x='Year', y='ChinookAdult', color='r', label='ChinookAdult')\n",
    "ax2 = oftfrfbf_tda_df.plot(kind='scatter', x='Year', y='Steelhead', color='b',ax=ax1, label='Steelhead')\n",
    "ax3 = oftfrfbf_tda_df.plot(kind='scatter', x='Year', y='Sockeye', color='g',ax=ax1, label='Sockeye')"
   ]
  },
  {
   "cell_type": "code",
   "execution_count": null,
   "metadata": {},
   "outputs": [],
   "source": []
  }
 ],
 "metadata": {
  "kernelspec": {
   "display_name": "Python 3",
   "language": "python",
   "name": "python3"
  },
  "language_info": {
   "codemirror_mode": {
    "name": "ipython",
    "version": 3
   },
   "file_extension": ".py",
   "mimetype": "text/x-python",
   "name": "python",
   "nbconvert_exporter": "python",
   "pygments_lexer": "ipython3",
   "version": "3.7.3"
  }
 },
 "nbformat": 4,
 "nbformat_minor": 4
}
