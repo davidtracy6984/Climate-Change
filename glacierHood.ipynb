{
 "cells": [
  {
   "cell_type": "code",
   "execution_count": null,
   "metadata": {},
   "outputs": [],
   "source": [
    "import numpy as np\n",
    "import pandas as pd\n",
    "import matplotlib.pyplot as plt\n",
    "import matplotlib as mp\n",
    "import os\n",
    "import csv\n",
    "import seaborn as sns\n",
    "sns.set()"
   ]
  },
  {
   "cell_type": "code",
   "execution_count": null,
   "metadata": {},
   "outputs": [],
   "source": [
    "fileHoodGlacier = \"Data/glacierHood.csv\"\n",
    "\n",
    "glacierHood_df = pd.read_csv(fileHoodGlacier)"
   ]
  },
  {
   "cell_type": "code",
   "execution_count": null,
   "metadata": {},
   "outputs": [],
   "source": [
    "glacierHood_df"
   ]
  },
  {
   "cell_type": "code",
   "execution_count": null,
   "metadata": {},
   "outputs": [],
   "source": [
    "glacierHood_df[\"1907 Area (km2)\"]"
   ]
  },
  {
   "cell_type": "code",
   "execution_count": null,
   "metadata": {},
   "outputs": [],
   "source": [
    "barWidth = 0.25\n",
    "\n",
    "plt.figure(figsize=(18,6))\n",
    "mp.rc('xtick', labelsize=16) \n",
    "mp.rc('ytick', labelsize=16) \n",
    "\n",
    "r1 = np.arange(len(glacierHood_df))\n",
    "r2 = [x + barWidth for x in r1]\n",
    "r3 = [x + barWidth for x in r2]\n",
    "\n",
    "plt.bar(r1, glacierHood_df[\"1907 Area (km2)\"], color='#7f6d5f', width=barWidth, edgecolor='white', label='1907 Area (km²)')\n",
    "plt.bar(r2, glacierHood_df[\"2004 Area (km2)\"], color='#557f2d', width=barWidth, edgecolor='white', label='2004 Area (km²)')\n",
    "plt.bar(r3, glacierHood_df[\"Loss (km2)\"], color='#2d7f5e', width=barWidth, edgecolor='white', label='Loss (km²)')\n",
    "\n",
    "plt.title(\"Mt Hood Glacial Area Reduction (km²)\", fontweight='bold', fontsize=20)\n",
    "plt.ylabel('Square Kilometers (km²)', fontweight='bold', fontsize=18)\n",
    "plt.xlabel('Mt. Hood Glaciers', fontweight='bold', fontsize=18)\n",
    "plt.xticks([r + barWidth for r in range(len(glacierHood_df))], glacierHood_df['Glacier Name'], rotation=45)\n",
    "\n",
    "plt.legend(fontsize=18)\n",
    "plt.savefig('imagesTravis/glacierChange.png', bbox_inches=\"tight\", pad_inches=0.2)\n",
    "plt.show()\n"
   ]
  },
  {
   "cell_type": "code",
   "execution_count": null,
   "metadata": {},
   "outputs": [],
   "source": []
  }
 ],
 "metadata": {
  "kernelspec": {
   "display_name": "Python 3",
   "language": "python",
   "name": "python3"
  },
  "language_info": {
   "codemirror_mode": {
    "name": "ipython",
    "version": 3
   },
   "file_extension": ".py",
   "mimetype": "text/x-python",
   "name": "python",
   "nbconvert_exporter": "python",
   "pygments_lexer": "ipython3",
   "version": "3.7.6"
  }
 },
 "nbformat": 4,
 "nbformat_minor": 4
}
