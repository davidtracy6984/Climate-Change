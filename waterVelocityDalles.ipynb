{
 "cells": [
  {
   "cell_type": "code",
   "execution_count": null,
   "metadata": {},
   "outputs": [],
   "source": [
    "import numpy as np\n",
    "import pandas as pd\n",
    "import matplotlib.pyplot as plt\n",
    "import matplotlib as mp\n",
    "import os\n",
    "import csv\n",
    "import seaborn as sns\n",
    "sns.set()"
   ]
  },
  {
   "cell_type": "code",
   "execution_count": null,
   "metadata": {},
   "outputs": [],
   "source": [
    "fileVelocityDalles = \"Data/velocityDalles.csv\"\n",
    "\n",
    "velocityDal_df = pd.read_csv(fileVelocityDalles)\n",
    "\n",
    "tempVelocityDal_df = pd.DataFrame(velocityDal_df[27:])\n"
   ]
  },
  {
   "cell_type": "code",
   "execution_count": null,
   "metadata": {},
   "outputs": [],
   "source": [
    "tempVelocityDal_df = tempVelocityDal_df.rename(columns={\"# ---------------------------------- WARNING ----------------------------------------\":\"Outfit\",\n",
    "                                                          \"Unnamed: 1\": \"Station ID\",\n",
    "                                                          \"Unnamed: 2\": \"Date/Time\",\n",
    "                                                          \"Unnamed: 3\": \"Timezone\",\n",
    "                                                          \"Unnamed: 4\": \"Mean Velocity (Ft./s)\",\n",
    "                                                          \"Unnamed: 5\": \"Approval Code\"}) \n",
    "\n",
    "new = tempVelocityDal_df[\"Date/Time\"].str.split(\" \", n=1, expand = True)\n",
    "\n",
    "tempVelocityDal_df[\"Date\"]= new[0]\n",
    "tempVelocityDal_df[\"Time\"]= new[1]\n",
    "\n",
    "#tempVelocityDal_df.drop(columns = [\"Date/Time\"], inplace = True)\n",
    "\n",
    "tempVelocityDal_df['Date'] = pd.to_datetime(tempVelocityDal_df['Date']).dt.strftime('%Y/%m/%d')\n"
   ]
  },
  {
   "cell_type": "code",
   "execution_count": null,
   "metadata": {},
   "outputs": [],
   "source": [
    "tempVelocityDal_df[\"Mean Velocity (Ft./s)\"] = tempVelocityDal_df[\"Mean Velocity (Ft./s)\"].astype(float)\n",
    "tempVelocityDal_df[\"Mean Velocity (m/s)\"] = tempVelocityDal_df[\"Mean Velocity (Ft./s)\"] * 0.3048\n",
    "\n",
    "#tempVelocityDal_df"
   ]
  },
  {
   "cell_type": "code",
   "execution_count": null,
   "metadata": {},
   "outputs": [],
   "source": [
    "eventDate = tempVelocityDal_df.groupby(\"Date\")\n",
    "\n",
    "dayAverageVel = eventDate[\"Mean Velocity (m/s)\"].mean()\n",
    "\n",
    "eventDate_df = pd.DataFrame({\"Velocity Average Columbia River (m/s)\": dayAverageVel})"
   ]
  },
  {
   "cell_type": "code",
   "execution_count": null,
   "metadata": {},
   "outputs": [],
   "source": [
    "eventDate_df[\"Time\"] = eventDate_df.index\n",
    "x_axis = np.arange(len(eventDate_df['Time']))\n",
    "tick_locations = [value for value in x_axis]\n",
    "labels = eventDate_df.index\n",
    "\n",
    "y = eventDate_df[\"Velocity Average Columbia River (m/s)\"]\n",
    "\n",
    "cm = mp.cm.get_cmap('ocean')\n",
    "\n",
    "plt.figure(figsize=(20,6))\n",
    "sc = plt.scatter(x_axis,y, c=y, cmap=cm)\n",
    "plt.xticks(tick_locations[::10], labels[::10], rotation=45)\n",
    "plt.colorbar(sc)\n",
    "plt.xlabel(\"Date\", fontsize=18) \n",
    "plt.ylabel(\"Mean Velocity (m/s)\", fontsize=18)              \n",
    "plt.title('Mean Velocity of Columbia River Dalles, OR', fontsize=18)        \n",
    "mp.rc('xtick', labelsize=18) \n",
    "mp.rc('ytick', labelsize=18)            \n",
    "plt.savefig('imagesTravis/velocityColumbia.png', bbox_inches=\"tight\", pad_inches=0.2)\n",
    "plt.show()"
   ]
  },
  {
   "cell_type": "code",
   "execution_count": null,
   "metadata": {},
   "outputs": [],
   "source": []
  }
 ],
 "metadata": {
  "kernelspec": {
   "display_name": "Python 3",
   "language": "python",
   "name": "python3"
  },
  "language_info": {
   "codemirror_mode": {
    "name": "ipython",
    "version": 3
   },
   "file_extension": ".py",
   "mimetype": "text/x-python",
   "name": "python",
   "nbconvert_exporter": "python",
   "pygments_lexer": "ipython3",
   "version": "3.7.6"
  }
 },
 "nbformat": 4,
 "nbformat_minor": 4
}
