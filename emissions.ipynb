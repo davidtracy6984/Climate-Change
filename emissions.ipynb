{
 "cells": [
  {
   "cell_type": "code",
   "execution_count": null,
   "metadata": {},
   "outputs": [],
   "source": [
    "import numpy as np\n",
    "import pandas as pd\n",
    "import matplotlib.pyplot as plt\n",
    "import plotly.graph_objects as go\n",
    "\n"
   ]
  },
  {
   "cell_type": "code",
   "execution_count": null,
   "metadata": {},
   "outputs": [],
   "source": [
    "fileEmission = \"Data/emissionsData.csv\"\n",
    "\n",
    "file_df = pd.read_csv(fileEmission)\n",
    "\n",
    "emissions_df = file_df[2:]\n",
    "#emissions_df"
   ]
  },
  {
   "cell_type": "code",
   "execution_count": null,
   "metadata": {},
   "outputs": [],
   "source": [
    "cleaned_df = emissions_df\n",
    "\n",
    "temp1 = cleaned_df['Unnamed: 28']\n",
    "\n",
    "temp2 = temp1.dropna()"
   ]
  },
  {
   "cell_type": "code",
   "execution_count": null,
   "metadata": {},
   "outputs": [],
   "source": [
    "totals_df = temp2.drop([10,53,54,55])"
   ]
  },
  {
   "cell_type": "code",
   "execution_count": null,
   "metadata": {},
   "outputs": [],
   "source": [
    "states = emissions_df['Table 1. State emissions by year (1990 - 2017)']\n",
    "temp3 = states.drop([10,53,54,55,56,57,58,59])\n",
    "states_df = temp3\n",
    "states_df"
   ]
  },
  {
   "cell_type": "code",
   "execution_count": null,
   "metadata": {},
   "outputs": [],
   "source": [
    "\n",
    "valueCounts = totals_df.astype('int')\n",
    "\n",
    "states = states_df.astype('string')\n",
    "\n",
    "statename_to_abbr = {\n",
    "    \n",
    "    # States\n",
    "    'Alabama': 'AL',\n",
    "    'Montana': 'MT',\n",
    "    'Alaska': 'AK',\n",
    "    'Nebraska': 'NE',\n",
    "    'Arizona': 'AZ',\n",
    "    'Nevada': 'NV',\n",
    "    'Arkansas': 'AR',\n",
    "    'New Hampshire': 'NH',\n",
    "    'California': 'CA',\n",
    "    'New Jersey': 'NJ',\n",
    "    'Colorado': 'CO',\n",
    "    'New Mexico': 'NM',\n",
    "    'Connecticut': 'CT',\n",
    "    'New York': 'NY',\n",
    "    'Delaware': 'DE',\n",
    "    'North Carolina': 'NC',\n",
    "    'Florida': 'FL',\n",
    "    'North Dakota': 'ND',\n",
    "    'Georgia': 'GA',\n",
    "    'Ohio': 'OH',\n",
    "    'Hawaii': 'HI',\n",
    "    'Oklahoma': 'OK',\n",
    "    'Idaho': 'ID',\n",
    "    'Oregon': 'OR',\n",
    "    'Illinois': 'IL',\n",
    "    'Pennsylvania': 'PA',\n",
    "    'Indiana': 'IN',\n",
    "    'Rhode Island': 'RI',\n",
    "    'Iowa': 'IA',\n",
    "    'South Carolina': 'SC',\n",
    "    'Kansas': 'KS',\n",
    "    'South Dakota': 'SD',\n",
    "    'Kentucky': 'KY',\n",
    "    'Tennessee': 'TN',\n",
    "    'Louisiana': 'LA',\n",
    "    'Texas': 'TX',\n",
    "    'Maine': 'ME',\n",
    "    'Utah': 'UT',\n",
    "    'Maryland': 'MD',\n",
    "    'Vermont': 'VT',\n",
    "    'Massachusetts': 'MA',\n",
    "    'Virginia': 'VA',\n",
    "    'Michigan': 'MI',\n",
    "    'Washington': 'WA',\n",
    "    'Minnesota': 'MN',\n",
    "    'West Virginia': 'WV',\n",
    "    'Mississippi': 'MS',\n",
    "    'Wisconsin': 'WI',\n",
    "    'Missouri': 'MO',\n",
    "    'Wyoming': 'WY',\n",
    "}\n",
    "\n",
    "    \n",
    "\n",
    "new_df = pd.DataFrame({\"states\": states, \"totals\": valueCounts})\n",
    "new_df['stateABB'] = statename_to_abbr.values()\n",
    "\n",
    "new_df.sort_values('stateABB')\n"
   ]
  },
  {
   "cell_type": "code",
   "execution_count": null,
   "metadata": {},
   "outputs": [],
   "source": []
  },
  {
   "cell_type": "code",
   "execution_count": null,
   "metadata": {
    "scrolled": true
   },
   "outputs": [],
   "source": [
    "fig = go.Figure(data=go.Choropleth(locations = new_df['stateABB'], z = new_df['totals'], locationmode = 'USA-states', \n",
    "                                   colorscale = 'Greens', colorbar_title = \"Emissions\",))\n",
    "fig.update_layout(title_text = 'Emissions by State 2017 (Million Metric Tons of Carbon)', geo_scope='usa') \n",
    "    \n",
    "plt.savefig('imagesTravis/emissions.png', bbox_inches=\"tight\", pad_inches=0.2)\n",
    "fig.show()"
   ]
  },
  {
   "cell_type": "code",
   "execution_count": null,
   "metadata": {},
   "outputs": [],
   "source": []
  }
 ],
 "metadata": {
  "kernelspec": {
   "display_name": "Python 3",
   "language": "python",
   "name": "python3"
  },
  "language_info": {
   "codemirror_mode": {
    "name": "ipython",
    "version": 3
   },
   "file_extension": ".py",
   "mimetype": "text/x-python",
   "name": "python",
   "nbconvert_exporter": "python",
   "pygments_lexer": "ipython3",
   "version": "3.7.6"
  }
 },
 "nbformat": 4,
 "nbformat_minor": 4
}
