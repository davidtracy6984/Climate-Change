{
 "cells": [
  {
   "cell_type": "code",
   "execution_count": 1,
   "metadata": {
    "slideshow": {
     "slide_type": "-"
    }
   },
   "outputs": [],
   "source": [
    "#Import Dependencies\n",
    "import pandas as pd\n",
    "import matplotlib.pyplot as plt\n",
    "import numpy as np\n",
    "import plotly.graph_objects as go\n",
    "#import plotly\n",
    "import seaborn as sns\n",
    "sns.set()\n",
    "import zipfile"
   ]
  },
  {
   "cell_type": "markdown",
   "metadata": {
    "slideshow": {
     "slide_type": "-"
    }
   },
   "source": [
    "<img src=\"images/dave1.jpg\" />"
   ]
  },
  {
   "cell_type": "markdown",
   "metadata": {},
   "source": [
    "<img src=\"images/dave2.jpg\" />"
   ]
  },
  {
   "cell_type": "markdown",
   "metadata": {},
   "source": [
    "<img src=\"images/dave3.jpg\" />"
   ]
  },
  {
   "cell_type": "markdown",
   "metadata": {},
   "source": [
    "<img src=\"images/dave4.jpg\" />"
   ]
  },
  {
   "cell_type": "code",
   "execution_count": 59,
   "metadata": {},
   "outputs": [],
   "source": [
    "zf = zipfile.ZipFile('DATA/Impaired_data.zip') \n",
    "total_imp_df = pd.read_csv(zf.open('Impaired_data.csv'))\n",
    "total_imp_df"
   ]
  },
  {
   "cell_type": "code",
   "execution_count": 96,
   "metadata": {},
   "outputs": [
    {
     "data": {
      "text/html": [
       "<div>\n",
       "<style scoped>\n",
       "    .dataframe tbody tr th:only-of-type {\n",
       "        vertical-align: middle;\n",
       "    }\n",
       "\n",
       "    .dataframe tbody tr th {\n",
       "        vertical-align: top;\n",
       "    }\n",
       "\n",
       "    .dataframe thead th {\n",
       "        text-align: right;\n",
       "    }\n",
       "</style>\n",
       "<table border=\"1\" class=\"dataframe\">\n",
       "  <thead>\n",
       "    <tr style=\"text-align: right;\">\n",
       "      <th></th>\n",
       "      <th>ID</th>\n",
       "      <th>ASSESSMENT_UNIT_ID</th>\n",
       "      <th>ASSESSMENT_UNIT_ID_ORIG</th>\n",
       "      <th>CYCLE_YEAR</th>\n",
       "      <th>IR_STATUS</th>\n",
       "      <th>AU_WATERBODY_REPORT</th>\n",
       "      <th>ASSESSMENT_UNIT_NAME</th>\n",
       "      <th>ASSESSMENT_STATUS</th>\n",
       "      <th>ASSESSMENT_UNIT_EPA_CATEGORY</th>\n",
       "      <th>CYCLE_LAST_ASSESSED</th>\n",
       "      <th>...</th>\n",
       "      <th>LW_DETAILED_CAUSE_ID</th>\n",
       "      <th>LW_DETAILED_CAUSE_NAME</th>\n",
       "      <th>LW_PARENT_CAUSE_ID</th>\n",
       "      <th>LW_PARENT_CAUSE_NAME</th>\n",
       "      <th>LW_DETAILED_SOURCE_ID</th>\n",
       "      <th>LW_DETAILED_SOURCE_NAME</th>\n",
       "      <th>LW_PARENT_SOURCE_ID</th>\n",
       "      <th>LW_PARENT_SOURCE_NAME</th>\n",
       "      <th>TMDL_FLAG</th>\n",
       "      <th>EPA2_SNAPSHOT_DATE</th>\n",
       "    </tr>\n",
       "    <tr>\n",
       "      <th>STATE</th>\n",
       "      <th></th>\n",
       "      <th></th>\n",
       "      <th></th>\n",
       "      <th></th>\n",
       "      <th></th>\n",
       "      <th></th>\n",
       "      <th></th>\n",
       "      <th></th>\n",
       "      <th></th>\n",
       "      <th></th>\n",
       "      <th></th>\n",
       "      <th></th>\n",
       "      <th></th>\n",
       "      <th></th>\n",
       "      <th></th>\n",
       "      <th></th>\n",
       "      <th></th>\n",
       "      <th></th>\n",
       "      <th></th>\n",
       "      <th></th>\n",
       "      <th></th>\n",
       "    </tr>\n",
       "  </thead>\n",
       "  <tbody>\n",
       "    <tr>\n",
       "      <td>AK</td>\n",
       "      <td>1</td>\n",
       "      <td>AK-10102-601_00</td>\n",
       "      <td>AK-10102-601_00</td>\n",
       "      <td>2008</td>\n",
       "      <td>Y</td>\n",
       "      <td>http://ofmpub.epa.gov/waters10/attains_waterbo...</td>\n",
       "      <td>Ward Cove (1)</td>\n",
       "      <td>IMPAIRED</td>\n",
       "      <td>4A</td>\n",
       "      <td>Jan</td>\n",
       "      <td>...</td>\n",
       "      <td>NaN</td>\n",
       "      <td>NaN</td>\n",
       "      <td>NaN</td>\n",
       "      <td>NaN</td>\n",
       "      <td>NaN</td>\n",
       "      <td>NaN</td>\n",
       "      <td>NaN</td>\n",
       "      <td>NaN</td>\n",
       "      <td>NaN</td>\n",
       "      <td>NaN</td>\n",
       "    </tr>\n",
       "    <tr>\n",
       "      <td>AK</td>\n",
       "      <td>2</td>\n",
       "      <td>AK-10102-601_00</td>\n",
       "      <td>AK-10102-601_00</td>\n",
       "      <td>2008</td>\n",
       "      <td>Y</td>\n",
       "      <td>http://ofmpub.epa.gov/waters10/attains_waterbo...</td>\n",
       "      <td>Ward Cove (1)</td>\n",
       "      <td>IMPAIRED</td>\n",
       "      <td>4A</td>\n",
       "      <td>Jan</td>\n",
       "      <td>...</td>\n",
       "      <td>NaN</td>\n",
       "      <td>NaN</td>\n",
       "      <td>NaN</td>\n",
       "      <td>NaN</td>\n",
       "      <td>NaN</td>\n",
       "      <td>NaN</td>\n",
       "      <td>NaN</td>\n",
       "      <td>NaN</td>\n",
       "      <td>NaN</td>\n",
       "      <td>NaN</td>\n",
       "    </tr>\n",
       "    <tr>\n",
       "      <td>AK</td>\n",
       "      <td>3</td>\n",
       "      <td>AK-10102-601_00</td>\n",
       "      <td>AK-10102-601_00</td>\n",
       "      <td>2008</td>\n",
       "      <td>Y</td>\n",
       "      <td>http://ofmpub.epa.gov/waters10/attains_waterbo...</td>\n",
       "      <td>Ward Cove (1)</td>\n",
       "      <td>IMPAIRED</td>\n",
       "      <td>4A</td>\n",
       "      <td>Jan</td>\n",
       "      <td>...</td>\n",
       "      <td>NaN</td>\n",
       "      <td>NaN</td>\n",
       "      <td>NaN</td>\n",
       "      <td>NaN</td>\n",
       "      <td>NaN</td>\n",
       "      <td>NaN</td>\n",
       "      <td>NaN</td>\n",
       "      <td>NaN</td>\n",
       "      <td>NaN</td>\n",
       "      <td>NaN</td>\n",
       "    </tr>\n",
       "    <tr>\n",
       "      <td>AK</td>\n",
       "      <td>4</td>\n",
       "      <td>AK-10102-601_00</td>\n",
       "      <td>AK-10102-601_00</td>\n",
       "      <td>2008</td>\n",
       "      <td>Y</td>\n",
       "      <td>http://ofmpub.epa.gov/waters10/attains_waterbo...</td>\n",
       "      <td>Ward Cove (1)</td>\n",
       "      <td>IMPAIRED</td>\n",
       "      <td>4A</td>\n",
       "      <td>Jan</td>\n",
       "      <td>...</td>\n",
       "      <td>NaN</td>\n",
       "      <td>NaN</td>\n",
       "      <td>NaN</td>\n",
       "      <td>NaN</td>\n",
       "      <td>NaN</td>\n",
       "      <td>NaN</td>\n",
       "      <td>NaN</td>\n",
       "      <td>NaN</td>\n",
       "      <td>NaN</td>\n",
       "      <td>NaN</td>\n",
       "    </tr>\n",
       "    <tr>\n",
       "      <td>AK</td>\n",
       "      <td>5</td>\n",
       "      <td>AK-10102-601_00</td>\n",
       "      <td>AK-10102-601_00</td>\n",
       "      <td>2008</td>\n",
       "      <td>Y</td>\n",
       "      <td>http://ofmpub.epa.gov/waters10/attains_waterbo...</td>\n",
       "      <td>Ward Cove (1)</td>\n",
       "      <td>IMPAIRED</td>\n",
       "      <td>4A</td>\n",
       "      <td>Jan</td>\n",
       "      <td>...</td>\n",
       "      <td>NaN</td>\n",
       "      <td>NaN</td>\n",
       "      <td>NaN</td>\n",
       "      <td>NaN</td>\n",
       "      <td>NaN</td>\n",
       "      <td>NaN</td>\n",
       "      <td>NaN</td>\n",
       "      <td>NaN</td>\n",
       "      <td>NaN</td>\n",
       "      <td>NaN</td>\n",
       "    </tr>\n",
       "    <tr>\n",
       "      <td>...</td>\n",
       "      <td>...</td>\n",
       "      <td>...</td>\n",
       "      <td>...</td>\n",
       "      <td>...</td>\n",
       "      <td>...</td>\n",
       "      <td>...</td>\n",
       "      <td>...</td>\n",
       "      <td>...</td>\n",
       "      <td>...</td>\n",
       "      <td>...</td>\n",
       "      <td>...</td>\n",
       "      <td>...</td>\n",
       "      <td>...</td>\n",
       "      <td>...</td>\n",
       "      <td>...</td>\n",
       "      <td>...</td>\n",
       "      <td>...</td>\n",
       "      <td>...</td>\n",
       "      <td>...</td>\n",
       "      <td>...</td>\n",
       "      <td>...</td>\n",
       "    </tr>\n",
       "    <tr>\n",
       "      <td>WY</td>\n",
       "      <td>378887</td>\n",
       "      <td>WYYR100700060304_01</td>\n",
       "      <td>WYYR100700060304_01</td>\n",
       "      <td>2012</td>\n",
       "      <td>Y</td>\n",
       "      <td>http://ofmpub.epa.gov/waters10/attains_waterbo...</td>\n",
       "      <td>Dead Indian Creek</td>\n",
       "      <td>GOOD</td>\n",
       "      <td>2</td>\n",
       "      <td>NaN</td>\n",
       "      <td>...</td>\n",
       "      <td>NaN</td>\n",
       "      <td>NaN</td>\n",
       "      <td>NaN</td>\n",
       "      <td>NaN</td>\n",
       "      <td>NaN</td>\n",
       "      <td>NaN</td>\n",
       "      <td>NaN</td>\n",
       "      <td>NaN</td>\n",
       "      <td>NaN</td>\n",
       "      <td>NaN</td>\n",
       "    </tr>\n",
       "    <tr>\n",
       "      <td>WY</td>\n",
       "      <td>378888</td>\n",
       "      <td>WYYR100700060304_01</td>\n",
       "      <td>WYYR100700060304_01</td>\n",
       "      <td>2012</td>\n",
       "      <td>Y</td>\n",
       "      <td>http://ofmpub.epa.gov/waters10/attains_waterbo...</td>\n",
       "      <td>Dead Indian Creek</td>\n",
       "      <td>GOOD</td>\n",
       "      <td>2</td>\n",
       "      <td>NaN</td>\n",
       "      <td>...</td>\n",
       "      <td>NaN</td>\n",
       "      <td>NaN</td>\n",
       "      <td>NaN</td>\n",
       "      <td>NaN</td>\n",
       "      <td>NaN</td>\n",
       "      <td>NaN</td>\n",
       "      <td>NaN</td>\n",
       "      <td>NaN</td>\n",
       "      <td>NaN</td>\n",
       "      <td>NaN</td>\n",
       "    </tr>\n",
       "    <tr>\n",
       "      <td>WY</td>\n",
       "      <td>378889</td>\n",
       "      <td>WYYR100700060304_01</td>\n",
       "      <td>WYYR100700060304_01</td>\n",
       "      <td>2012</td>\n",
       "      <td>Y</td>\n",
       "      <td>http://ofmpub.epa.gov/waters10/attains_waterbo...</td>\n",
       "      <td>Dead Indian Creek</td>\n",
       "      <td>GOOD</td>\n",
       "      <td>2</td>\n",
       "      <td>NaN</td>\n",
       "      <td>...</td>\n",
       "      <td>NaN</td>\n",
       "      <td>NaN</td>\n",
       "      <td>NaN</td>\n",
       "      <td>NaN</td>\n",
       "      <td>NaN</td>\n",
       "      <td>NaN</td>\n",
       "      <td>NaN</td>\n",
       "      <td>NaN</td>\n",
       "      <td>NaN</td>\n",
       "      <td>NaN</td>\n",
       "    </tr>\n",
       "    <tr>\n",
       "      <td>WY</td>\n",
       "      <td>378890</td>\n",
       "      <td>WYYR100700060304_01</td>\n",
       "      <td>WYYR100700060304_01</td>\n",
       "      <td>2012</td>\n",
       "      <td>Y</td>\n",
       "      <td>http://ofmpub.epa.gov/waters10/attains_waterbo...</td>\n",
       "      <td>Dead Indian Creek</td>\n",
       "      <td>GOOD</td>\n",
       "      <td>2</td>\n",
       "      <td>NaN</td>\n",
       "      <td>...</td>\n",
       "      <td>NaN</td>\n",
       "      <td>NaN</td>\n",
       "      <td>NaN</td>\n",
       "      <td>NaN</td>\n",
       "      <td>NaN</td>\n",
       "      <td>NaN</td>\n",
       "      <td>NaN</td>\n",
       "      <td>NaN</td>\n",
       "      <td>NaN</td>\n",
       "      <td>NaN</td>\n",
       "    </tr>\n",
       "    <tr>\n",
       "      <td>WY</td>\n",
       "      <td>378891</td>\n",
       "      <td>WYYR100700060304_01</td>\n",
       "      <td>WYYR100700060304_01</td>\n",
       "      <td>2012</td>\n",
       "      <td>Y</td>\n",
       "      <td>http://ofmpub.epa.gov/waters10/attains_waterbo...</td>\n",
       "      <td>Dead Indian Creek</td>\n",
       "      <td>GOOD</td>\n",
       "      <td>2</td>\n",
       "      <td>NaN</td>\n",
       "      <td>...</td>\n",
       "      <td>NaN</td>\n",
       "      <td>NaN</td>\n",
       "      <td>NaN</td>\n",
       "      <td>NaN</td>\n",
       "      <td>NaN</td>\n",
       "      <td>NaN</td>\n",
       "      <td>NaN</td>\n",
       "      <td>NaN</td>\n",
       "      <td>NaN</td>\n",
       "      <td>NaN</td>\n",
       "    </tr>\n",
       "  </tbody>\n",
       "</table>\n",
       "<p>539329 rows × 33 columns</p>\n",
       "</div>"
      ],
      "text/plain": [
       "           ID   ASSESSMENT_UNIT_ID ASSESSMENT_UNIT_ID_ORIG  CYCLE_YEAR  \\\n",
       "STATE                                                                    \n",
       "AK          1      AK-10102-601_00         AK-10102-601_00        2008   \n",
       "AK          2      AK-10102-601_00         AK-10102-601_00        2008   \n",
       "AK          3      AK-10102-601_00         AK-10102-601_00        2008   \n",
       "AK          4      AK-10102-601_00         AK-10102-601_00        2008   \n",
       "AK          5      AK-10102-601_00         AK-10102-601_00        2008   \n",
       "...       ...                  ...                     ...         ...   \n",
       "WY     378887  WYYR100700060304_01     WYYR100700060304_01        2012   \n",
       "WY     378888  WYYR100700060304_01     WYYR100700060304_01        2012   \n",
       "WY     378889  WYYR100700060304_01     WYYR100700060304_01        2012   \n",
       "WY     378890  WYYR100700060304_01     WYYR100700060304_01        2012   \n",
       "WY     378891  WYYR100700060304_01     WYYR100700060304_01        2012   \n",
       "\n",
       "      IR_STATUS                                AU_WATERBODY_REPORT  \\\n",
       "STATE                                                                \n",
       "AK            Y  http://ofmpub.epa.gov/waters10/attains_waterbo...   \n",
       "AK            Y  http://ofmpub.epa.gov/waters10/attains_waterbo...   \n",
       "AK            Y  http://ofmpub.epa.gov/waters10/attains_waterbo...   \n",
       "AK            Y  http://ofmpub.epa.gov/waters10/attains_waterbo...   \n",
       "AK            Y  http://ofmpub.epa.gov/waters10/attains_waterbo...   \n",
       "...         ...                                                ...   \n",
       "WY            Y  http://ofmpub.epa.gov/waters10/attains_waterbo...   \n",
       "WY            Y  http://ofmpub.epa.gov/waters10/attains_waterbo...   \n",
       "WY            Y  http://ofmpub.epa.gov/waters10/attains_waterbo...   \n",
       "WY            Y  http://ofmpub.epa.gov/waters10/attains_waterbo...   \n",
       "WY            Y  http://ofmpub.epa.gov/waters10/attains_waterbo...   \n",
       "\n",
       "      ASSESSMENT_UNIT_NAME ASSESSMENT_STATUS ASSESSMENT_UNIT_EPA_CATEGORY  \\\n",
       "STATE                                                                       \n",
       "AK           Ward Cove (1)          IMPAIRED                           4A   \n",
       "AK           Ward Cove (1)          IMPAIRED                           4A   \n",
       "AK           Ward Cove (1)          IMPAIRED                           4A   \n",
       "AK           Ward Cove (1)          IMPAIRED                           4A   \n",
       "AK           Ward Cove (1)          IMPAIRED                           4A   \n",
       "...                    ...               ...                          ...   \n",
       "WY       Dead Indian Creek              GOOD                            2   \n",
       "WY       Dead Indian Creek              GOOD                            2   \n",
       "WY       Dead Indian Creek              GOOD                            2   \n",
       "WY       Dead Indian Creek              GOOD                            2   \n",
       "WY       Dead Indian Creek              GOOD                            2   \n",
       "\n",
       "      CYCLE_LAST_ASSESSED  ...  LW_DETAILED_CAUSE_ID LW_DETAILED_CAUSE_NAME  \\\n",
       "STATE                      ...                                                \n",
       "AK                    Jan  ...                   NaN                    NaN   \n",
       "AK                    Jan  ...                   NaN                    NaN   \n",
       "AK                    Jan  ...                   NaN                    NaN   \n",
       "AK                    Jan  ...                   NaN                    NaN   \n",
       "AK                    Jan  ...                   NaN                    NaN   \n",
       "...                   ...  ...                   ...                    ...   \n",
       "WY                    NaN  ...                   NaN                    NaN   \n",
       "WY                    NaN  ...                   NaN                    NaN   \n",
       "WY                    NaN  ...                   NaN                    NaN   \n",
       "WY                    NaN  ...                   NaN                    NaN   \n",
       "WY                    NaN  ...                   NaN                    NaN   \n",
       "\n",
       "       LW_PARENT_CAUSE_ID LW_PARENT_CAUSE_NAME LW_DETAILED_SOURCE_ID  \\\n",
       "STATE                                                                  \n",
       "AK                    NaN                  NaN                   NaN   \n",
       "AK                    NaN                  NaN                   NaN   \n",
       "AK                    NaN                  NaN                   NaN   \n",
       "AK                    NaN                  NaN                   NaN   \n",
       "AK                    NaN                  NaN                   NaN   \n",
       "...                   ...                  ...                   ...   \n",
       "WY                    NaN                  NaN                   NaN   \n",
       "WY                    NaN                  NaN                   NaN   \n",
       "WY                    NaN                  NaN                   NaN   \n",
       "WY                    NaN                  NaN                   NaN   \n",
       "WY                    NaN                  NaN                   NaN   \n",
       "\n",
       "      LW_DETAILED_SOURCE_NAME LW_PARENT_SOURCE_ID LW_PARENT_SOURCE_NAME  \\\n",
       "STATE                                                                     \n",
       "AK                        NaN                 NaN                   NaN   \n",
       "AK                        NaN                 NaN                   NaN   \n",
       "AK                        NaN                 NaN                   NaN   \n",
       "AK                        NaN                 NaN                   NaN   \n",
       "AK                        NaN                 NaN                   NaN   \n",
       "...                       ...                 ...                   ...   \n",
       "WY                        NaN                 NaN                   NaN   \n",
       "WY                        NaN                 NaN                   NaN   \n",
       "WY                        NaN                 NaN                   NaN   \n",
       "WY                        NaN                 NaN                   NaN   \n",
       "WY                        NaN                 NaN                   NaN   \n",
       "\n",
       "       TMDL_FLAG EPA2_SNAPSHOT_DATE  \n",
       "STATE                                \n",
       "AK           NaN                NaN  \n",
       "AK           NaN                NaN  \n",
       "AK           NaN                NaN  \n",
       "AK           NaN                NaN  \n",
       "AK           NaN                NaN  \n",
       "...          ...                ...  \n",
       "WY           NaN                NaN  \n",
       "WY           NaN                NaN  \n",
       "WY           NaN                NaN  \n",
       "WY           NaN                NaN  \n",
       "WY           NaN                NaN  \n",
       "\n",
       "[539329 rows x 33 columns]"
      ]
     },
     "execution_count": 96,
     "metadata": {},
     "output_type": "execute_result"
    }
   ],
   "source": [
    "zf = zipfile.ZipFile('DATA/EPA_DATA.zip') \n",
    "total_data_df = pd.read_csv(zf.open('EPA_DATA.csv'))\n",
    "alldata_df = total_data_df.copy()\n",
    "alldata_df.set_index('STATE')"
   ]
  },
  {
   "cell_type": "code",
   "execution_count": 93,
   "metadata": {
    "slideshow": {
     "slide_type": "-"
    }
   },
   "outputs": [],
   "source": [
    "def one_column_filter(Col1,Param1):\n",
    "    filter1 = alldata_df[Col1]==Param1\n",
    "    tempdf= alldata_df[filter1]\n",
    "    return tempdf"
   ]
  },
  {
   "cell_type": "code",
   "execution_count": 97,
   "metadata": {},
   "outputs": [
    {
     "data": {
      "text/html": [
       "<div>\n",
       "<style scoped>\n",
       "    .dataframe tbody tr th:only-of-type {\n",
       "        vertical-align: middle;\n",
       "    }\n",
       "\n",
       "    .dataframe tbody tr th {\n",
       "        vertical-align: top;\n",
       "    }\n",
       "\n",
       "    .dataframe thead th {\n",
       "        text-align: right;\n",
       "    }\n",
       "</style>\n",
       "<table border=\"1\" class=\"dataframe\">\n",
       "  <thead>\n",
       "    <tr style=\"text-align: right;\">\n",
       "      <th></th>\n",
       "      <th>ID</th>\n",
       "      <th>ASSESSMENT_UNIT_ID</th>\n",
       "      <th>ASSESSMENT_UNIT_ID_ORIG</th>\n",
       "      <th>CYCLE_YEAR</th>\n",
       "      <th>STATE</th>\n",
       "      <th>IR_STATUS</th>\n",
       "      <th>AU_WATERBODY_REPORT</th>\n",
       "      <th>ASSESSMENT_UNIT_NAME</th>\n",
       "      <th>ASSESSMENT_STATUS</th>\n",
       "      <th>ASSESSMENT_UNIT_EPA_CATEGORY</th>\n",
       "      <th>...</th>\n",
       "      <th>LW_DETAILED_CAUSE_ID</th>\n",
       "      <th>LW_DETAILED_CAUSE_NAME</th>\n",
       "      <th>LW_PARENT_CAUSE_ID</th>\n",
       "      <th>LW_PARENT_CAUSE_NAME</th>\n",
       "      <th>LW_DETAILED_SOURCE_ID</th>\n",
       "      <th>LW_DETAILED_SOURCE_NAME</th>\n",
       "      <th>LW_PARENT_SOURCE_ID</th>\n",
       "      <th>LW_PARENT_SOURCE_NAME</th>\n",
       "      <th>TMDL_FLAG</th>\n",
       "      <th>EPA2_SNAPSHOT_DATE</th>\n",
       "    </tr>\n",
       "  </thead>\n",
       "  <tbody>\n",
       "    <tr>\n",
       "      <td>1085</td>\n",
       "      <td>862</td>\n",
       "      <td>AL03130002-0806-102</td>\n",
       "      <td>AL03130002-0806-102</td>\n",
       "      <td>2012</td>\n",
       "      <td>AL</td>\n",
       "      <td>Y</td>\n",
       "      <td>http://ofmpub.epa.gov/waters10/attains_waterbo...</td>\n",
       "      <td>Wehadkee Creek</td>\n",
       "      <td>GOOD</td>\n",
       "      <td>1</td>\n",
       "      <td>...</td>\n",
       "      <td>NaN</td>\n",
       "      <td>NaN</td>\n",
       "      <td>NaN</td>\n",
       "      <td>NaN</td>\n",
       "      <td>NaN</td>\n",
       "      <td>NaN</td>\n",
       "      <td>NaN</td>\n",
       "      <td>NaN</td>\n",
       "      <td>NaN</td>\n",
       "      <td>NaN</td>\n",
       "    </tr>\n",
       "    <tr>\n",
       "      <td>1086</td>\n",
       "      <td>863</td>\n",
       "      <td>AL03130002-0806-102</td>\n",
       "      <td>AL03130002-0806-102</td>\n",
       "      <td>2012</td>\n",
       "      <td>AL</td>\n",
       "      <td>Y</td>\n",
       "      <td>http://ofmpub.epa.gov/waters10/attains_waterbo...</td>\n",
       "      <td>Wehadkee Creek</td>\n",
       "      <td>GOOD</td>\n",
       "      <td>1</td>\n",
       "      <td>...</td>\n",
       "      <td>NaN</td>\n",
       "      <td>NaN</td>\n",
       "      <td>NaN</td>\n",
       "      <td>NaN</td>\n",
       "      <td>NaN</td>\n",
       "      <td>NaN</td>\n",
       "      <td>NaN</td>\n",
       "      <td>NaN</td>\n",
       "      <td>NaN</td>\n",
       "      <td>NaN</td>\n",
       "    </tr>\n",
       "    <tr>\n",
       "      <td>1087</td>\n",
       "      <td>864</td>\n",
       "      <td>AL03130002-0806-102</td>\n",
       "      <td>AL03130002-0806-102</td>\n",
       "      <td>2012</td>\n",
       "      <td>AL</td>\n",
       "      <td>Y</td>\n",
       "      <td>http://ofmpub.epa.gov/waters10/attains_waterbo...</td>\n",
       "      <td>Wehadkee Creek</td>\n",
       "      <td>GOOD</td>\n",
       "      <td>1</td>\n",
       "      <td>...</td>\n",
       "      <td>NaN</td>\n",
       "      <td>NaN</td>\n",
       "      <td>NaN</td>\n",
       "      <td>NaN</td>\n",
       "      <td>NaN</td>\n",
       "      <td>NaN</td>\n",
       "      <td>NaN</td>\n",
       "      <td>NaN</td>\n",
       "      <td>NaN</td>\n",
       "      <td>NaN</td>\n",
       "    </tr>\n",
       "    <tr>\n",
       "      <td>1088</td>\n",
       "      <td>865</td>\n",
       "      <td>AL03130002-0806-102</td>\n",
       "      <td>AL03130002-0806-102</td>\n",
       "      <td>2012</td>\n",
       "      <td>AL</td>\n",
       "      <td>Y</td>\n",
       "      <td>http://ofmpub.epa.gov/waters10/attains_waterbo...</td>\n",
       "      <td>Wehadkee Creek</td>\n",
       "      <td>GOOD</td>\n",
       "      <td>1</td>\n",
       "      <td>...</td>\n",
       "      <td>NaN</td>\n",
       "      <td>NaN</td>\n",
       "      <td>NaN</td>\n",
       "      <td>NaN</td>\n",
       "      <td>NaN</td>\n",
       "      <td>NaN</td>\n",
       "      <td>NaN</td>\n",
       "      <td>NaN</td>\n",
       "      <td>NaN</td>\n",
       "      <td>NaN</td>\n",
       "    </tr>\n",
       "    <tr>\n",
       "      <td>1089</td>\n",
       "      <td>866</td>\n",
       "      <td>AL03130002-0808-101</td>\n",
       "      <td>AL03130002-0808-101</td>\n",
       "      <td>2012</td>\n",
       "      <td>AL</td>\n",
       "      <td>Y</td>\n",
       "      <td>http://ofmpub.epa.gov/waters10/attains_waterbo...</td>\n",
       "      <td>Chattahoochee River (West Point Reservoir)</td>\n",
       "      <td>GOOD</td>\n",
       "      <td>1</td>\n",
       "      <td>...</td>\n",
       "      <td>NaN</td>\n",
       "      <td>NaN</td>\n",
       "      <td>NaN</td>\n",
       "      <td>NaN</td>\n",
       "      <td>NaN</td>\n",
       "      <td>NaN</td>\n",
       "      <td>NaN</td>\n",
       "      <td>NaN</td>\n",
       "      <td>NaN</td>\n",
       "      <td>NaN</td>\n",
       "    </tr>\n",
       "    <tr>\n",
       "      <td>...</td>\n",
       "      <td>...</td>\n",
       "      <td>...</td>\n",
       "      <td>...</td>\n",
       "      <td>...</td>\n",
       "      <td>...</td>\n",
       "      <td>...</td>\n",
       "      <td>...</td>\n",
       "      <td>...</td>\n",
       "      <td>...</td>\n",
       "      <td>...</td>\n",
       "      <td>...</td>\n",
       "      <td>...</td>\n",
       "      <td>...</td>\n",
       "      <td>...</td>\n",
       "      <td>...</td>\n",
       "      <td>...</td>\n",
       "      <td>...</td>\n",
       "      <td>...</td>\n",
       "      <td>...</td>\n",
       "      <td>...</td>\n",
       "      <td>...</td>\n",
       "    </tr>\n",
       "    <tr>\n",
       "      <td>539324</td>\n",
       "      <td>378887</td>\n",
       "      <td>WYYR100700060304_01</td>\n",
       "      <td>WYYR100700060304_01</td>\n",
       "      <td>2012</td>\n",
       "      <td>WY</td>\n",
       "      <td>Y</td>\n",
       "      <td>http://ofmpub.epa.gov/waters10/attains_waterbo...</td>\n",
       "      <td>Dead Indian Creek</td>\n",
       "      <td>GOOD</td>\n",
       "      <td>2</td>\n",
       "      <td>...</td>\n",
       "      <td>NaN</td>\n",
       "      <td>NaN</td>\n",
       "      <td>NaN</td>\n",
       "      <td>NaN</td>\n",
       "      <td>NaN</td>\n",
       "      <td>NaN</td>\n",
       "      <td>NaN</td>\n",
       "      <td>NaN</td>\n",
       "      <td>NaN</td>\n",
       "      <td>NaN</td>\n",
       "    </tr>\n",
       "    <tr>\n",
       "      <td>539325</td>\n",
       "      <td>378888</td>\n",
       "      <td>WYYR100700060304_01</td>\n",
       "      <td>WYYR100700060304_01</td>\n",
       "      <td>2012</td>\n",
       "      <td>WY</td>\n",
       "      <td>Y</td>\n",
       "      <td>http://ofmpub.epa.gov/waters10/attains_waterbo...</td>\n",
       "      <td>Dead Indian Creek</td>\n",
       "      <td>GOOD</td>\n",
       "      <td>2</td>\n",
       "      <td>...</td>\n",
       "      <td>NaN</td>\n",
       "      <td>NaN</td>\n",
       "      <td>NaN</td>\n",
       "      <td>NaN</td>\n",
       "      <td>NaN</td>\n",
       "      <td>NaN</td>\n",
       "      <td>NaN</td>\n",
       "      <td>NaN</td>\n",
       "      <td>NaN</td>\n",
       "      <td>NaN</td>\n",
       "    </tr>\n",
       "    <tr>\n",
       "      <td>539326</td>\n",
       "      <td>378889</td>\n",
       "      <td>WYYR100700060304_01</td>\n",
       "      <td>WYYR100700060304_01</td>\n",
       "      <td>2012</td>\n",
       "      <td>WY</td>\n",
       "      <td>Y</td>\n",
       "      <td>http://ofmpub.epa.gov/waters10/attains_waterbo...</td>\n",
       "      <td>Dead Indian Creek</td>\n",
       "      <td>GOOD</td>\n",
       "      <td>2</td>\n",
       "      <td>...</td>\n",
       "      <td>NaN</td>\n",
       "      <td>NaN</td>\n",
       "      <td>NaN</td>\n",
       "      <td>NaN</td>\n",
       "      <td>NaN</td>\n",
       "      <td>NaN</td>\n",
       "      <td>NaN</td>\n",
       "      <td>NaN</td>\n",
       "      <td>NaN</td>\n",
       "      <td>NaN</td>\n",
       "    </tr>\n",
       "    <tr>\n",
       "      <td>539327</td>\n",
       "      <td>378890</td>\n",
       "      <td>WYYR100700060304_01</td>\n",
       "      <td>WYYR100700060304_01</td>\n",
       "      <td>2012</td>\n",
       "      <td>WY</td>\n",
       "      <td>Y</td>\n",
       "      <td>http://ofmpub.epa.gov/waters10/attains_waterbo...</td>\n",
       "      <td>Dead Indian Creek</td>\n",
       "      <td>GOOD</td>\n",
       "      <td>2</td>\n",
       "      <td>...</td>\n",
       "      <td>NaN</td>\n",
       "      <td>NaN</td>\n",
       "      <td>NaN</td>\n",
       "      <td>NaN</td>\n",
       "      <td>NaN</td>\n",
       "      <td>NaN</td>\n",
       "      <td>NaN</td>\n",
       "      <td>NaN</td>\n",
       "      <td>NaN</td>\n",
       "      <td>NaN</td>\n",
       "    </tr>\n",
       "    <tr>\n",
       "      <td>539328</td>\n",
       "      <td>378891</td>\n",
       "      <td>WYYR100700060304_01</td>\n",
       "      <td>WYYR100700060304_01</td>\n",
       "      <td>2012</td>\n",
       "      <td>WY</td>\n",
       "      <td>Y</td>\n",
       "      <td>http://ofmpub.epa.gov/waters10/attains_waterbo...</td>\n",
       "      <td>Dead Indian Creek</td>\n",
       "      <td>GOOD</td>\n",
       "      <td>2</td>\n",
       "      <td>...</td>\n",
       "      <td>NaN</td>\n",
       "      <td>NaN</td>\n",
       "      <td>NaN</td>\n",
       "      <td>NaN</td>\n",
       "      <td>NaN</td>\n",
       "      <td>NaN</td>\n",
       "      <td>NaN</td>\n",
       "      <td>NaN</td>\n",
       "      <td>NaN</td>\n",
       "      <td>NaN</td>\n",
       "    </tr>\n",
       "  </tbody>\n",
       "</table>\n",
       "<p>225206 rows × 34 columns</p>\n",
       "</div>"
      ],
      "text/plain": [
       "            ID   ASSESSMENT_UNIT_ID ASSESSMENT_UNIT_ID_ORIG  CYCLE_YEAR STATE  \\\n",
       "1085       862  AL03130002-0806-102     AL03130002-0806-102        2012    AL   \n",
       "1086       863  AL03130002-0806-102     AL03130002-0806-102        2012    AL   \n",
       "1087       864  AL03130002-0806-102     AL03130002-0806-102        2012    AL   \n",
       "1088       865  AL03130002-0806-102     AL03130002-0806-102        2012    AL   \n",
       "1089       866  AL03130002-0808-101     AL03130002-0808-101        2012    AL   \n",
       "...        ...                  ...                     ...         ...   ...   \n",
       "539324  378887  WYYR100700060304_01     WYYR100700060304_01        2012    WY   \n",
       "539325  378888  WYYR100700060304_01     WYYR100700060304_01        2012    WY   \n",
       "539326  378889  WYYR100700060304_01     WYYR100700060304_01        2012    WY   \n",
       "539327  378890  WYYR100700060304_01     WYYR100700060304_01        2012    WY   \n",
       "539328  378891  WYYR100700060304_01     WYYR100700060304_01        2012    WY   \n",
       "\n",
       "       IR_STATUS                                AU_WATERBODY_REPORT  \\\n",
       "1085           Y  http://ofmpub.epa.gov/waters10/attains_waterbo...   \n",
       "1086           Y  http://ofmpub.epa.gov/waters10/attains_waterbo...   \n",
       "1087           Y  http://ofmpub.epa.gov/waters10/attains_waterbo...   \n",
       "1088           Y  http://ofmpub.epa.gov/waters10/attains_waterbo...   \n",
       "1089           Y  http://ofmpub.epa.gov/waters10/attains_waterbo...   \n",
       "...          ...                                                ...   \n",
       "539324         Y  http://ofmpub.epa.gov/waters10/attains_waterbo...   \n",
       "539325         Y  http://ofmpub.epa.gov/waters10/attains_waterbo...   \n",
       "539326         Y  http://ofmpub.epa.gov/waters10/attains_waterbo...   \n",
       "539327         Y  http://ofmpub.epa.gov/waters10/attains_waterbo...   \n",
       "539328         Y  http://ofmpub.epa.gov/waters10/attains_waterbo...   \n",
       "\n",
       "                              ASSESSMENT_UNIT_NAME ASSESSMENT_STATUS  \\\n",
       "1085                                Wehadkee Creek              GOOD   \n",
       "1086                                Wehadkee Creek              GOOD   \n",
       "1087                                Wehadkee Creek              GOOD   \n",
       "1088                                Wehadkee Creek              GOOD   \n",
       "1089    Chattahoochee River (West Point Reservoir)              GOOD   \n",
       "...                                            ...               ...   \n",
       "539324                           Dead Indian Creek              GOOD   \n",
       "539325                           Dead Indian Creek              GOOD   \n",
       "539326                           Dead Indian Creek              GOOD   \n",
       "539327                           Dead Indian Creek              GOOD   \n",
       "539328                           Dead Indian Creek              GOOD   \n",
       "\n",
       "       ASSESSMENT_UNIT_EPA_CATEGORY  ... LW_DETAILED_CAUSE_ID  \\\n",
       "1085                              1  ...                  NaN   \n",
       "1086                              1  ...                  NaN   \n",
       "1087                              1  ...                  NaN   \n",
       "1088                              1  ...                  NaN   \n",
       "1089                              1  ...                  NaN   \n",
       "...                             ...  ...                  ...   \n",
       "539324                            2  ...                  NaN   \n",
       "539325                            2  ...                  NaN   \n",
       "539326                            2  ...                  NaN   \n",
       "539327                            2  ...                  NaN   \n",
       "539328                            2  ...                  NaN   \n",
       "\n",
       "        LW_DETAILED_CAUSE_NAME LW_PARENT_CAUSE_ID  LW_PARENT_CAUSE_NAME  \\\n",
       "1085                       NaN                NaN                   NaN   \n",
       "1086                       NaN                NaN                   NaN   \n",
       "1087                       NaN                NaN                   NaN   \n",
       "1088                       NaN                NaN                   NaN   \n",
       "1089                       NaN                NaN                   NaN   \n",
       "...                        ...                ...                   ...   \n",
       "539324                     NaN                NaN                   NaN   \n",
       "539325                     NaN                NaN                   NaN   \n",
       "539326                     NaN                NaN                   NaN   \n",
       "539327                     NaN                NaN                   NaN   \n",
       "539328                     NaN                NaN                   NaN   \n",
       "\n",
       "       LW_DETAILED_SOURCE_ID LW_DETAILED_SOURCE_NAME LW_PARENT_SOURCE_ID  \\\n",
       "1085                     NaN                     NaN                 NaN   \n",
       "1086                     NaN                     NaN                 NaN   \n",
       "1087                     NaN                     NaN                 NaN   \n",
       "1088                     NaN                     NaN                 NaN   \n",
       "1089                     NaN                     NaN                 NaN   \n",
       "...                      ...                     ...                 ...   \n",
       "539324                   NaN                     NaN                 NaN   \n",
       "539325                   NaN                     NaN                 NaN   \n",
       "539326                   NaN                     NaN                 NaN   \n",
       "539327                   NaN                     NaN                 NaN   \n",
       "539328                   NaN                     NaN                 NaN   \n",
       "\n",
       "       LW_PARENT_SOURCE_NAME TMDL_FLAG  EPA2_SNAPSHOT_DATE  \n",
       "1085                     NaN       NaN                 NaN  \n",
       "1086                     NaN       NaN                 NaN  \n",
       "1087                     NaN       NaN                 NaN  \n",
       "1088                     NaN       NaN                 NaN  \n",
       "1089                     NaN       NaN                 NaN  \n",
       "...                      ...       ...                 ...  \n",
       "539324                   NaN       NaN                 NaN  \n",
       "539325                   NaN       NaN                 NaN  \n",
       "539326                   NaN       NaN                 NaN  \n",
       "539327                   NaN       NaN                 NaN  \n",
       "539328                   NaN       NaN                 NaN  \n",
       "\n",
       "[225206 rows x 34 columns]"
      ]
     },
     "execution_count": 97,
     "metadata": {},
     "output_type": "execute_result"
    }
   ],
   "source": [
    "# Grab 2012 Only ALL RESULTS\n",
    "epadata_df = one_column_filter(\"CYCLE_YEAR\", 2012)\n",
    "epadata_df"
   ]
  },
  {
   "cell_type": "code",
   "execution_count": 101,
   "metadata": {
    "slideshow": {
     "slide_type": "-"
    }
   },
   "outputs": [
    {
     "data": {
      "text/html": [
       "<div>\n",
       "<style scoped>\n",
       "    .dataframe tbody tr th:only-of-type {\n",
       "        vertical-align: middle;\n",
       "    }\n",
       "\n",
       "    .dataframe tbody tr th {\n",
       "        vertical-align: top;\n",
       "    }\n",
       "\n",
       "    .dataframe thead th {\n",
       "        text-align: right;\n",
       "    }\n",
       "</style>\n",
       "<table border=\"1\" class=\"dataframe\">\n",
       "  <thead>\n",
       "    <tr style=\"text-align: right;\">\n",
       "      <th></th>\n",
       "      <th>ID</th>\n",
       "      <th>ASSESSMENT_UNIT_ID</th>\n",
       "      <th>ASSESSMENT_UNIT_ID_ORIG</th>\n",
       "      <th>CYCLE_YEAR</th>\n",
       "      <th>STATE</th>\n",
       "      <th>IR_STATUS</th>\n",
       "      <th>AU_WATERBODY_REPORT</th>\n",
       "      <th>ASSESSMENT_UNIT_NAME</th>\n",
       "      <th>ASSESSMENT_STATUS</th>\n",
       "      <th>ASSESSMENT_UNIT_EPA_CATEGORY</th>\n",
       "      <th>...</th>\n",
       "      <th>LW_DETAILED_CAUSE_ID</th>\n",
       "      <th>LW_DETAILED_CAUSE_NAME</th>\n",
       "      <th>LW_PARENT_CAUSE_ID</th>\n",
       "      <th>LW_PARENT_CAUSE_NAME</th>\n",
       "      <th>LW_DETAILED_SOURCE_ID</th>\n",
       "      <th>LW_DETAILED_SOURCE_NAME</th>\n",
       "      <th>LW_PARENT_SOURCE_ID</th>\n",
       "      <th>LW_PARENT_SOURCE_NAME</th>\n",
       "      <th>TMDL_FLAG</th>\n",
       "      <th>EPA2_SNAPSHOT_DATE</th>\n",
       "    </tr>\n",
       "  </thead>\n",
       "  <tbody>\n",
       "    <tr>\n",
       "      <td>1115</td>\n",
       "      <td>892</td>\n",
       "      <td>AL03130002-0908-102</td>\n",
       "      <td>AL03130002-0908-102</td>\n",
       "      <td>2012</td>\n",
       "      <td>AL</td>\n",
       "      <td>Y</td>\n",
       "      <td>http://ofmpub.epa.gov/waters10/attains_waterbo...</td>\n",
       "      <td>Chattahoochee River</td>\n",
       "      <td>GOOD</td>\n",
       "      <td>1</td>\n",
       "      <td>...</td>\n",
       "      <td>NaN</td>\n",
       "      <td>NaN</td>\n",
       "      <td>NaN</td>\n",
       "      <td>NaN</td>\n",
       "      <td>NaN</td>\n",
       "      <td>NaN</td>\n",
       "      <td>NaN</td>\n",
       "      <td>NaN</td>\n",
       "      <td>NaN</td>\n",
       "      <td>NaN</td>\n",
       "    </tr>\n",
       "    <tr>\n",
       "      <td>1136</td>\n",
       "      <td>913</td>\n",
       "      <td>AL03130002-1108-100</td>\n",
       "      <td>AL03130002-1108-100</td>\n",
       "      <td>2012</td>\n",
       "      <td>AL</td>\n",
       "      <td>Y</td>\n",
       "      <td>http://ofmpub.epa.gov/waters10/attains_waterbo...</td>\n",
       "      <td>Halawakee Creek</td>\n",
       "      <td>GOOD</td>\n",
       "      <td>1</td>\n",
       "      <td>...</td>\n",
       "      <td>NaN</td>\n",
       "      <td>NaN</td>\n",
       "      <td>NaN</td>\n",
       "      <td>NaN</td>\n",
       "      <td>NaN</td>\n",
       "      <td>NaN</td>\n",
       "      <td>NaN</td>\n",
       "      <td>NaN</td>\n",
       "      <td>NaN</td>\n",
       "      <td>NaN</td>\n",
       "    </tr>\n",
       "    <tr>\n",
       "      <td>1143</td>\n",
       "      <td>920</td>\n",
       "      <td>AL03130002-1109-101</td>\n",
       "      <td>AL03130002-1109-101</td>\n",
       "      <td>2012</td>\n",
       "      <td>AL</td>\n",
       "      <td>Y</td>\n",
       "      <td>http://ofmpub.epa.gov/waters10/attains_waterbo...</td>\n",
       "      <td>Chattahoochee River (Harding Lake)</td>\n",
       "      <td>GOOD</td>\n",
       "      <td>1</td>\n",
       "      <td>...</td>\n",
       "      <td>NaN</td>\n",
       "      <td>NaN</td>\n",
       "      <td>NaN</td>\n",
       "      <td>NaN</td>\n",
       "      <td>NaN</td>\n",
       "      <td>NaN</td>\n",
       "      <td>NaN</td>\n",
       "      <td>NaN</td>\n",
       "      <td>NaN</td>\n",
       "      <td>NaN</td>\n",
       "    </tr>\n",
       "    <tr>\n",
       "      <td>1148</td>\n",
       "      <td>925</td>\n",
       "      <td>AL03130002-1306-101</td>\n",
       "      <td>AL03130002-1306-101</td>\n",
       "      <td>2012</td>\n",
       "      <td>AL</td>\n",
       "      <td>Y</td>\n",
       "      <td>http://ofmpub.epa.gov/waters10/attains_waterbo...</td>\n",
       "      <td>Chattahoochee River (Oliver Lake)</td>\n",
       "      <td>GOOD</td>\n",
       "      <td>1</td>\n",
       "      <td>...</td>\n",
       "      <td>NaN</td>\n",
       "      <td>NaN</td>\n",
       "      <td>NaN</td>\n",
       "      <td>NaN</td>\n",
       "      <td>NaN</td>\n",
       "      <td>NaN</td>\n",
       "      <td>NaN</td>\n",
       "      <td>NaN</td>\n",
       "      <td>NaN</td>\n",
       "      <td>NaN</td>\n",
       "    </tr>\n",
       "    <tr>\n",
       "      <td>1157</td>\n",
       "      <td>934</td>\n",
       "      <td>AL03130002-1306-102</td>\n",
       "      <td>AL03130002-1306-102</td>\n",
       "      <td>2012</td>\n",
       "      <td>AL</td>\n",
       "      <td>Y</td>\n",
       "      <td>http://ofmpub.epa.gov/waters10/attains_waterbo...</td>\n",
       "      <td>Chattahoochee River (Oliver Lake)</td>\n",
       "      <td>GOOD</td>\n",
       "      <td>1</td>\n",
       "      <td>...</td>\n",
       "      <td>NaN</td>\n",
       "      <td>NaN</td>\n",
       "      <td>NaN</td>\n",
       "      <td>NaN</td>\n",
       "      <td>NaN</td>\n",
       "      <td>NaN</td>\n",
       "      <td>NaN</td>\n",
       "      <td>NaN</td>\n",
       "      <td>NaN</td>\n",
       "      <td>NaN</td>\n",
       "    </tr>\n",
       "    <tr>\n",
       "      <td>...</td>\n",
       "      <td>...</td>\n",
       "      <td>...</td>\n",
       "      <td>...</td>\n",
       "      <td>...</td>\n",
       "      <td>...</td>\n",
       "      <td>...</td>\n",
       "      <td>...</td>\n",
       "      <td>...</td>\n",
       "      <td>...</td>\n",
       "      <td>...</td>\n",
       "      <td>...</td>\n",
       "      <td>...</td>\n",
       "      <td>...</td>\n",
       "      <td>...</td>\n",
       "      <td>...</td>\n",
       "      <td>...</td>\n",
       "      <td>...</td>\n",
       "      <td>...</td>\n",
       "      <td>...</td>\n",
       "      <td>...</td>\n",
       "      <td>...</td>\n",
       "    </tr>\n",
       "    <tr>\n",
       "      <td>539288</td>\n",
       "      <td>378852</td>\n",
       "      <td>WYTR100901010402_01</td>\n",
       "      <td>WYTR100901010402_01</td>\n",
       "      <td>2012</td>\n",
       "      <td>WY</td>\n",
       "      <td>Y</td>\n",
       "      <td>http://ofmpub.epa.gov/waters10/attains_waterbo...</td>\n",
       "      <td>Prairie Dog Creek</td>\n",
       "      <td>IMPAIRED</td>\n",
       "      <td>5</td>\n",
       "      <td>...</td>\n",
       "      <td>500.0</td>\n",
       "      <td>FECAL COLIFORM</td>\n",
       "      <td>861.0</td>\n",
       "      <td>PATHOGENS</td>\n",
       "      <td>292.0</td>\n",
       "      <td>SOURCE UNKNOWN</td>\n",
       "      <td>472.0</td>\n",
       "      <td>UNKNOWN</td>\n",
       "      <td>N</td>\n",
       "      <td>5/1/2015</td>\n",
       "    </tr>\n",
       "    <tr>\n",
       "      <td>539289</td>\n",
       "      <td>378852</td>\n",
       "      <td>WYTR100901010402_01</td>\n",
       "      <td>WYTR100901010402_01</td>\n",
       "      <td>2012</td>\n",
       "      <td>WY</td>\n",
       "      <td>Y</td>\n",
       "      <td>http://ofmpub.epa.gov/waters10/attains_waterbo...</td>\n",
       "      <td>Prairie Dog Creek</td>\n",
       "      <td>IMPAIRED</td>\n",
       "      <td>5</td>\n",
       "      <td>...</td>\n",
       "      <td>1036.0</td>\n",
       "      <td>TEMPERATURE, WATER</td>\n",
       "      <td>1035.0</td>\n",
       "      <td>TEMPERATURE</td>\n",
       "      <td>292.0</td>\n",
       "      <td>SOURCE UNKNOWN</td>\n",
       "      <td>472.0</td>\n",
       "      <td>UNKNOWN</td>\n",
       "      <td>N</td>\n",
       "      <td>5/1/2015</td>\n",
       "    </tr>\n",
       "    <tr>\n",
       "      <td>539302</td>\n",
       "      <td>378865</td>\n",
       "      <td>WYYR100700060101_01</td>\n",
       "      <td>WYYR100700060101_01</td>\n",
       "      <td>2012</td>\n",
       "      <td>WY</td>\n",
       "      <td>Y</td>\n",
       "      <td>http://ofmpub.epa.gov/waters10/attains_waterbo...</td>\n",
       "      <td>Clarks Fork Yellowstone River</td>\n",
       "      <td>IMPAIRED</td>\n",
       "      <td>4A</td>\n",
       "      <td>...</td>\n",
       "      <td>NaN</td>\n",
       "      <td>NaN</td>\n",
       "      <td>NaN</td>\n",
       "      <td>NaN</td>\n",
       "      <td>NaN</td>\n",
       "      <td>NaN</td>\n",
       "      <td>NaN</td>\n",
       "      <td>NaN</td>\n",
       "      <td>NaN</td>\n",
       "      <td>NaN</td>\n",
       "    </tr>\n",
       "    <tr>\n",
       "      <td>539319</td>\n",
       "      <td>378882</td>\n",
       "      <td>WYYR100700060106_01</td>\n",
       "      <td>WYYR100700060106_01</td>\n",
       "      <td>2012</td>\n",
       "      <td>WY</td>\n",
       "      <td>Y</td>\n",
       "      <td>http://ofmpub.epa.gov/waters10/attains_waterbo...</td>\n",
       "      <td>Squaw Creek</td>\n",
       "      <td>GOOD</td>\n",
       "      <td>2</td>\n",
       "      <td>...</td>\n",
       "      <td>NaN</td>\n",
       "      <td>NaN</td>\n",
       "      <td>NaN</td>\n",
       "      <td>NaN</td>\n",
       "      <td>NaN</td>\n",
       "      <td>NaN</td>\n",
       "      <td>NaN</td>\n",
       "      <td>NaN</td>\n",
       "      <td>NaN</td>\n",
       "      <td>NaN</td>\n",
       "    </tr>\n",
       "    <tr>\n",
       "      <td>539328</td>\n",
       "      <td>378891</td>\n",
       "      <td>WYYR100700060304_01</td>\n",
       "      <td>WYYR100700060304_01</td>\n",
       "      <td>2012</td>\n",
       "      <td>WY</td>\n",
       "      <td>Y</td>\n",
       "      <td>http://ofmpub.epa.gov/waters10/attains_waterbo...</td>\n",
       "      <td>Dead Indian Creek</td>\n",
       "      <td>GOOD</td>\n",
       "      <td>2</td>\n",
       "      <td>...</td>\n",
       "      <td>NaN</td>\n",
       "      <td>NaN</td>\n",
       "      <td>NaN</td>\n",
       "      <td>NaN</td>\n",
       "      <td>NaN</td>\n",
       "      <td>NaN</td>\n",
       "      <td>NaN</td>\n",
       "      <td>NaN</td>\n",
       "      <td>NaN</td>\n",
       "      <td>NaN</td>\n",
       "    </tr>\n",
       "  </tbody>\n",
       "</table>\n",
       "<p>15453 rows × 34 columns</p>\n",
       "</div>"
      ],
      "text/plain": [
       "            ID   ASSESSMENT_UNIT_ID ASSESSMENT_UNIT_ID_ORIG  CYCLE_YEAR STATE  \\\n",
       "1115       892  AL03130002-0908-102     AL03130002-0908-102        2012    AL   \n",
       "1136       913  AL03130002-1108-100     AL03130002-1108-100        2012    AL   \n",
       "1143       920  AL03130002-1109-101     AL03130002-1109-101        2012    AL   \n",
       "1148       925  AL03130002-1306-101     AL03130002-1306-101        2012    AL   \n",
       "1157       934  AL03130002-1306-102     AL03130002-1306-102        2012    AL   \n",
       "...        ...                  ...                     ...         ...   ...   \n",
       "539288  378852  WYTR100901010402_01     WYTR100901010402_01        2012    WY   \n",
       "539289  378852  WYTR100901010402_01     WYTR100901010402_01        2012    WY   \n",
       "539302  378865  WYYR100700060101_01     WYYR100700060101_01        2012    WY   \n",
       "539319  378882  WYYR100700060106_01     WYYR100700060106_01        2012    WY   \n",
       "539328  378891  WYYR100700060304_01     WYYR100700060304_01        2012    WY   \n",
       "\n",
       "       IR_STATUS                                AU_WATERBODY_REPORT  \\\n",
       "1115           Y  http://ofmpub.epa.gov/waters10/attains_waterbo...   \n",
       "1136           Y  http://ofmpub.epa.gov/waters10/attains_waterbo...   \n",
       "1143           Y  http://ofmpub.epa.gov/waters10/attains_waterbo...   \n",
       "1148           Y  http://ofmpub.epa.gov/waters10/attains_waterbo...   \n",
       "1157           Y  http://ofmpub.epa.gov/waters10/attains_waterbo...   \n",
       "...          ...                                                ...   \n",
       "539288         Y  http://ofmpub.epa.gov/waters10/attains_waterbo...   \n",
       "539289         Y  http://ofmpub.epa.gov/waters10/attains_waterbo...   \n",
       "539302         Y  http://ofmpub.epa.gov/waters10/attains_waterbo...   \n",
       "539319         Y  http://ofmpub.epa.gov/waters10/attains_waterbo...   \n",
       "539328         Y  http://ofmpub.epa.gov/waters10/attains_waterbo...   \n",
       "\n",
       "                      ASSESSMENT_UNIT_NAME ASSESSMENT_STATUS  \\\n",
       "1115                   Chattahoochee River              GOOD   \n",
       "1136                       Halawakee Creek              GOOD   \n",
       "1143    Chattahoochee River (Harding Lake)              GOOD   \n",
       "1148     Chattahoochee River (Oliver Lake)              GOOD   \n",
       "1157     Chattahoochee River (Oliver Lake)              GOOD   \n",
       "...                                    ...               ...   \n",
       "539288                   Prairie Dog Creek          IMPAIRED   \n",
       "539289                   Prairie Dog Creek          IMPAIRED   \n",
       "539302       Clarks Fork Yellowstone River          IMPAIRED   \n",
       "539319                         Squaw Creek              GOOD   \n",
       "539328                   Dead Indian Creek              GOOD   \n",
       "\n",
       "       ASSESSMENT_UNIT_EPA_CATEGORY  ... LW_DETAILED_CAUSE_ID  \\\n",
       "1115                              1  ...                  NaN   \n",
       "1136                              1  ...                  NaN   \n",
       "1143                              1  ...                  NaN   \n",
       "1148                              1  ...                  NaN   \n",
       "1157                              1  ...                  NaN   \n",
       "...                             ...  ...                  ...   \n",
       "539288                            5  ...                500.0   \n",
       "539289                            5  ...               1036.0   \n",
       "539302                           4A  ...                  NaN   \n",
       "539319                            2  ...                  NaN   \n",
       "539328                            2  ...                  NaN   \n",
       "\n",
       "        LW_DETAILED_CAUSE_NAME LW_PARENT_CAUSE_ID  LW_PARENT_CAUSE_NAME  \\\n",
       "1115                       NaN                NaN                   NaN   \n",
       "1136                       NaN                NaN                   NaN   \n",
       "1143                       NaN                NaN                   NaN   \n",
       "1148                       NaN                NaN                   NaN   \n",
       "1157                       NaN                NaN                   NaN   \n",
       "...                        ...                ...                   ...   \n",
       "539288          FECAL COLIFORM              861.0             PATHOGENS   \n",
       "539289      TEMPERATURE, WATER             1035.0           TEMPERATURE   \n",
       "539302                     NaN                NaN                   NaN   \n",
       "539319                     NaN                NaN                   NaN   \n",
       "539328                     NaN                NaN                   NaN   \n",
       "\n",
       "       LW_DETAILED_SOURCE_ID LW_DETAILED_SOURCE_NAME LW_PARENT_SOURCE_ID  \\\n",
       "1115                     NaN                     NaN                 NaN   \n",
       "1136                     NaN                     NaN                 NaN   \n",
       "1143                     NaN                     NaN                 NaN   \n",
       "1148                     NaN                     NaN                 NaN   \n",
       "1157                     NaN                     NaN                 NaN   \n",
       "...                      ...                     ...                 ...   \n",
       "539288                 292.0          SOURCE UNKNOWN               472.0   \n",
       "539289                 292.0          SOURCE UNKNOWN               472.0   \n",
       "539302                   NaN                     NaN                 NaN   \n",
       "539319                   NaN                     NaN                 NaN   \n",
       "539328                   NaN                     NaN                 NaN   \n",
       "\n",
       "       LW_PARENT_SOURCE_NAME TMDL_FLAG  EPA2_SNAPSHOT_DATE  \n",
       "1115                     NaN       NaN                 NaN  \n",
       "1136                     NaN       NaN                 NaN  \n",
       "1143                     NaN       NaN                 NaN  \n",
       "1148                     NaN       NaN                 NaN  \n",
       "1157                     NaN       NaN                 NaN  \n",
       "...                      ...       ...                 ...  \n",
       "539288               UNKNOWN         N            5/1/2015  \n",
       "539289               UNKNOWN         N            5/1/2015  \n",
       "539302                   NaN       NaN                 NaN  \n",
       "539319                   NaN       NaN                 NaN  \n",
       "539328                   NaN       NaN                 NaN  \n",
       "\n",
       "[15453 rows x 34 columns]"
      ]
     },
     "execution_count": 101,
     "metadata": {},
     "output_type": "execute_result"
    }
   ],
   "source": [
    "# Grab ALL Drinking Water 2012\n",
    "totaldrink_df = one_column_filter(\"AU_PARENT_USE_DESC\", \"PUBLIC WATER SUPPLY\")\n",
    "totaldrink_df"
   ]
  },
  {
   "cell_type": "code",
   "execution_count": 105,
   "metadata": {
    "slideshow": {
     "slide_type": "-"
    }
   },
   "outputs": [],
   "source": [
    "#Function to call out two columns as parameters.\n",
    "\n",
    "def two_column_filter(Col1,Col2,Param1,Param2):\n",
    "    filter1 = epadata_df[Col1]==Param1\n",
    "    filter2 = epadata_df[Col2]==Param2\n",
    "    tempdf= epadata_df[filter1&filter2]\n",
    "    return tempdf\n"
   ]
  },
  {
   "cell_type": "code",
   "execution_count": 102,
   "metadata": {
    "slideshow": {
     "slide_type": "-"
    }
   },
   "outputs": [
    {
     "data": {
      "text/html": [
       "<div>\n",
       "<style scoped>\n",
       "    .dataframe tbody tr th:only-of-type {\n",
       "        vertical-align: middle;\n",
       "    }\n",
       "\n",
       "    .dataframe tbody tr th {\n",
       "        vertical-align: top;\n",
       "    }\n",
       "\n",
       "    .dataframe thead th {\n",
       "        text-align: right;\n",
       "    }\n",
       "</style>\n",
       "<table border=\"1\" class=\"dataframe\">\n",
       "  <thead>\n",
       "    <tr style=\"text-align: right;\">\n",
       "      <th></th>\n",
       "      <th>ID</th>\n",
       "      <th>ASSESSMENT_UNIT_ID</th>\n",
       "      <th>ASSESSMENT_UNIT_ID_ORIG</th>\n",
       "      <th>CYCLE_YEAR</th>\n",
       "      <th>STATE</th>\n",
       "      <th>IR_STATUS</th>\n",
       "      <th>AU_WATERBODY_REPORT</th>\n",
       "      <th>ASSESSMENT_UNIT_NAME</th>\n",
       "      <th>ASSESSMENT_STATUS</th>\n",
       "      <th>ASSESSMENT_UNIT_EPA_CATEGORY</th>\n",
       "      <th>...</th>\n",
       "      <th>LW_DETAILED_CAUSE_ID</th>\n",
       "      <th>LW_DETAILED_CAUSE_NAME</th>\n",
       "      <th>LW_PARENT_CAUSE_ID</th>\n",
       "      <th>LW_PARENT_CAUSE_NAME</th>\n",
       "      <th>LW_DETAILED_SOURCE_ID</th>\n",
       "      <th>LW_DETAILED_SOURCE_NAME</th>\n",
       "      <th>LW_PARENT_SOURCE_ID</th>\n",
       "      <th>LW_PARENT_SOURCE_NAME</th>\n",
       "      <th>TMDL_FLAG</th>\n",
       "      <th>EPA2_SNAPSHOT_DATE</th>\n",
       "    </tr>\n",
       "  </thead>\n",
       "  <tbody>\n",
       "    <tr>\n",
       "      <td>2230</td>\n",
       "      <td>1810</td>\n",
       "      <td>AL03150105-1003-102</td>\n",
       "      <td>AL03150105-1003-102</td>\n",
       "      <td>2012</td>\n",
       "      <td>AL</td>\n",
       "      <td>Y</td>\n",
       "      <td>http://ofmpub.epa.gov/waters10/attains_waterbo...</td>\n",
       "      <td>Coosa River (Weiss Lake)</td>\n",
       "      <td>IMPAIRED</td>\n",
       "      <td>4A</td>\n",
       "      <td>...</td>\n",
       "      <td>NaN</td>\n",
       "      <td>NaN</td>\n",
       "      <td>NaN</td>\n",
       "      <td>NaN</td>\n",
       "      <td>NaN</td>\n",
       "      <td>NaN</td>\n",
       "      <td>NaN</td>\n",
       "      <td>NaN</td>\n",
       "      <td>NaN</td>\n",
       "      <td>NaN</td>\n",
       "    </tr>\n",
       "    <tr>\n",
       "      <td>2269</td>\n",
       "      <td>1845</td>\n",
       "      <td>AL03150106-0204-102</td>\n",
       "      <td>AL03150106-0204-102</td>\n",
       "      <td>2012</td>\n",
       "      <td>AL</td>\n",
       "      <td>Y</td>\n",
       "      <td>http://ofmpub.epa.gov/waters10/attains_waterbo...</td>\n",
       "      <td>Coosa River (Lake Neely Henry)</td>\n",
       "      <td>IMPAIRED</td>\n",
       "      <td>5</td>\n",
       "      <td>...</td>\n",
       "      <td>918.0</td>\n",
       "      <td>POLYCHLORINATED BIPHENYLS (PCBS)</td>\n",
       "      <td>918.0</td>\n",
       "      <td>POLYCHLORINATED BIPHENYLS (PCBS)</td>\n",
       "      <td>197.0</td>\n",
       "      <td>CONTAMINATED SEDIMENTS</td>\n",
       "      <td>543.0</td>\n",
       "      <td>LEGACY/HISTORICAL POLLUTANTS</td>\n",
       "      <td>N</td>\n",
       "      <td>5/1/2015</td>\n",
       "    </tr>\n",
       "    <tr>\n",
       "      <td>2370</td>\n",
       "      <td>1945</td>\n",
       "      <td>AL03150106-0507-102</td>\n",
       "      <td>AL03150106-0507-102</td>\n",
       "      <td>2012</td>\n",
       "      <td>AL</td>\n",
       "      <td>Y</td>\n",
       "      <td>http://ofmpub.epa.gov/waters10/attains_waterbo...</td>\n",
       "      <td>Choccolocco Creek</td>\n",
       "      <td>IMPAIRED</td>\n",
       "      <td>5</td>\n",
       "      <td>...</td>\n",
       "      <td>693.0</td>\n",
       "      <td>MERCURY</td>\n",
       "      <td>693.0</td>\n",
       "      <td>MERCURY</td>\n",
       "      <td>154.0</td>\n",
       "      <td>ATMOSPHERIC DEPOSITION - TOXICS</td>\n",
       "      <td>109.0</td>\n",
       "      <td>ATMOSPHERIC DEPOSITION</td>\n",
       "      <td>N</td>\n",
       "      <td>5/1/2015</td>\n",
       "    </tr>\n",
       "    <tr>\n",
       "      <td>2371</td>\n",
       "      <td>1945</td>\n",
       "      <td>AL03150106-0507-102</td>\n",
       "      <td>AL03150106-0507-102</td>\n",
       "      <td>2012</td>\n",
       "      <td>AL</td>\n",
       "      <td>Y</td>\n",
       "      <td>http://ofmpub.epa.gov/waters10/attains_waterbo...</td>\n",
       "      <td>Choccolocco Creek</td>\n",
       "      <td>IMPAIRED</td>\n",
       "      <td>5</td>\n",
       "      <td>...</td>\n",
       "      <td>918.0</td>\n",
       "      <td>POLYCHLORINATED BIPHENYLS (PCBS)</td>\n",
       "      <td>918.0</td>\n",
       "      <td>POLYCHLORINATED BIPHENYLS (PCBS)</td>\n",
       "      <td>197.0</td>\n",
       "      <td>CONTAMINATED SEDIMENTS</td>\n",
       "      <td>543.0</td>\n",
       "      <td>LEGACY/HISTORICAL POLLUTANTS</td>\n",
       "      <td>N</td>\n",
       "      <td>5/1/2015</td>\n",
       "    </tr>\n",
       "    <tr>\n",
       "      <td>2424</td>\n",
       "      <td>1987</td>\n",
       "      <td>AL03150106-0603-111</td>\n",
       "      <td>AL03150106-0603-111</td>\n",
       "      <td>2012</td>\n",
       "      <td>AL</td>\n",
       "      <td>Y</td>\n",
       "      <td>http://ofmpub.epa.gov/waters10/attains_waterbo...</td>\n",
       "      <td>Coosa River (Logan Martin Lake)</td>\n",
       "      <td>IMPAIRED</td>\n",
       "      <td>5</td>\n",
       "      <td>...</td>\n",
       "      <td>918.0</td>\n",
       "      <td>POLYCHLORINATED BIPHENYLS (PCBS)</td>\n",
       "      <td>918.0</td>\n",
       "      <td>POLYCHLORINATED BIPHENYLS (PCBS)</td>\n",
       "      <td>197.0</td>\n",
       "      <td>CONTAMINATED SEDIMENTS</td>\n",
       "      <td>543.0</td>\n",
       "      <td>LEGACY/HISTORICAL POLLUTANTS</td>\n",
       "      <td>N</td>\n",
       "      <td>5/1/2015</td>\n",
       "    </tr>\n",
       "    <tr>\n",
       "      <td>...</td>\n",
       "      <td>...</td>\n",
       "      <td>...</td>\n",
       "      <td>...</td>\n",
       "      <td>...</td>\n",
       "      <td>...</td>\n",
       "      <td>...</td>\n",
       "      <td>...</td>\n",
       "      <td>...</td>\n",
       "      <td>...</td>\n",
       "      <td>...</td>\n",
       "      <td>...</td>\n",
       "      <td>...</td>\n",
       "      <td>...</td>\n",
       "      <td>...</td>\n",
       "      <td>...</td>\n",
       "      <td>...</td>\n",
       "      <td>...</td>\n",
       "      <td>...</td>\n",
       "      <td>...</td>\n",
       "      <td>...</td>\n",
       "      <td>...</td>\n",
       "    </tr>\n",
       "    <tr>\n",
       "      <td>539262</td>\n",
       "      <td>378843</td>\n",
       "      <td>WYTR100901010401_01</td>\n",
       "      <td>WYTR100901010401_01</td>\n",
       "      <td>2012</td>\n",
       "      <td>WY</td>\n",
       "      <td>Y</td>\n",
       "      <td>http://ofmpub.epa.gov/waters10/attains_waterbo...</td>\n",
       "      <td>Meade Creek</td>\n",
       "      <td>IMPAIRED</td>\n",
       "      <td>5</td>\n",
       "      <td>...</td>\n",
       "      <td>471.0</td>\n",
       "      <td>ESCHERICHIA COLI (E. COLI)</td>\n",
       "      <td>861.0</td>\n",
       "      <td>PATHOGENS</td>\n",
       "      <td>292.0</td>\n",
       "      <td>SOURCE UNKNOWN</td>\n",
       "      <td>472.0</td>\n",
       "      <td>UNKNOWN</td>\n",
       "      <td>N</td>\n",
       "      <td>5/1/2015</td>\n",
       "    </tr>\n",
       "    <tr>\n",
       "      <td>539287</td>\n",
       "      <td>378852</td>\n",
       "      <td>WYTR100901010402_01</td>\n",
       "      <td>WYTR100901010402_01</td>\n",
       "      <td>2012</td>\n",
       "      <td>WY</td>\n",
       "      <td>Y</td>\n",
       "      <td>http://ofmpub.epa.gov/waters10/attains_waterbo...</td>\n",
       "      <td>Prairie Dog Creek</td>\n",
       "      <td>IMPAIRED</td>\n",
       "      <td>5</td>\n",
       "      <td>...</td>\n",
       "      <td>692.0</td>\n",
       "      <td>MANGANESE</td>\n",
       "      <td>706.0</td>\n",
       "      <td>METALS (OTHER THAN MERCURY)</td>\n",
       "      <td>208.0</td>\n",
       "      <td>NATURAL SOURCES</td>\n",
       "      <td>546.0</td>\n",
       "      <td>NATURAL/WILDLIFE</td>\n",
       "      <td>N</td>\n",
       "      <td>5/1/2015</td>\n",
       "    </tr>\n",
       "    <tr>\n",
       "      <td>539288</td>\n",
       "      <td>378852</td>\n",
       "      <td>WYTR100901010402_01</td>\n",
       "      <td>WYTR100901010402_01</td>\n",
       "      <td>2012</td>\n",
       "      <td>WY</td>\n",
       "      <td>Y</td>\n",
       "      <td>http://ofmpub.epa.gov/waters10/attains_waterbo...</td>\n",
       "      <td>Prairie Dog Creek</td>\n",
       "      <td>IMPAIRED</td>\n",
       "      <td>5</td>\n",
       "      <td>...</td>\n",
       "      <td>500.0</td>\n",
       "      <td>FECAL COLIFORM</td>\n",
       "      <td>861.0</td>\n",
       "      <td>PATHOGENS</td>\n",
       "      <td>292.0</td>\n",
       "      <td>SOURCE UNKNOWN</td>\n",
       "      <td>472.0</td>\n",
       "      <td>UNKNOWN</td>\n",
       "      <td>N</td>\n",
       "      <td>5/1/2015</td>\n",
       "    </tr>\n",
       "    <tr>\n",
       "      <td>539289</td>\n",
       "      <td>378852</td>\n",
       "      <td>WYTR100901010402_01</td>\n",
       "      <td>WYTR100901010402_01</td>\n",
       "      <td>2012</td>\n",
       "      <td>WY</td>\n",
       "      <td>Y</td>\n",
       "      <td>http://ofmpub.epa.gov/waters10/attains_waterbo...</td>\n",
       "      <td>Prairie Dog Creek</td>\n",
       "      <td>IMPAIRED</td>\n",
       "      <td>5</td>\n",
       "      <td>...</td>\n",
       "      <td>1036.0</td>\n",
       "      <td>TEMPERATURE, WATER</td>\n",
       "      <td>1035.0</td>\n",
       "      <td>TEMPERATURE</td>\n",
       "      <td>292.0</td>\n",
       "      <td>SOURCE UNKNOWN</td>\n",
       "      <td>472.0</td>\n",
       "      <td>UNKNOWN</td>\n",
       "      <td>N</td>\n",
       "      <td>5/1/2015</td>\n",
       "    </tr>\n",
       "    <tr>\n",
       "      <td>539302</td>\n",
       "      <td>378865</td>\n",
       "      <td>WYYR100700060101_01</td>\n",
       "      <td>WYYR100700060101_01</td>\n",
       "      <td>2012</td>\n",
       "      <td>WY</td>\n",
       "      <td>Y</td>\n",
       "      <td>http://ofmpub.epa.gov/waters10/attains_waterbo...</td>\n",
       "      <td>Clarks Fork Yellowstone River</td>\n",
       "      <td>IMPAIRED</td>\n",
       "      <td>4A</td>\n",
       "      <td>...</td>\n",
       "      <td>NaN</td>\n",
       "      <td>NaN</td>\n",
       "      <td>NaN</td>\n",
       "      <td>NaN</td>\n",
       "      <td>NaN</td>\n",
       "      <td>NaN</td>\n",
       "      <td>NaN</td>\n",
       "      <td>NaN</td>\n",
       "      <td>NaN</td>\n",
       "      <td>NaN</td>\n",
       "    </tr>\n",
       "  </tbody>\n",
       "</table>\n",
       "<p>12501 rows × 34 columns</p>\n",
       "</div>"
      ],
      "text/plain": [
       "            ID   ASSESSMENT_UNIT_ID ASSESSMENT_UNIT_ID_ORIG  CYCLE_YEAR STATE  \\\n",
       "2230      1810  AL03150105-1003-102     AL03150105-1003-102        2012    AL   \n",
       "2269      1845  AL03150106-0204-102     AL03150106-0204-102        2012    AL   \n",
       "2370      1945  AL03150106-0507-102     AL03150106-0507-102        2012    AL   \n",
       "2371      1945  AL03150106-0507-102     AL03150106-0507-102        2012    AL   \n",
       "2424      1987  AL03150106-0603-111     AL03150106-0603-111        2012    AL   \n",
       "...        ...                  ...                     ...         ...   ...   \n",
       "539262  378843  WYTR100901010401_01     WYTR100901010401_01        2012    WY   \n",
       "539287  378852  WYTR100901010402_01     WYTR100901010402_01        2012    WY   \n",
       "539288  378852  WYTR100901010402_01     WYTR100901010402_01        2012    WY   \n",
       "539289  378852  WYTR100901010402_01     WYTR100901010402_01        2012    WY   \n",
       "539302  378865  WYYR100700060101_01     WYYR100700060101_01        2012    WY   \n",
       "\n",
       "       IR_STATUS                                AU_WATERBODY_REPORT  \\\n",
       "2230           Y  http://ofmpub.epa.gov/waters10/attains_waterbo...   \n",
       "2269           Y  http://ofmpub.epa.gov/waters10/attains_waterbo...   \n",
       "2370           Y  http://ofmpub.epa.gov/waters10/attains_waterbo...   \n",
       "2371           Y  http://ofmpub.epa.gov/waters10/attains_waterbo...   \n",
       "2424           Y  http://ofmpub.epa.gov/waters10/attains_waterbo...   \n",
       "...          ...                                                ...   \n",
       "539262         Y  http://ofmpub.epa.gov/waters10/attains_waterbo...   \n",
       "539287         Y  http://ofmpub.epa.gov/waters10/attains_waterbo...   \n",
       "539288         Y  http://ofmpub.epa.gov/waters10/attains_waterbo...   \n",
       "539289         Y  http://ofmpub.epa.gov/waters10/attains_waterbo...   \n",
       "539302         Y  http://ofmpub.epa.gov/waters10/attains_waterbo...   \n",
       "\n",
       "                   ASSESSMENT_UNIT_NAME ASSESSMENT_STATUS  \\\n",
       "2230           Coosa River (Weiss Lake)          IMPAIRED   \n",
       "2269     Coosa River (Lake Neely Henry)          IMPAIRED   \n",
       "2370                  Choccolocco Creek          IMPAIRED   \n",
       "2371                  Choccolocco Creek          IMPAIRED   \n",
       "2424    Coosa River (Logan Martin Lake)          IMPAIRED   \n",
       "...                                 ...               ...   \n",
       "539262                      Meade Creek          IMPAIRED   \n",
       "539287                Prairie Dog Creek          IMPAIRED   \n",
       "539288                Prairie Dog Creek          IMPAIRED   \n",
       "539289                Prairie Dog Creek          IMPAIRED   \n",
       "539302    Clarks Fork Yellowstone River          IMPAIRED   \n",
       "\n",
       "       ASSESSMENT_UNIT_EPA_CATEGORY  ... LW_DETAILED_CAUSE_ID  \\\n",
       "2230                             4A  ...                  NaN   \n",
       "2269                              5  ...                918.0   \n",
       "2370                              5  ...                693.0   \n",
       "2371                              5  ...                918.0   \n",
       "2424                              5  ...                918.0   \n",
       "...                             ...  ...                  ...   \n",
       "539262                            5  ...                471.0   \n",
       "539287                            5  ...                692.0   \n",
       "539288                            5  ...                500.0   \n",
       "539289                            5  ...               1036.0   \n",
       "539302                           4A  ...                  NaN   \n",
       "\n",
       "                  LW_DETAILED_CAUSE_NAME LW_PARENT_CAUSE_ID  \\\n",
       "2230                                 NaN                NaN   \n",
       "2269    POLYCHLORINATED BIPHENYLS (PCBS)              918.0   \n",
       "2370                             MERCURY              693.0   \n",
       "2371    POLYCHLORINATED BIPHENYLS (PCBS)              918.0   \n",
       "2424    POLYCHLORINATED BIPHENYLS (PCBS)              918.0   \n",
       "...                                  ...                ...   \n",
       "539262        ESCHERICHIA COLI (E. COLI)              861.0   \n",
       "539287                         MANGANESE              706.0   \n",
       "539288                    FECAL COLIFORM              861.0   \n",
       "539289                TEMPERATURE, WATER             1035.0   \n",
       "539302                               NaN                NaN   \n",
       "\n",
       "                    LW_PARENT_CAUSE_NAME LW_DETAILED_SOURCE_ID  \\\n",
       "2230                                 NaN                   NaN   \n",
       "2269    POLYCHLORINATED BIPHENYLS (PCBS)                 197.0   \n",
       "2370                             MERCURY                 154.0   \n",
       "2371    POLYCHLORINATED BIPHENYLS (PCBS)                 197.0   \n",
       "2424    POLYCHLORINATED BIPHENYLS (PCBS)                 197.0   \n",
       "...                                  ...                   ...   \n",
       "539262                         PATHOGENS                 292.0   \n",
       "539287       METALS (OTHER THAN MERCURY)                 208.0   \n",
       "539288                         PATHOGENS                 292.0   \n",
       "539289                       TEMPERATURE                 292.0   \n",
       "539302                               NaN                   NaN   \n",
       "\n",
       "                LW_DETAILED_SOURCE_NAME LW_PARENT_SOURCE_ID  \\\n",
       "2230                                NaN                 NaN   \n",
       "2269             CONTAMINATED SEDIMENTS               543.0   \n",
       "2370    ATMOSPHERIC DEPOSITION - TOXICS               109.0   \n",
       "2371             CONTAMINATED SEDIMENTS               543.0   \n",
       "2424             CONTAMINATED SEDIMENTS               543.0   \n",
       "...                                 ...                 ...   \n",
       "539262                   SOURCE UNKNOWN               472.0   \n",
       "539287                  NATURAL SOURCES               546.0   \n",
       "539288                   SOURCE UNKNOWN               472.0   \n",
       "539289                   SOURCE UNKNOWN               472.0   \n",
       "539302                              NaN                 NaN   \n",
       "\n",
       "               LW_PARENT_SOURCE_NAME TMDL_FLAG  EPA2_SNAPSHOT_DATE  \n",
       "2230                             NaN       NaN                 NaN  \n",
       "2269    LEGACY/HISTORICAL POLLUTANTS         N            5/1/2015  \n",
       "2370          ATMOSPHERIC DEPOSITION         N            5/1/2015  \n",
       "2371    LEGACY/HISTORICAL POLLUTANTS         N            5/1/2015  \n",
       "2424    LEGACY/HISTORICAL POLLUTANTS         N            5/1/2015  \n",
       "...                              ...       ...                 ...  \n",
       "539262                       UNKNOWN         N            5/1/2015  \n",
       "539287              NATURAL/WILDLIFE         N            5/1/2015  \n",
       "539288                       UNKNOWN         N            5/1/2015  \n",
       "539289                       UNKNOWN         N            5/1/2015  \n",
       "539302                           NaN       NaN                 NaN  \n",
       "\n",
       "[12501 rows x 34 columns]"
      ]
     },
     "execution_count": 102,
     "metadata": {},
     "output_type": "execute_result"
    }
   ],
   "source": [
    "# All BAD DRINKING WATER 2012\n",
    "filtered_df2 = two_column_filter(\"ASSESSMENT_STATUS\",\"AU_PARENT_USE_DESC\",\"IMPAIRED\",\"PUBLIC WATER SUPPLY\")\n",
    "bad_drinking_df = filtered_df2.copy()\n",
    "bad_drinking_df"
   ]
  },
  {
   "cell_type": "code",
   "execution_count": 123,
   "metadata": {
    "slideshow": {
     "slide_type": "-"
    }
   },
   "outputs": [
    {
     "data": {
      "image/png": "[encoded data removed]",
      "text/plain": [
       "<Figure size 432x288 with 1 Axes>"
      ]
     },
     "metadata": {
      "needs_background": "light"
     },
     "output_type": "display_data"
    }
   ],
   "source": [
    "# Fresh Water Good / Impaired chart\n",
    "xvar = epadata_df[\"ASSESSMENT_STATUS\"].unique()\n",
    "hvar = epadata_df[\"ASSESSMENT_STATUS\"].value_counts()\n",
    "plt.title(\"2012 EPA Fresh Water\")\n",
    "plt.xlabel(\"Field Test Results\")\n",
    "plt.ylabel(\"Waterways Tested\")\n",
    "plt.bar(xvar,hvar)\n",
    "plt.savefig(\"images/EPAUS.png\", bbox_inches=\"tight\", pad_inches=0.2)\n",
    "plt.savefig('images/tempDalles.png', bbox_inches=\"tight\", pad_inches=0.2)\n",
    "plt.show()"
   ]
  },
  {
   "cell_type": "code",
   "execution_count": null,
   "metadata": {
    "slideshow": {
     "slide_type": "-"
    }
   },
   "outputs": [],
   "source": []
  },
  {
   "cell_type": "code",
   "execution_count": 111,
   "metadata": {
    "slideshow": {
     "slide_type": "-"
    }
   },
   "outputs": [
    {
     "data": {
      "application/vnd.plotly.v1+json": {
       "config": {
        "plotlyServerURL": "https://plot.ly"
       },
       "data": [
        {
         "colorbar": {
          "title": {
           "text": "Thousands Impaired"
          }
         },
         "colorscale": [
          [
           0,
           "rgb(255,245,240)"
          ],
          [
           0.125,
           "rgb(254,224,210)"
          ],
          [
           0.25,
           "rgb(252,187,161)"
          ],
          [
           0.375,
           "rgb(252,146,114)"
          ],
          [
           0.5,
           "rgb(251,106,74)"
          ],
          [
           0.625,
           "rgb(239,59,44)"
          ],
          [
           0.75,
           "rgb(203,24,29)"
          ],
          [
           0.875,
           "rgb(165,15,21)"
          ],
          [
           1,
           "rgb(103,0,13)"
          ]
         ],
         "locationmode": "USA-states",
         "locations": [
          "AL",
          "CT",
          "DC",
          "GA",
          "IA",
          "ID",
          "KS",
          "KY",
          "LA",
          "MO",
          "MS",
          "MT",
          "NC",
          "ND",
          "NE",
          "NM",
          "NV",
          "NY",
          "OK",
          "PR",
          "RI",
          "SC",
          "SD",
          "TN",
          "VI",
          "VT",
          "WY"
         ],
         "type": "choropleth",
         "z": [
          5768,
          10768,
          1795,
          2233,
          3415,
          28165,
          7911,
          28422,
          3004,
          2533,
          680,
          13993,
          7879,
          9769,
          2776,
          4692,
          8763,
          14101,
          24153,
          8692,
          2888,
          4177,
          1697,
          18012,
          776,
          5433,
          2711
         ]
        }
       ],
       "layout": {
        "geo": {
         "scope": "usa"
        },
        "template": {
         "data": {
          "bar": [
           {
            "error_x": {
             "color": "#2a3f5f"
            },
            "error_y": {
             "color": "#2a3f5f"
            },
            "marker": {
             "line": {
              "color": "#E5ECF6",
              "width": 0.5
             }
            },
            "type": "bar"
           }
          ],
          "barpolar": [
           {
            "marker": {
             "line": {
              "color": "#E5ECF6",
              "width": 0.5
             }
            },
            "type": "barpolar"
           }
          ],
          "carpet": [
           {
            "aaxis": {
             "endlinecolor": "#2a3f5f",
             "gridcolor": "white",
             "linecolor": "white",
             "minorgridcolor": "white",
             "startlinecolor": "#2a3f5f"
            },
            "baxis": {
             "endlinecolor": "#2a3f5f",
             "gridcolor": "white",
             "linecolor": "white",
             "minorgridcolor": "white",
             "startlinecolor": "#2a3f5f"
            },
            "type": "carpet"
           }
          ],
          "choropleth": [
           {
            "colorbar": {
             "outlinewidth": 0,
             "ticks": ""
            },
            "type": "choropleth"
           }
          ],
          "contour": [
           {
            "colorbar": {
             "outlinewidth": 0,
             "ticks": ""
            },
            "colorscale": [
             [
              0,
              "#0d0887"
             ],
             [
              0.1111111111111111,
              "#46039f"
             ],
             [
              0.2222222222222222,
              "#7201a8"
             ],
             [
              0.3333333333333333,
              "#9c179e"
             ],
             [
              0.4444444444444444,
              "#bd3786"
             ],
             [
              0.5555555555555556,
              "#d8576b"
             ],
             [
              0.6666666666666666,
              "#ed7953"
             ],
             [
              0.7777777777777778,
              "#fb9f3a"
             ],
             [
              0.8888888888888888,
              "#fdca26"
             ],
             [
              1,
              "#f0f921"
             ]
            ],
            "type": "contour"
           }
          ],
          "contourcarpet": [
           {
            "colorbar": {
             "outlinewidth": 0,
             "ticks": ""
            },
            "type": "contourcarpet"
           }
          ],
          "heatmap": [
           {
            "colorbar": {
             "outlinewidth": 0,
             "ticks": ""
            },
            "colorscale": [
             [
              0,
              "#0d0887"
             ],
             [
              0.1111111111111111,
              "#46039f"
             ],
             [
              0.2222222222222222,
              "#7201a8"
             ],
             [
              0.3333333333333333,
              "#9c179e"
             ],
             [
              0.4444444444444444,
              "#bd3786"
             ],
             [
              0.5555555555555556,
              "#d8576b"
             ],
             [
              0.6666666666666666,
              "#ed7953"
             ],
             [
              0.7777777777777778,
              "#fb9f3a"
             ],
             [
              0.8888888888888888,
              "#fdca26"
             ],
             [
              1,
              "#f0f921"
             ]
            ],
            "type": "heatmap"
           }
          ],
          "heatmapgl": [
           {
            "colorbar": {
             "outlinewidth": 0,
             "ticks": ""
            },
            "colorscale": [
             [
              0,
              "#0d0887"
             ],
             [
              0.1111111111111111,
              "#46039f"
             ],
             [
              0.2222222222222222,
              "#7201a8"
             ],
             [
              0.3333333333333333,
              "#9c179e"
             ],
             [
              0.4444444444444444,
              "#bd3786"
             ],
             [
              0.5555555555555556,
              "#d8576b"
             ],
             [
              0.6666666666666666,
              "#ed7953"
             ],
             [
              0.7777777777777778,
              "#fb9f3a"
             ],
             [
              0.8888888888888888,
              "#fdca26"
             ],
             [
              1,
              "#f0f921"
             ]
            ],
            "type": "heatmapgl"
           }
          ],
          "histogram": [
           {
            "marker": {
             "colorbar": {
              "outlinewidth": 0,
              "ticks": ""
             }
            },
            "type": "histogram"
           }
          ],
          "histogram2d": [
           {
            "colorbar": {
             "outlinewidth": 0,
             "ticks": ""
            },
            "colorscale": [
             [
              0,
              "#0d0887"
             ],
             [
              0.1111111111111111,
              "#46039f"
             ],
             [
              0.2222222222222222,
              "#7201a8"
             ],
             [
              0.3333333333333333,
              "#9c179e"
             ],
             [
              0.4444444444444444,
              "#bd3786"
             ],
             [
              0.5555555555555556,
              "#d8576b"
             ],
             [
              0.6666666666666666,
              "#ed7953"
             ],
             [
              0.7777777777777778,
              "#fb9f3a"
             ],
             [
              0.8888888888888888,
              "#fdca26"
             ],
             [
              1,
              "#f0f921"
             ]
            ],
            "type": "histogram2d"
           }
          ],
          "histogram2dcontour": [
           {
            "colorbar": {
             "outlinewidth": 0,
             "ticks": ""
            },
            "colorscale": [
             [
              0,
              "#0d0887"
             ],
             [
              0.1111111111111111,
              "#46039f"
             ],
             [
              0.2222222222222222,
              "#7201a8"
             ],
             [
              0.3333333333333333,
              "#9c179e"
             ],
             [
              0.4444444444444444,
              "#bd3786"
             ],
             [
              0.5555555555555556,
              "#d8576b"
             ],
             [
              0.6666666666666666,
              "#ed7953"
             ],
             [
              0.7777777777777778,
              "#fb9f3a"
             ],
             [
              0.8888888888888888,
              "#fdca26"
             ],
             [
              1,
              "#f0f921"
             ]
            ],
            "type": "histogram2dcontour"
           }
          ],
          "mesh3d": [
           {
            "colorbar": {
             "outlinewidth": 0,
             "ticks": ""
            },
            "type": "mesh3d"
           }
          ],
          "parcoords": [
           {
            "line": {
             "colorbar": {
              "outlinewidth": 0,
              "ticks": ""
             }
            },
            "type": "parcoords"
           }
          ],
          "pie": [
           {
            "automargin": true,
            "type": "pie"
           }
          ],
          "scatter": [
           {
            "marker": {
             "colorbar": {
              "outlinewidth": 0,
              "ticks": ""
             }
            },
            "type": "scatter"
           }
          ],
          "scatter3d": [
           {
            "line": {
             "colorbar": {
              "outlinewidth": 0,
              "ticks": ""
             }
            },
            "marker": {
             "colorbar": {
              "outlinewidth": 0,
              "ticks": ""
             }
            },
            "type": "scatter3d"
           }
          ],
          "scattercarpet": [
           {
            "marker": {
             "colorbar": {
              "outlinewidth": 0,
              "ticks": ""
             }
            },
            "type": "scattercarpet"
           }
          ],
          "scattergeo": [
           {
            "marker": {
             "colorbar": {
              "outlinewidth": 0,
              "ticks": ""
             }
            },
            "type": "scattergeo"
           }
          ],
          "scattergl": [
           {
            "marker": {
             "colorbar": {
              "outlinewidth": 0,
              "ticks": ""
             }
            },
            "type": "scattergl"
           }
          ],
          "scattermapbox": [
           {
            "marker": {
             "colorbar": {
              "outlinewidth": 0,
              "ticks": ""
             }
            },
            "type": "scattermapbox"
           }
          ],
          "scatterpolar": [
           {
            "marker": {
             "colorbar": {
              "outlinewidth": 0,
              "ticks": ""
             }
            },
            "type": "scatterpolar"
           }
          ],
          "scatterpolargl": [
           {
            "marker": {
             "colorbar": {
              "outlinewidth": 0,
              "ticks": ""
             }
            },
            "type": "scatterpolargl"
           }
          ],
          "scatterternary": [
           {
            "marker": {
             "colorbar": {
              "outlinewidth": 0,
              "ticks": ""
             }
            },
            "type": "scatterternary"
           }
          ],
          "surface": [
           {
            "colorbar": {
             "outlinewidth": 0,
             "ticks": ""
            },
            "colorscale": [
             [
              0,
              "#0d0887"
             ],
             [
              0.1111111111111111,
              "#46039f"
             ],
             [
              0.2222222222222222,
              "#7201a8"
             ],
             [
              0.3333333333333333,
              "#9c179e"
             ],
             [
              0.4444444444444444,
              "#bd3786"
             ],
             [
              0.5555555555555556,
              "#d8576b"
             ],
             [
              0.6666666666666666,
              "#ed7953"
             ],
             [
              0.7777777777777778,
              "#fb9f3a"
             ],
             [
              0.8888888888888888,
              "#fdca26"
             ],
             [
              1,
              "#f0f921"
             ]
            ],
            "type": "surface"
           }
          ],
          "table": [
           {
            "cells": {
             "fill": {
              "color": "#EBF0F8"
             },
             "line": {
              "color": "white"
             }
            },
            "header": {
             "fill": {
              "color": "#C8D4E3"
             },
             "line": {
              "color": "white"
             }
            },
            "type": "table"
           }
          ]
         },
         "layout": {
          "annotationdefaults": {
           "arrowcolor": "#2a3f5f",
           "arrowhead": 0,
           "arrowwidth": 1
          },
          "coloraxis": {
           "colorbar": {
            "outlinewidth": 0,
            "ticks": ""
           }
          },
          "colorscale": {
           "diverging": [
            [
             0,
             "#8e0152"
            ],
            [
             0.1,
             "#c51b7d"
            ],
            [
             0.2,
             "#de77ae"
            ],
            [
             0.3,
             "#f1b6da"
            ],
            [
             0.4,
             "#fde0ef"
            ],
            [
             0.5,
             "#f7f7f7"
            ],
            [
             0.6,
             "#e6f5d0"
            ],
            [
             0.7,
             "#b8e186"
            ],
            [
             0.8,
             "#7fbc41"
            ],
            [
             0.9,
             "#4d9221"
            ],
            [
             1,
             "#276419"
            ]
           ],
           "sequential": [
            [
             0,
             "#0d0887"
            ],
            [
             0.1111111111111111,
             "#46039f"
            ],
            [
             0.2222222222222222,
             "#7201a8"
            ],
            [
             0.3333333333333333,
             "#9c179e"
            ],
            [
             0.4444444444444444,
             "#bd3786"
            ],
            [
             0.5555555555555556,
             "#d8576b"
            ],
            [
             0.6666666666666666,
             "#ed7953"
            ],
            [
             0.7777777777777778,
             "#fb9f3a"
            ],
            [
             0.8888888888888888,
             "#fdca26"
            ],
            [
             1,
             "#f0f921"
            ]
           ],
           "sequentialminus": [
            [
             0,
             "#0d0887"
            ],
            [
             0.1111111111111111,
             "#46039f"
            ],
            [
             0.2222222222222222,
             "#7201a8"
            ],
            [
             0.3333333333333333,
             "#9c179e"
            ],
            [
             0.4444444444444444,
             "#bd3786"
            ],
            [
             0.5555555555555556,
             "#d8576b"
            ],
            [
             0.6666666666666666,
             "#ed7953"
            ],
            [
             0.7777777777777778,
             "#fb9f3a"
            ],
            [
             0.8888888888888888,
             "#fdca26"
            ],
            [
             1,
             "#f0f921"
            ]
           ]
          },
          "colorway": [
           "#636efa",
           "#EF553B",
           "#00cc96",
           "#ab63fa",
           "#FFA15A",
           "#19d3f3",
           "#FF6692",
           "#B6E880",
           "#FF97FF",
           "#FECB52"
          ],
          "font": {
           "color": "#2a3f5f"
          },
          "geo": {
           "bgcolor": "white",
           "lakecolor": "white",
           "landcolor": "#E5ECF6",
           "showlakes": true,
           "showland": true,
           "subunitcolor": "white"
          },
          "hoverlabel": {
           "align": "left"
          },
          "hovermode": "closest",
          "mapbox": {
           "style": "light"
          },
          "paper_bgcolor": "white",
          "plot_bgcolor": "#E5ECF6",
          "polar": {
           "angularaxis": {
            "gridcolor": "white",
            "linecolor": "white",
            "ticks": ""
           },
           "bgcolor": "#E5ECF6",
           "radialaxis": {
            "gridcolor": "white",
            "linecolor": "white",
            "ticks": ""
           }
          },
          "scene": {
           "xaxis": {
            "backgroundcolor": "#E5ECF6",
            "gridcolor": "white",
            "gridwidth": 2,
            "linecolor": "white",
            "showbackground": true,
            "ticks": "",
            "zerolinecolor": "white"
           },
           "yaxis": {
            "backgroundcolor": "#E5ECF6",
            "gridcolor": "white",
            "gridwidth": 2,
            "linecolor": "white",
            "showbackground": true,
            "ticks": "",
            "zerolinecolor": "white"
           },
           "zaxis": {
            "backgroundcolor": "#E5ECF6",
            "gridcolor": "white",
            "gridwidth": 2,
            "linecolor": "white",
            "showbackground": true,
            "ticks": "",
            "zerolinecolor": "white"
           }
          },
          "shapedefaults": {
           "line": {
            "color": "#2a3f5f"
           }
          },
          "ternary": {
           "aaxis": {
            "gridcolor": "white",
            "linecolor": "white",
            "ticks": ""
           },
           "baxis": {
            "gridcolor": "white",
            "linecolor": "white",
            "ticks": ""
           },
           "bgcolor": "#E5ECF6",
           "caxis": {
            "gridcolor": "white",
            "linecolor": "white",
            "ticks": ""
           }
          },
          "title": {
           "x": 0.05
          },
          "xaxis": {
           "automargin": true,
           "gridcolor": "white",
           "linecolor": "white",
           "ticks": "",
           "title": {
            "standoff": 15
           },
           "zerolinecolor": "white",
           "zerolinewidth": 2
          },
          "yaxis": {
           "automargin": true,
           "gridcolor": "white",
           "linecolor": "white",
           "ticks": "",
           "title": {
            "standoff": 15
           },
           "zerolinecolor": "white",
           "zerolinewidth": 2
          }
         }
        },
        "title": {
         "text": "Impaired Waterways by State"
        }
       }
      },
      "text/html": [
       "<div>\n",
       "        \n",
       "        \n",
       "            <div id=\"243b0dde-b8e6-4a1a-8d62-b91eacb70fa8\" class=\"plotly-graph-div\" style=\"height:525px; width:100%;\"></div>\n",
       "            <script type=\"text/javascript\">\n",
       "                require([\"plotly\"], function(Plotly) {\n",
       "                    window.PLOTLYENV=window.PLOTLYENV || {};\n",
       "                    \n",
       "                if (document.getElementById(\"243b0dde-b8e6-4a1a-8d62-b91eacb70fa8\")) {\n",
       "                    Plotly.newPlot(\n",
       "                        '243b0dde-b8e6-4a1a-8d62-b91eacb70fa8',\n",
       "                        [{\"colorbar\": {\"title\": {\"text\": \"Thousands Impaired\"}}, \"colorscale\": [[0.0, \"rgb(255,245,240)\"], [0.125, \"rgb(254,224,210)\"], [0.25, \"rgb(252,187,161)\"], [0.375, \"rgb(252,146,114)\"], [0.5, \"rgb(251,106,74)\"], [0.625, \"rgb(239,59,44)\"], [0.75, \"rgb(203,24,29)\"], [0.875, \"rgb(165,15,21)\"], [1.0, \"rgb(103,0,13)\"]], \"locationmode\": \"USA-states\", \"locations\": [\"AL\", \"CT\", \"DC\", \"GA\", \"IA\", \"ID\", \"KS\", \"KY\", \"LA\", \"MO\", \"MS\", \"MT\", \"NC\", \"ND\", \"NE\", \"NM\", \"NV\", \"NY\", \"OK\", \"PR\", \"RI\", \"SC\", \"SD\", \"TN\", \"VI\", \"VT\", \"WY\"], \"type\": \"choropleth\", \"z\": [5768, 10768, 1795, 2233, 3415, 28165, 7911, 28422, 3004, 2533, 680, 13993, 7879, 9769, 2776, 4692, 8763, 14101, 24153, 8692, 2888, 4177, 1697, 18012, 776, 5433, 2711]}],\n",
       "                        {\"geo\": {\"scope\": \"usa\"}, \"template\": {\"data\": {\"bar\": [{\"error_x\": {\"color\": \"#2a3f5f\"}, \"error_y\": {\"color\": \"#2a3f5f\"}, \"marker\": {\"line\": {\"color\": \"#E5ECF6\", \"width\": 0.5}}, \"type\": \"bar\"}], \"barpolar\": [{\"marker\": {\"line\": {\"color\": \"#E5ECF6\", \"width\": 0.5}}, \"type\": \"barpolar\"}], \"carpet\": [{\"aaxis\": {\"endlinecolor\": \"#2a3f5f\", \"gridcolor\": \"white\", \"linecolor\": \"white\", \"minorgridcolor\": \"white\", \"startlinecolor\": \"#2a3f5f\"}, \"baxis\": {\"endlinecolor\": \"#2a3f5f\", \"gridcolor\": \"white\", \"linecolor\": \"white\", \"minorgridcolor\": \"white\", \"startlinecolor\": \"#2a3f5f\"}, \"type\": \"carpet\"}], \"choropleth\": [{\"colorbar\": {\"outlinewidth\": 0, \"ticks\": \"\"}, \"type\": \"choropleth\"}], \"contour\": [{\"colorbar\": {\"outlinewidth\": 0, \"ticks\": \"\"}, \"colorscale\": [[0.0, \"#0d0887\"], [0.1111111111111111, \"#46039f\"], [0.2222222222222222, \"#7201a8\"], [0.3333333333333333, \"#9c179e\"], [0.4444444444444444, \"#bd3786\"], [0.5555555555555556, \"#d8576b\"], [0.6666666666666666, \"#ed7953\"], [0.7777777777777778, \"#fb9f3a\"], [0.8888888888888888, \"#fdca26\"], [1.0, \"#f0f921\"]], \"type\": \"contour\"}], \"contourcarpet\": [{\"colorbar\": {\"outlinewidth\": 0, \"ticks\": \"\"}, \"type\": \"contourcarpet\"}], \"heatmap\": [{\"colorbar\": {\"outlinewidth\": 0, \"ticks\": \"\"}, \"colorscale\": [[0.0, \"#0d0887\"], [0.1111111111111111, \"#46039f\"], [0.2222222222222222, \"#7201a8\"], [0.3333333333333333, \"#9c179e\"], [0.4444444444444444, \"#bd3786\"], [0.5555555555555556, \"#d8576b\"], [0.6666666666666666, \"#ed7953\"], [0.7777777777777778, \"#fb9f3a\"], [0.8888888888888888, \"#fdca26\"], [1.0, \"#f0f921\"]], \"type\": \"heatmap\"}], \"heatmapgl\": [{\"colorbar\": {\"outlinewidth\": 0, \"ticks\": \"\"}, \"colorscale\": [[0.0, \"#0d0887\"], [0.1111111111111111, \"#46039f\"], [0.2222222222222222, \"#7201a8\"], [0.3333333333333333, \"#9c179e\"], [0.4444444444444444, \"#bd3786\"], [0.5555555555555556, \"#d8576b\"], [0.6666666666666666, \"#ed7953\"], [0.7777777777777778, \"#fb9f3a\"], [0.8888888888888888, \"#fdca26\"], [1.0, \"#f0f921\"]], \"type\": \"heatmapgl\"}], \"histogram\": [{\"marker\": {\"colorbar\": {\"outlinewidth\": 0, \"ticks\": \"\"}}, \"type\": \"histogram\"}], \"histogram2d\": [{\"colorbar\": {\"outlinewidth\": 0, \"ticks\": \"\"}, \"colorscale\": [[0.0, \"#0d0887\"], [0.1111111111111111, \"#46039f\"], [0.2222222222222222, \"#7201a8\"], [0.3333333333333333, \"#9c179e\"], [0.4444444444444444, \"#bd3786\"], [0.5555555555555556, \"#d8576b\"], [0.6666666666666666, \"#ed7953\"], [0.7777777777777778, \"#fb9f3a\"], [0.8888888888888888, \"#fdca26\"], [1.0, \"#f0f921\"]], \"type\": \"histogram2d\"}], \"histogram2dcontour\": [{\"colorbar\": {\"outlinewidth\": 0, \"ticks\": \"\"}, \"colorscale\": [[0.0, \"#0d0887\"], [0.1111111111111111, \"#46039f\"], [0.2222222222222222, \"#7201a8\"], [0.3333333333333333, \"#9c179e\"], [0.4444444444444444, \"#bd3786\"], [0.5555555555555556, \"#d8576b\"], [0.6666666666666666, \"#ed7953\"], [0.7777777777777778, \"#fb9f3a\"], [0.8888888888888888, \"#fdca26\"], [1.0, \"#f0f921\"]], \"type\": \"histogram2dcontour\"}], \"mesh3d\": [{\"colorbar\": {\"outlinewidth\": 0, \"ticks\": \"\"}, \"type\": \"mesh3d\"}], \"parcoords\": [{\"line\": {\"colorbar\": {\"outlinewidth\": 0, \"ticks\": \"\"}}, \"type\": \"parcoords\"}], \"pie\": [{\"automargin\": true, \"type\": \"pie\"}], \"scatter\": [{\"marker\": {\"colorbar\": {\"outlinewidth\": 0, \"ticks\": \"\"}}, \"type\": \"scatter\"}], \"scatter3d\": [{\"line\": {\"colorbar\": {\"outlinewidth\": 0, \"ticks\": \"\"}}, \"marker\": {\"colorbar\": {\"outlinewidth\": 0, \"ticks\": \"\"}}, \"type\": \"scatter3d\"}], \"scattercarpet\": [{\"marker\": {\"colorbar\": {\"outlinewidth\": 0, \"ticks\": \"\"}}, \"type\": \"scattercarpet\"}], \"scattergeo\": [{\"marker\": {\"colorbar\": {\"outlinewidth\": 0, \"ticks\": \"\"}}, \"type\": \"scattergeo\"}], \"scattergl\": [{\"marker\": {\"colorbar\": {\"outlinewidth\": 0, \"ticks\": \"\"}}, \"type\": \"scattergl\"}], \"scattermapbox\": [{\"marker\": {\"colorbar\": {\"outlinewidth\": 0, \"ticks\": \"\"}}, \"type\": \"scattermapbox\"}], \"scatterpolar\": [{\"marker\": {\"colorbar\": {\"outlinewidth\": 0, \"ticks\": \"\"}}, \"type\": \"scatterpolar\"}], \"scatterpolargl\": [{\"marker\": {\"colorbar\": {\"outlinewidth\": 0, \"ticks\": \"\"}}, \"type\": \"scatterpolargl\"}], \"scatterternary\": [{\"marker\": {\"colorbar\": {\"outlinewidth\": 0, \"ticks\": \"\"}}, \"type\": \"scatterternary\"}], \"surface\": [{\"colorbar\": {\"outlinewidth\": 0, \"ticks\": \"\"}, \"colorscale\": [[0.0, \"#0d0887\"], [0.1111111111111111, \"#46039f\"], [0.2222222222222222, \"#7201a8\"], [0.3333333333333333, \"#9c179e\"], [0.4444444444444444, \"#bd3786\"], [0.5555555555555556, \"#d8576b\"], [0.6666666666666666, \"#ed7953\"], [0.7777777777777778, \"#fb9f3a\"], [0.8888888888888888, \"#fdca26\"], [1.0, \"#f0f921\"]], \"type\": \"surface\"}], \"table\": [{\"cells\": {\"fill\": {\"color\": \"#EBF0F8\"}, \"line\": {\"color\": \"white\"}}, \"header\": {\"fill\": {\"color\": \"#C8D4E3\"}, \"line\": {\"color\": \"white\"}}, \"type\": \"table\"}]}, \"layout\": {\"annotationdefaults\": {\"arrowcolor\": \"#2a3f5f\", \"arrowhead\": 0, \"arrowwidth\": 1}, \"coloraxis\": {\"colorbar\": {\"outlinewidth\": 0, \"ticks\": \"\"}}, \"colorscale\": {\"diverging\": [[0, \"#8e0152\"], [0.1, \"#c51b7d\"], [0.2, \"#de77ae\"], [0.3, \"#f1b6da\"], [0.4, \"#fde0ef\"], [0.5, \"#f7f7f7\"], [0.6, \"#e6f5d0\"], [0.7, \"#b8e186\"], [0.8, \"#7fbc41\"], [0.9, \"#4d9221\"], [1, \"#276419\"]], \"sequential\": [[0.0, \"#0d0887\"], [0.1111111111111111, \"#46039f\"], [0.2222222222222222, \"#7201a8\"], [0.3333333333333333, \"#9c179e\"], [0.4444444444444444, \"#bd3786\"], [0.5555555555555556, \"#d8576b\"], [0.6666666666666666, \"#ed7953\"], [0.7777777777777778, \"#fb9f3a\"], [0.8888888888888888, \"#fdca26\"], [1.0, \"#f0f921\"]], \"sequentialminus\": [[0.0, \"#0d0887\"], [0.1111111111111111, \"#46039f\"], [0.2222222222222222, \"#7201a8\"], [0.3333333333333333, \"#9c179e\"], [0.4444444444444444, \"#bd3786\"], [0.5555555555555556, \"#d8576b\"], [0.6666666666666666, \"#ed7953\"], [0.7777777777777778, \"#fb9f3a\"], [0.8888888888888888, \"#fdca26\"], [1.0, \"#f0f921\"]]}, \"colorway\": [\"#636efa\", \"#EF553B\", \"#00cc96\", \"#ab63fa\", \"#FFA15A\", \"#19d3f3\", \"#FF6692\", \"#B6E880\", \"#FF97FF\", \"#FECB52\"], \"font\": {\"color\": \"#2a3f5f\"}, \"geo\": {\"bgcolor\": \"white\", \"lakecolor\": \"white\", \"landcolor\": \"#E5ECF6\", \"showlakes\": true, \"showland\": true, \"subunitcolor\": \"white\"}, \"hoverlabel\": {\"align\": \"left\"}, \"hovermode\": \"closest\", \"mapbox\": {\"style\": \"light\"}, \"paper_bgcolor\": \"white\", \"plot_bgcolor\": \"#E5ECF6\", \"polar\": {\"angularaxis\": {\"gridcolor\": \"white\", \"linecolor\": \"white\", \"ticks\": \"\"}, \"bgcolor\": \"#E5ECF6\", \"radialaxis\": {\"gridcolor\": \"white\", \"linecolor\": \"white\", \"ticks\": \"\"}}, \"scene\": {\"xaxis\": {\"backgroundcolor\": \"#E5ECF6\", \"gridcolor\": \"white\", \"gridwidth\": 2, \"linecolor\": \"white\", \"showbackground\": true, \"ticks\": \"\", \"zerolinecolor\": \"white\"}, \"yaxis\": {\"backgroundcolor\": \"#E5ECF6\", \"gridcolor\": \"white\", \"gridwidth\": 2, \"linecolor\": \"white\", \"showbackground\": true, \"ticks\": \"\", \"zerolinecolor\": \"white\"}, \"zaxis\": {\"backgroundcolor\": \"#E5ECF6\", \"gridcolor\": \"white\", \"gridwidth\": 2, \"linecolor\": \"white\", \"showbackground\": true, \"ticks\": \"\", \"zerolinecolor\": \"white\"}}, \"shapedefaults\": {\"line\": {\"color\": \"#2a3f5f\"}}, \"ternary\": {\"aaxis\": {\"gridcolor\": \"white\", \"linecolor\": \"white\", \"ticks\": \"\"}, \"baxis\": {\"gridcolor\": \"white\", \"linecolor\": \"white\", \"ticks\": \"\"}, \"bgcolor\": \"#E5ECF6\", \"caxis\": {\"gridcolor\": \"white\", \"linecolor\": \"white\", \"ticks\": \"\"}}, \"title\": {\"x\": 0.05}, \"xaxis\": {\"automargin\": true, \"gridcolor\": \"white\", \"linecolor\": \"white\", \"ticks\": \"\", \"title\": {\"standoff\": 15}, \"zerolinecolor\": \"white\", \"zerolinewidth\": 2}, \"yaxis\": {\"automargin\": true, \"gridcolor\": \"white\", \"linecolor\": \"white\", \"ticks\": \"\", \"title\": {\"standoff\": 15}, \"zerolinecolor\": \"white\", \"zerolinewidth\": 2}}}, \"title\": {\"text\": \"Impaired Waterways by State\"}},\n",
       "                        {\"responsive\": true}\n",
       "                    ).then(function(){\n",
       "                            \n",
       "var gd = document.getElementById('243b0dde-b8e6-4a1a-8d62-b91eacb70fa8');\n",
       "var x = new MutationObserver(function (mutations, observer) {{\n",
       "        var display = window.getComputedStyle(gd).display;\n",
       "        if (!display || display === 'none') {{\n",
       "            console.log([gd, 'removed!']);\n",
       "            Plotly.purge(gd);\n",
       "            observer.disconnect();\n",
       "        }}\n",
       "}});\n",
       "\n",
       "// Listen for the removal of the full notebook cells\n",
       "var notebookContainer = gd.closest('#notebook-container');\n",
       "if (notebookContainer) {{\n",
       "    x.observe(notebookContainer, {childList: true});\n",
       "}}\n",
       "\n",
       "// Listen for the clearing of the current output cell\n",
       "var outputEl = gd.closest('.output');\n",
       "if (outputEl) {{\n",
       "    x.observe(outputEl, {childList: true});\n",
       "}}\n",
       "\n",
       "                        })\n",
       "                };\n",
       "                });\n",
       "            </script>\n",
       "        </div>"
      ]
     },
     "metadata": {},
     "output_type": "display_data"
    },
    {
     "data": {
      "text/plain": [
       "<Figure size 432x288 with 0 Axes>"
      ]
     },
     "metadata": {},
     "output_type": "display_data"
    }
   ],
   "source": [
    "# ALL IMPAIRED FOR EACH STATE\n",
    "data_count = epadata_df.groupby(\"STATE\")[\"ASSESSMENT_STATUS\"].count().tolist()\n",
    "df = bad_water_df.copy()\n",
    "fig = go.Figure(data=go.Choropleth(\n",
    "    locations = df[\"STATE\"].unique(),  \n",
    "    z = data_count,  #['total exports'].astype(float), # Data to be color-coded\n",
    "    locationmode = 'USA-states', # set of locations match entries in `locations`\n",
    "    colorscale = 'Reds',\n",
    "    colorbar_title = \"Thousands Impaired\",\n",
    "))\n",
    "\n",
    "fig.update_layout(\n",
    "    title_text = 'Impaired Waterways by State',\n",
    "    geo_scope='usa', # limite map scope to USA\n",
    ")\n",
    "plt.savefig(\"images/National.png\")\n",
    "fig.show()"
   ]
  },
  {
   "cell_type": "code",
   "execution_count": 112,
   "metadata": {
    "slideshow": {
     "slide_type": "-"
    }
   },
   "outputs": [
    {
     "data": {
      "application/vnd.plotly.v1+json": {
       "config": {
        "plotlyServerURL": "https://plot.ly"
       },
       "data": [
        {
         "colorbar": {
          "title": {
           "text": "Drinking"
          }
         },
         "colorscale": [
          [
           0,
           "rgb(255,245,240)"
          ],
          [
           0.125,
           "rgb(254,224,210)"
          ],
          [
           0.25,
           "rgb(252,187,161)"
          ],
          [
           0.375,
           "rgb(252,146,114)"
          ],
          [
           0.5,
           "rgb(251,106,74)"
          ],
          [
           0.625,
           "rgb(239,59,44)"
          ],
          [
           0.75,
           "rgb(203,24,29)"
          ],
          [
           0.875,
           "rgb(165,15,21)"
          ],
          [
           1,
           "rgb(103,0,13)"
          ]
         ],
         "locationmode": "USA-states",
         "locations": [
          "AL",
          "CT",
          "GA",
          "IA",
          "ID",
          "KS",
          "KY",
          "LA",
          "MO",
          "MT",
          "ND",
          "NE",
          "NM",
          "NV",
          "NY",
          "OK",
          "PR",
          "RI",
          "SD",
          "TN",
          "VT",
          "WY"
         ],
         "type": "choropleth",
         "z": [
          69,
          60,
          34,
          58,
          396,
          1622,
          153,
          41,
          34,
          3046,
          159,
          9,
          312,
          698,
          125,
          3291,
          1911,
          34,
          14,
          237,
          90,
          108
         ]
        }
       ],
       "layout": {
        "geo": {
         "scope": "usa"
        },
        "template": {
         "data": {
          "bar": [
           {
            "error_x": {
             "color": "#2a3f5f"
            },
            "error_y": {
             "color": "#2a3f5f"
            },
            "marker": {
             "line": {
              "color": "#E5ECF6",
              "width": 0.5
             }
            },
            "type": "bar"
           }
          ],
          "barpolar": [
           {
            "marker": {
             "line": {
              "color": "#E5ECF6",
              "width": 0.5
             }
            },
            "type": "barpolar"
           }
          ],
          "carpet": [
           {
            "aaxis": {
             "endlinecolor": "#2a3f5f",
             "gridcolor": "white",
             "linecolor": "white",
             "minorgridcolor": "white",
             "startlinecolor": "#2a3f5f"
            },
            "baxis": {
             "endlinecolor": "#2a3f5f",
             "gridcolor": "white",
             "linecolor": "white",
             "minorgridcolor": "white",
             "startlinecolor": "#2a3f5f"
            },
            "type": "carpet"
           }
          ],
          "choropleth": [
           {
            "colorbar": {
             "outlinewidth": 0,
             "ticks": ""
            },
            "type": "choropleth"
           }
          ],
          "contour": [
           {
            "colorbar": {
             "outlinewidth": 0,
             "ticks": ""
            },
            "colorscale": [
             [
              0,
              "#0d0887"
             ],
             [
              0.1111111111111111,
              "#46039f"
             ],
             [
              0.2222222222222222,
              "#7201a8"
             ],
             [
              0.3333333333333333,
              "#9c179e"
             ],
             [
              0.4444444444444444,
              "#bd3786"
             ],
             [
              0.5555555555555556,
              "#d8576b"
             ],
             [
              0.6666666666666666,
              "#ed7953"
             ],
             [
              0.7777777777777778,
              "#fb9f3a"
             ],
             [
              0.8888888888888888,
              "#fdca26"
             ],
             [
              1,
              "#f0f921"
             ]
            ],
            "type": "contour"
           }
          ],
          "contourcarpet": [
           {
            "colorbar": {
             "outlinewidth": 0,
             "ticks": ""
            },
            "type": "contourcarpet"
           }
          ],
          "heatmap": [
           {
            "colorbar": {
             "outlinewidth": 0,
             "ticks": ""
            },
            "colorscale": [
             [
              0,
              "#0d0887"
             ],
             [
              0.1111111111111111,
              "#46039f"
             ],
             [
              0.2222222222222222,
              "#7201a8"
             ],
             [
              0.3333333333333333,
              "#9c179e"
             ],
             [
              0.4444444444444444,
              "#bd3786"
             ],
             [
              0.5555555555555556,
              "#d8576b"
             ],
             [
              0.6666666666666666,
              "#ed7953"
             ],
             [
              0.7777777777777778,
              "#fb9f3a"
             ],
             [
              0.8888888888888888,
              "#fdca26"
             ],
             [
              1,
              "#f0f921"
             ]
            ],
            "type": "heatmap"
           }
          ],
          "heatmapgl": [
           {
            "colorbar": {
             "outlinewidth": 0,
             "ticks": ""
            },
            "colorscale": [
             [
              0,
              "#0d0887"
             ],
             [
              0.1111111111111111,
              "#46039f"
             ],
             [
              0.2222222222222222,
              "#7201a8"
             ],
             [
              0.3333333333333333,
              "#9c179e"
             ],
             [
              0.4444444444444444,
              "#bd3786"
             ],
             [
              0.5555555555555556,
              "#d8576b"
             ],
             [
              0.6666666666666666,
              "#ed7953"
             ],
             [
              0.7777777777777778,
              "#fb9f3a"
             ],
             [
              0.8888888888888888,
              "#fdca26"
             ],
             [
              1,
              "#f0f921"
             ]
            ],
            "type": "heatmapgl"
           }
          ],
          "histogram": [
           {
            "marker": {
             "colorbar": {
              "outlinewidth": 0,
              "ticks": ""
             }
            },
            "type": "histogram"
           }
          ],
          "histogram2d": [
           {
            "colorbar": {
             "outlinewidth": 0,
             "ticks": ""
            },
            "colorscale": [
             [
              0,
              "#0d0887"
             ],
             [
              0.1111111111111111,
              "#46039f"
             ],
             [
              0.2222222222222222,
              "#7201a8"
             ],
             [
              0.3333333333333333,
              "#9c179e"
             ],
             [
              0.4444444444444444,
              "#bd3786"
             ],
             [
              0.5555555555555556,
              "#d8576b"
             ],
             [
              0.6666666666666666,
              "#ed7953"
             ],
             [
              0.7777777777777778,
              "#fb9f3a"
             ],
             [
              0.8888888888888888,
              "#fdca26"
             ],
             [
              1,
              "#f0f921"
             ]
            ],
            "type": "histogram2d"
           }
          ],
          "histogram2dcontour": [
           {
            "colorbar": {
             "outlinewidth": 0,
             "ticks": ""
            },
            "colorscale": [
             [
              0,
              "#0d0887"
             ],
             [
              0.1111111111111111,
              "#46039f"
             ],
             [
              0.2222222222222222,
              "#7201a8"
             ],
             [
              0.3333333333333333,
              "#9c179e"
             ],
             [
              0.4444444444444444,
              "#bd3786"
             ],
             [
              0.5555555555555556,
              "#d8576b"
             ],
             [
              0.6666666666666666,
              "#ed7953"
             ],
             [
              0.7777777777777778,
              "#fb9f3a"
             ],
             [
              0.8888888888888888,
              "#fdca26"
             ],
             [
              1,
              "#f0f921"
             ]
            ],
            "type": "histogram2dcontour"
           }
          ],
          "mesh3d": [
           {
            "colorbar": {
             "outlinewidth": 0,
             "ticks": ""
            },
            "type": "mesh3d"
           }
          ],
          "parcoords": [
           {
            "line": {
             "colorbar": {
              "outlinewidth": 0,
              "ticks": ""
             }
            },
            "type": "parcoords"
           }
          ],
          "pie": [
           {
            "automargin": true,
            "type": "pie"
           }
          ],
          "scatter": [
           {
            "marker": {
             "colorbar": {
              "outlinewidth": 0,
              "ticks": ""
             }
            },
            "type": "scatter"
           }
          ],
          "scatter3d": [
           {
            "line": {
             "colorbar": {
              "outlinewidth": 0,
              "ticks": ""
             }
            },
            "marker": {
             "colorbar": {
              "outlinewidth": 0,
              "ticks": ""
             }
            },
            "type": "scatter3d"
           }
          ],
          "scattercarpet": [
           {
            "marker": {
             "colorbar": {
              "outlinewidth": 0,
              "ticks": ""
             }
            },
            "type": "scattercarpet"
           }
          ],
          "scattergeo": [
           {
            "marker": {
             "colorbar": {
              "outlinewidth": 0,
              "ticks": ""
             }
            },
            "type": "scattergeo"
           }
          ],
          "scattergl": [
           {
            "marker": {
             "colorbar": {
              "outlinewidth": 0,
              "ticks": ""
             }
            },
            "type": "scattergl"
           }
          ],
          "scattermapbox": [
           {
            "marker": {
             "colorbar": {
              "outlinewidth": 0,
              "ticks": ""
             }
            },
            "type": "scattermapbox"
           }
          ],
          "scatterpolar": [
           {
            "marker": {
             "colorbar": {
              "outlinewidth": 0,
              "ticks": ""
             }
            },
            "type": "scatterpolar"
           }
          ],
          "scatterpolargl": [
           {
            "marker": {
             "colorbar": {
              "outlinewidth": 0,
              "ticks": ""
             }
            },
            "type": "scatterpolargl"
           }
          ],
          "scatterternary": [
           {
            "marker": {
             "colorbar": {
              "outlinewidth": 0,
              "ticks": ""
             }
            },
            "type": "scatterternary"
           }
          ],
          "surface": [
           {
            "colorbar": {
             "outlinewidth": 0,
             "ticks": ""
            },
            "colorscale": [
             [
              0,
              "#0d0887"
             ],
             [
              0.1111111111111111,
              "#46039f"
             ],
             [
              0.2222222222222222,
              "#7201a8"
             ],
             [
              0.3333333333333333,
              "#9c179e"
             ],
             [
              0.4444444444444444,
              "#bd3786"
             ],
             [
              0.5555555555555556,
              "#d8576b"
             ],
             [
              0.6666666666666666,
              "#ed7953"
             ],
             [
              0.7777777777777778,
              "#fb9f3a"
             ],
             [
              0.8888888888888888,
              "#fdca26"
             ],
             [
              1,
              "#f0f921"
             ]
            ],
            "type": "surface"
           }
          ],
          "table": [
           {
            "cells": {
             "fill": {
              "color": "#EBF0F8"
             },
             "line": {
              "color": "white"
             }
            },
            "header": {
             "fill": {
              "color": "#C8D4E3"
             },
             "line": {
              "color": "white"
             }
            },
            "type": "table"
           }
          ]
         },
         "layout": {
          "annotationdefaults": {
           "arrowcolor": "#2a3f5f",
           "arrowhead": 0,
           "arrowwidth": 1
          },
          "coloraxis": {
           "colorbar": {
            "outlinewidth": 0,
            "ticks": ""
           }
          },
          "colorscale": {
           "diverging": [
            [
             0,
             "#8e0152"
            ],
            [
             0.1,
             "#c51b7d"
            ],
            [
             0.2,
             "#de77ae"
            ],
            [
             0.3,
             "#f1b6da"
            ],
            [
             0.4,
             "#fde0ef"
            ],
            [
             0.5,
             "#f7f7f7"
            ],
            [
             0.6,
             "#e6f5d0"
            ],
            [
             0.7,
             "#b8e186"
            ],
            [
             0.8,
             "#7fbc41"
            ],
            [
             0.9,
             "#4d9221"
            ],
            [
             1,
             "#276419"
            ]
           ],
           "sequential": [
            [
             0,
             "#0d0887"
            ],
            [
             0.1111111111111111,
             "#46039f"
            ],
            [
             0.2222222222222222,
             "#7201a8"
            ],
            [
             0.3333333333333333,
             "#9c179e"
            ],
            [
             0.4444444444444444,
             "#bd3786"
            ],
            [
             0.5555555555555556,
             "#d8576b"
            ],
            [
             0.6666666666666666,
             "#ed7953"
            ],
            [
             0.7777777777777778,
             "#fb9f3a"
            ],
            [
             0.8888888888888888,
             "#fdca26"
            ],
            [
             1,
             "#f0f921"
            ]
           ],
           "sequentialminus": [
            [
             0,
             "#0d0887"
            ],
            [
             0.1111111111111111,
             "#46039f"
            ],
            [
             0.2222222222222222,
             "#7201a8"
            ],
            [
             0.3333333333333333,
             "#9c179e"
            ],
            [
             0.4444444444444444,
             "#bd3786"
            ],
            [
             0.5555555555555556,
             "#d8576b"
            ],
            [
             0.6666666666666666,
             "#ed7953"
            ],
            [
             0.7777777777777778,
             "#fb9f3a"
            ],
            [
             0.8888888888888888,
             "#fdca26"
            ],
            [
             1,
             "#f0f921"
            ]
           ]
          },
          "colorway": [
           "#636efa",
           "#EF553B",
           "#00cc96",
           "#ab63fa",
           "#FFA15A",
           "#19d3f3",
           "#FF6692",
           "#B6E880",
           "#FF97FF",
           "#FECB52"
          ],
          "font": {
           "color": "#2a3f5f"
          },
          "geo": {
           "bgcolor": "white",
           "lakecolor": "white",
           "landcolor": "#E5ECF6",
           "showlakes": true,
           "showland": true,
           "subunitcolor": "white"
          },
          "hoverlabel": {
           "align": "left"
          },
          "hovermode": "closest",
          "mapbox": {
           "style": "light"
          },
          "paper_bgcolor": "white",
          "plot_bgcolor": "#E5ECF6",
          "polar": {
           "angularaxis": {
            "gridcolor": "white",
            "linecolor": "white",
            "ticks": ""
           },
           "bgcolor": "#E5ECF6",
           "radialaxis": {
            "gridcolor": "white",
            "linecolor": "white",
            "ticks": ""
           }
          },
          "scene": {
           "xaxis": {
            "backgroundcolor": "#E5ECF6",
            "gridcolor": "white",
            "gridwidth": 2,
            "linecolor": "white",
            "showbackground": true,
            "ticks": "",
            "zerolinecolor": "white"
           },
           "yaxis": {
            "backgroundcolor": "#E5ECF6",
            "gridcolor": "white",
            "gridwidth": 2,
            "linecolor": "white",
            "showbackground": true,
            "ticks": "",
            "zerolinecolor": "white"
           },
           "zaxis": {
            "backgroundcolor": "#E5ECF6",
            "gridcolor": "white",
            "gridwidth": 2,
            "linecolor": "white",
            "showbackground": true,
            "ticks": "",
            "zerolinecolor": "white"
           }
          },
          "shapedefaults": {
           "line": {
            "color": "#2a3f5f"
           }
          },
          "ternary": {
           "aaxis": {
            "gridcolor": "white",
            "linecolor": "white",
            "ticks": ""
           },
           "baxis": {
            "gridcolor": "white",
            "linecolor": "white",
            "ticks": ""
           },
           "bgcolor": "#E5ECF6",
           "caxis": {
            "gridcolor": "white",
            "linecolor": "white",
            "ticks": ""
           }
          },
          "title": {
           "x": 0.05
          },
          "xaxis": {
           "automargin": true,
           "gridcolor": "white",
           "linecolor": "white",
           "ticks": "",
           "title": {
            "standoff": 15
           },
           "zerolinecolor": "white",
           "zerolinewidth": 2
          },
          "yaxis": {
           "automargin": true,
           "gridcolor": "white",
           "linecolor": "white",
           "ticks": "",
           "title": {
            "standoff": 15
           },
           "zerolinecolor": "white",
           "zerolinewidth": 2
          }
         }
        },
        "title": {
         "text": "Impaired Drinking Water by State"
        }
       }
      },
      "text/html": [
       "<div>\n",
       "        \n",
       "        \n",
       "            <div id=\"66dca736-ded8-4ea4-b800-4dd677c94387\" class=\"plotly-graph-div\" style=\"height:525px; width:100%;\"></div>\n",
       "            <script type=\"text/javascript\">\n",
       "                require([\"plotly\"], function(Plotly) {\n",
       "                    window.PLOTLYENV=window.PLOTLYENV || {};\n",
       "                    \n",
       "                if (document.getElementById(\"66dca736-ded8-4ea4-b800-4dd677c94387\")) {\n",
       "                    Plotly.newPlot(\n",
       "                        '66dca736-ded8-4ea4-b800-4dd677c94387',\n",
       "                        [{\"colorbar\": {\"title\": {\"text\": \"Drinking\"}}, \"colorscale\": [[0.0, \"rgb(255,245,240)\"], [0.125, \"rgb(254,224,210)\"], [0.25, \"rgb(252,187,161)\"], [0.375, \"rgb(252,146,114)\"], [0.5, \"rgb(251,106,74)\"], [0.625, \"rgb(239,59,44)\"], [0.75, \"rgb(203,24,29)\"], [0.875, \"rgb(165,15,21)\"], [1.0, \"rgb(103,0,13)\"]], \"locationmode\": \"USA-states\", \"locations\": [\"AL\", \"CT\", \"GA\", \"IA\", \"ID\", \"KS\", \"KY\", \"LA\", \"MO\", \"MT\", \"ND\", \"NE\", \"NM\", \"NV\", \"NY\", \"OK\", \"PR\", \"RI\", \"SD\", \"TN\", \"VT\", \"WY\"], \"type\": \"choropleth\", \"z\": [69, 60, 34, 58, 396, 1622, 153, 41, 34, 3046, 159, 9, 312, 698, 125, 3291, 1911, 34, 14, 237, 90, 108]}],\n",
       "                        {\"geo\": {\"scope\": \"usa\"}, \"template\": {\"data\": {\"bar\": [{\"error_x\": {\"color\": \"#2a3f5f\"}, \"error_y\": {\"color\": \"#2a3f5f\"}, \"marker\": {\"line\": {\"color\": \"#E5ECF6\", \"width\": 0.5}}, \"type\": \"bar\"}], \"barpolar\": [{\"marker\": {\"line\": {\"color\": \"#E5ECF6\", \"width\": 0.5}}, \"type\": \"barpolar\"}], \"carpet\": [{\"aaxis\": {\"endlinecolor\": \"#2a3f5f\", \"gridcolor\": \"white\", \"linecolor\": \"white\", \"minorgridcolor\": \"white\", \"startlinecolor\": \"#2a3f5f\"}, \"baxis\": {\"endlinecolor\": \"#2a3f5f\", \"gridcolor\": \"white\", \"linecolor\": \"white\", \"minorgridcolor\": \"white\", \"startlinecolor\": \"#2a3f5f\"}, \"type\": \"carpet\"}], \"choropleth\": [{\"colorbar\": {\"outlinewidth\": 0, \"ticks\": \"\"}, \"type\": \"choropleth\"}], \"contour\": [{\"colorbar\": {\"outlinewidth\": 0, \"ticks\": \"\"}, \"colorscale\": [[0.0, \"#0d0887\"], [0.1111111111111111, \"#46039f\"], [0.2222222222222222, \"#7201a8\"], [0.3333333333333333, \"#9c179e\"], [0.4444444444444444, \"#bd3786\"], [0.5555555555555556, \"#d8576b\"], [0.6666666666666666, \"#ed7953\"], [0.7777777777777778, \"#fb9f3a\"], [0.8888888888888888, \"#fdca26\"], [1.0, \"#f0f921\"]], \"type\": \"contour\"}], \"contourcarpet\": [{\"colorbar\": {\"outlinewidth\": 0, \"ticks\": \"\"}, \"type\": \"contourcarpet\"}], \"heatmap\": [{\"colorbar\": {\"outlinewidth\": 0, \"ticks\": \"\"}, \"colorscale\": [[0.0, \"#0d0887\"], [0.1111111111111111, \"#46039f\"], [0.2222222222222222, \"#7201a8\"], [0.3333333333333333, \"#9c179e\"], [0.4444444444444444, \"#bd3786\"], [0.5555555555555556, \"#d8576b\"], [0.6666666666666666, \"#ed7953\"], [0.7777777777777778, \"#fb9f3a\"], [0.8888888888888888, \"#fdca26\"], [1.0, \"#f0f921\"]], \"type\": \"heatmap\"}], \"heatmapgl\": [{\"colorbar\": {\"outlinewidth\": 0, \"ticks\": \"\"}, \"colorscale\": [[0.0, \"#0d0887\"], [0.1111111111111111, \"#46039f\"], [0.2222222222222222, \"#7201a8\"], [0.3333333333333333, \"#9c179e\"], [0.4444444444444444, \"#bd3786\"], [0.5555555555555556, \"#d8576b\"], [0.6666666666666666, \"#ed7953\"], [0.7777777777777778, \"#fb9f3a\"], [0.8888888888888888, \"#fdca26\"], [1.0, \"#f0f921\"]], \"type\": \"heatmapgl\"}], \"histogram\": [{\"marker\": {\"colorbar\": {\"outlinewidth\": 0, \"ticks\": \"\"}}, \"type\": \"histogram\"}], \"histogram2d\": [{\"colorbar\": {\"outlinewidth\": 0, \"ticks\": \"\"}, \"colorscale\": [[0.0, \"#0d0887\"], [0.1111111111111111, \"#46039f\"], [0.2222222222222222, \"#7201a8\"], [0.3333333333333333, \"#9c179e\"], [0.4444444444444444, \"#bd3786\"], [0.5555555555555556, \"#d8576b\"], [0.6666666666666666, \"#ed7953\"], [0.7777777777777778, \"#fb9f3a\"], [0.8888888888888888, \"#fdca26\"], [1.0, \"#f0f921\"]], \"type\": \"histogram2d\"}], \"histogram2dcontour\": [{\"colorbar\": {\"outlinewidth\": 0, \"ticks\": \"\"}, \"colorscale\": [[0.0, \"#0d0887\"], [0.1111111111111111, \"#46039f\"], [0.2222222222222222, \"#7201a8\"], [0.3333333333333333, \"#9c179e\"], [0.4444444444444444, \"#bd3786\"], [0.5555555555555556, \"#d8576b\"], [0.6666666666666666, \"#ed7953\"], [0.7777777777777778, \"#fb9f3a\"], [0.8888888888888888, \"#fdca26\"], [1.0, \"#f0f921\"]], \"type\": \"histogram2dcontour\"}], \"mesh3d\": [{\"colorbar\": {\"outlinewidth\": 0, \"ticks\": \"\"}, \"type\": \"mesh3d\"}], \"parcoords\": [{\"line\": {\"colorbar\": {\"outlinewidth\": 0, \"ticks\": \"\"}}, \"type\": \"parcoords\"}], \"pie\": [{\"automargin\": true, \"type\": \"pie\"}], \"scatter\": [{\"marker\": {\"colorbar\": {\"outlinewidth\": 0, \"ticks\": \"\"}}, \"type\": \"scatter\"}], \"scatter3d\": [{\"line\": {\"colorbar\": {\"outlinewidth\": 0, \"ticks\": \"\"}}, \"marker\": {\"colorbar\": {\"outlinewidth\": 0, \"ticks\": \"\"}}, \"type\": \"scatter3d\"}], \"scattercarpet\": [{\"marker\": {\"colorbar\": {\"outlinewidth\": 0, \"ticks\": \"\"}}, \"type\": \"scattercarpet\"}], \"scattergeo\": [{\"marker\": {\"colorbar\": {\"outlinewidth\": 0, \"ticks\": \"\"}}, \"type\": \"scattergeo\"}], \"scattergl\": [{\"marker\": {\"colorbar\": {\"outlinewidth\": 0, \"ticks\": \"\"}}, \"type\": \"scattergl\"}], \"scattermapbox\": [{\"marker\": {\"colorbar\": {\"outlinewidth\": 0, \"ticks\": \"\"}}, \"type\": \"scattermapbox\"}], \"scatterpolar\": [{\"marker\": {\"colorbar\": {\"outlinewidth\": 0, \"ticks\": \"\"}}, \"type\": \"scatterpolar\"}], \"scatterpolargl\": [{\"marker\": {\"colorbar\": {\"outlinewidth\": 0, \"ticks\": \"\"}}, \"type\": \"scatterpolargl\"}], \"scatterternary\": [{\"marker\": {\"colorbar\": {\"outlinewidth\": 0, \"ticks\": \"\"}}, \"type\": \"scatterternary\"}], \"surface\": [{\"colorbar\": {\"outlinewidth\": 0, \"ticks\": \"\"}, \"colorscale\": [[0.0, \"#0d0887\"], [0.1111111111111111, \"#46039f\"], [0.2222222222222222, \"#7201a8\"], [0.3333333333333333, \"#9c179e\"], [0.4444444444444444, \"#bd3786\"], [0.5555555555555556, \"#d8576b\"], [0.6666666666666666, \"#ed7953\"], [0.7777777777777778, \"#fb9f3a\"], [0.8888888888888888, \"#fdca26\"], [1.0, \"#f0f921\"]], \"type\": \"surface\"}], \"table\": [{\"cells\": {\"fill\": {\"color\": \"#EBF0F8\"}, \"line\": {\"color\": \"white\"}}, \"header\": {\"fill\": {\"color\": \"#C8D4E3\"}, \"line\": {\"color\": \"white\"}}, \"type\": \"table\"}]}, \"layout\": {\"annotationdefaults\": {\"arrowcolor\": \"#2a3f5f\", \"arrowhead\": 0, \"arrowwidth\": 1}, \"coloraxis\": {\"colorbar\": {\"outlinewidth\": 0, \"ticks\": \"\"}}, \"colorscale\": {\"diverging\": [[0, \"#8e0152\"], [0.1, \"#c51b7d\"], [0.2, \"#de77ae\"], [0.3, \"#f1b6da\"], [0.4, \"#fde0ef\"], [0.5, \"#f7f7f7\"], [0.6, \"#e6f5d0\"], [0.7, \"#b8e186\"], [0.8, \"#7fbc41\"], [0.9, \"#4d9221\"], [1, \"#276419\"]], \"sequential\": [[0.0, \"#0d0887\"], [0.1111111111111111, \"#46039f\"], [0.2222222222222222, \"#7201a8\"], [0.3333333333333333, \"#9c179e\"], [0.4444444444444444, \"#bd3786\"], [0.5555555555555556, \"#d8576b\"], [0.6666666666666666, \"#ed7953\"], [0.7777777777777778, \"#fb9f3a\"], [0.8888888888888888, \"#fdca26\"], [1.0, \"#f0f921\"]], \"sequentialminus\": [[0.0, \"#0d0887\"], [0.1111111111111111, \"#46039f\"], [0.2222222222222222, \"#7201a8\"], [0.3333333333333333, \"#9c179e\"], [0.4444444444444444, \"#bd3786\"], [0.5555555555555556, \"#d8576b\"], [0.6666666666666666, \"#ed7953\"], [0.7777777777777778, \"#fb9f3a\"], [0.8888888888888888, \"#fdca26\"], [1.0, \"#f0f921\"]]}, \"colorway\": [\"#636efa\", \"#EF553B\", \"#00cc96\", \"#ab63fa\", \"#FFA15A\", \"#19d3f3\", \"#FF6692\", \"#B6E880\", \"#FF97FF\", \"#FECB52\"], \"font\": {\"color\": \"#2a3f5f\"}, \"geo\": {\"bgcolor\": \"white\", \"lakecolor\": \"white\", \"landcolor\": \"#E5ECF6\", \"showlakes\": true, \"showland\": true, \"subunitcolor\": \"white\"}, \"hoverlabel\": {\"align\": \"left\"}, \"hovermode\": \"closest\", \"mapbox\": {\"style\": \"light\"}, \"paper_bgcolor\": \"white\", \"plot_bgcolor\": \"#E5ECF6\", \"polar\": {\"angularaxis\": {\"gridcolor\": \"white\", \"linecolor\": \"white\", \"ticks\": \"\"}, \"bgcolor\": \"#E5ECF6\", \"radialaxis\": {\"gridcolor\": \"white\", \"linecolor\": \"white\", \"ticks\": \"\"}}, \"scene\": {\"xaxis\": {\"backgroundcolor\": \"#E5ECF6\", \"gridcolor\": \"white\", \"gridwidth\": 2, \"linecolor\": \"white\", \"showbackground\": true, \"ticks\": \"\", \"zerolinecolor\": \"white\"}, \"yaxis\": {\"backgroundcolor\": \"#E5ECF6\", \"gridcolor\": \"white\", \"gridwidth\": 2, \"linecolor\": \"white\", \"showbackground\": true, \"ticks\": \"\", \"zerolinecolor\": \"white\"}, \"zaxis\": {\"backgroundcolor\": \"#E5ECF6\", \"gridcolor\": \"white\", \"gridwidth\": 2, \"linecolor\": \"white\", \"showbackground\": true, \"ticks\": \"\", \"zerolinecolor\": \"white\"}}, \"shapedefaults\": {\"line\": {\"color\": \"#2a3f5f\"}}, \"ternary\": {\"aaxis\": {\"gridcolor\": \"white\", \"linecolor\": \"white\", \"ticks\": \"\"}, \"baxis\": {\"gridcolor\": \"white\", \"linecolor\": \"white\", \"ticks\": \"\"}, \"bgcolor\": \"#E5ECF6\", \"caxis\": {\"gridcolor\": \"white\", \"linecolor\": \"white\", \"ticks\": \"\"}}, \"title\": {\"x\": 0.05}, \"xaxis\": {\"automargin\": true, \"gridcolor\": \"white\", \"linecolor\": \"white\", \"ticks\": \"\", \"title\": {\"standoff\": 15}, \"zerolinecolor\": \"white\", \"zerolinewidth\": 2}, \"yaxis\": {\"automargin\": true, \"gridcolor\": \"white\", \"linecolor\": \"white\", \"ticks\": \"\", \"title\": {\"standoff\": 15}, \"zerolinecolor\": \"white\", \"zerolinewidth\": 2}}}, \"title\": {\"text\": \"Impaired Drinking Water by State\"}},\n",
       "                        {\"responsive\": true}\n",
       "                    ).then(function(){\n",
       "                            \n",
       "var gd = document.getElementById('66dca736-ded8-4ea4-b800-4dd677c94387');\n",
       "var x = new MutationObserver(function (mutations, observer) {{\n",
       "        var display = window.getComputedStyle(gd).display;\n",
       "        if (!display || display === 'none') {{\n",
       "            console.log([gd, 'removed!']);\n",
       "            Plotly.purge(gd);\n",
       "            observer.disconnect();\n",
       "        }}\n",
       "}});\n",
       "\n",
       "// Listen for the removal of the full notebook cells\n",
       "var notebookContainer = gd.closest('#notebook-container');\n",
       "if (notebookContainer) {{\n",
       "    x.observe(notebookContainer, {childList: true});\n",
       "}}\n",
       "\n",
       "// Listen for the clearing of the current output cell\n",
       "var outputEl = gd.closest('.output');\n",
       "if (outputEl) {{\n",
       "    x.observe(outputEl, {childList: true});\n",
       "}}\n",
       "\n",
       "                        })\n",
       "                };\n",
       "                });\n",
       "            </script>\n",
       "        </div>"
      ]
     },
     "metadata": {},
     "output_type": "display_data"
    },
    {
     "data": {
      "text/plain": [
       "<Figure size 432x288 with 0 Axes>"
      ]
     },
     "metadata": {},
     "output_type": "display_data"
    }
   ],
   "source": [
    "# ONLY THOSE IMPAIED THAT ARE DRINKING WATER/SWIMMING FULL BODY USE\n",
    "data_count = bad_drinking_df.groupby(\"STATE\")[\"ASSESSMENT_STATUS\"].count().tolist()\n",
    "df = bad_drinking_df.copy()\n",
    "fig = go.Figure(data=go.Choropleth(\n",
    "    locations = df[\"STATE\"].unique(),  \n",
    "    z = data_count, \n",
    "    locationmode = 'USA-states', \n",
    "    colorscale = 'Reds',\n",
    "    colorbar_title = \"Drinking\",\n",
    "))\n",
    "\n",
    "fig.update_layout(\n",
    "    title_text = 'Impaired Drinking Water by State',\n",
    "    geo_scope='usa', \n",
    ")\n",
    "plt.savefig(\"images/National_Drinking.png\", bbox_inches=\"tight\", pad_inches=0.2)\n",
    "fig.show()"
   ]
  },
  {
   "cell_type": "code",
   "execution_count": 113,
   "metadata": {
    "slideshow": {
     "slide_type": "-"
    }
   },
   "outputs": [
    {
     "data": {
      "text/plain": [
       "ID                              225206\n",
       "ASSESSMENT_UNIT_ID              225206\n",
       "ASSESSMENT_UNIT_ID_ORIG         225206\n",
       "CYCLE_YEAR                      225206\n",
       "STATE                           225206\n",
       "IR_STATUS                       225206\n",
       "AU_WATERBODY_REPORT             225206\n",
       "ASSESSMENT_UNIT_NAME            225206\n",
       "ASSESSMENT_STATUS               225206\n",
       "ASSESSMENT_UNIT_EPA_CATEGORY    194470\n",
       "CYCLE_LAST_ASSESSED              84962\n",
       "AU_USE_ID                       225206\n",
       "AU_USE_DESC                     225206\n",
       "AU_PARENT_USE_ID                225206\n",
       "AU_PARENT_USE_DESC              225206\n",
       "AU_ATTAINMENT_STATUS            225206\n",
       "AU_THREATENED_FLAG                1346\n",
       "EPA1_SNAPSHOT_DATE              225206\n",
       "ESRI_KEY                        225206\n",
       "OBJECTID                        225206\n",
       "LISTED_WATER_ID                 130385\n",
       "LISTED_WATER_ID_ORIG            130385\n",
       "LISTED_WATER_NAME               130385\n",
       "LISTED_WATER_BASIN_NAME           6506\n",
       "LW_DETAILED_CAUSE_ID            130385\n",
       "LW_DETAILED_CAUSE_NAME          130385\n",
       "LW_PARENT_CAUSE_ID              130385\n",
       "LW_PARENT_CAUSE_NAME            130385\n",
       "LW_DETAILED_SOURCE_ID           107668\n",
       "LW_DETAILED_SOURCE_NAME         107668\n",
       "LW_PARENT_SOURCE_ID             107668\n",
       "LW_PARENT_SOURCE_NAME           107668\n",
       "TMDL_FLAG                       130385\n",
       "EPA2_SNAPSHOT_DATE              130385\n",
       "dtype: int64"
      ]
     },
     "execution_count": 113,
     "metadata": {},
     "output_type": "execute_result"
    }
   ],
   "source": [
    "# Make a copy and index it by the impairment/cause column:\n",
    "byfault_df = epadata_df.copy()\n",
    "byfault_df.set_index('LW_PARENT_CAUSE_NAME')\n",
    "byfault_df.count()"
   ]
  },
  {
   "cell_type": "code",
   "execution_count": 114,
   "metadata": {
    "slideshow": {
     "slide_type": "-"
    }
   },
   "outputs": [
    {
     "data": {
      "text/plain": [
       "STATE\n",
       "AL     5768\n",
       "CT    10768\n",
       "DC     1795\n",
       "GA     2233\n",
       "IA     3415\n",
       "ID    28165\n",
       "KS     7911\n",
       "KY    28422\n",
       "LA     3004\n",
       "MO     2533\n",
       "MS      680\n",
       "MT    13993\n",
       "NC     7879\n",
       "ND     9769\n",
       "NE     2776\n",
       "NM     4692\n",
       "NV     8763\n",
       "NY    14101\n",
       "OK    24153\n",
       "PR     8692\n",
       "RI     2888\n",
       "SC     4177\n",
       "SD     1697\n",
       "TN    18012\n",
       "VI      776\n",
       "VT     5433\n",
       "WY     2711\n",
       "Name: ASSESSMENT_STATUS, dtype: int64"
      ]
     },
     "execution_count": 114,
     "metadata": {},
     "output_type": "execute_result"
    }
   ],
   "source": [
    "goodbad_df = epadata_df.groupby(\"STATE\")[\"ASSESSMENT_STATUS\"].count()\n",
    "goodbad_df\n"
   ]
  },
  {
   "cell_type": "code",
   "execution_count": 22,
   "metadata": {
    "slideshow": {
     "slide_type": "-"
    }
   },
   "outputs": [],
   "source": [
    "#Function to call out two columns as parameters.\n",
    "\n",
    "def three_column_filter(Col1,Col2,Col3,Param1,Param2,Param3):\n",
    "    filter1 = epadata_df[Col1]==Param1\n",
    "    filter2 = epadata_df[Col2]==Param2\n",
    "    filter3 = epadata_df[Col3]==Param3\n",
    "    tempdf= epadata_df[filter1&filter2&filter3]\n",
    "    return tempdf\n"
   ]
  },
  {
   "cell_type": "code",
   "execution_count": null,
   "metadata": {
    "slideshow": {
     "slide_type": "-"
    }
   },
   "outputs": [],
   "source": []
  },
  {
   "cell_type": "code",
   "execution_count": 115,
   "metadata": {
    "scrolled": true,
    "slideshow": {
     "slide_type": "-"
    }
   },
   "outputs": [
    {
     "name": "stdout",
     "output_type": "stream",
     "text": [
      "Series([], Name: LW_DETAILED_CAUSE_NAME, dtype: object)\n"
     ]
    }
   ],
   "source": [
    "alaska_df = three_column_filter(\"STATE\",\"ASSESSMENT_STATUS\",\"AU_PARENT_USE_DESC\",\"AK\",\"IMPAIRED\",\"PUBLIC WATER SUPPLY\")\n",
    "print (alaska_df[\"LW_DETAILED_CAUSE_NAME\"])\n"
   ]
  },
  {
   "cell_type": "code",
   "execution_count": 24,
   "metadata": {
    "slideshow": {
     "slide_type": "-"
    }
   },
   "outputs": [
    {
     "data": {
      "text/html": [
       "<div>\n",
       "<style scoped>\n",
       "    .dataframe tbody tr th:only-of-type {\n",
       "        vertical-align: middle;\n",
       "    }\n",
       "\n",
       "    .dataframe tbody tr th {\n",
       "        vertical-align: top;\n",
       "    }\n",
       "\n",
       "    .dataframe thead th {\n",
       "        text-align: right;\n",
       "    }\n",
       "</style>\n",
       "<table border=\"1\" class=\"dataframe\">\n",
       "  <thead>\n",
       "    <tr style=\"text-align: right;\">\n",
       "      <th></th>\n",
       "      <th>ID</th>\n",
       "      <th>ASSESSMENT_UNIT_ID</th>\n",
       "      <th>ASSESSMENT_UNIT_ID_ORIG</th>\n",
       "      <th>CYCLE_YEAR</th>\n",
       "      <th>STATE</th>\n",
       "      <th>IR_STATUS</th>\n",
       "      <th>AU_WATERBODY_REPORT</th>\n",
       "      <th>ASSESSMENT_UNIT_NAME</th>\n",
       "      <th>ASSESSMENT_STATUS</th>\n",
       "      <th>ASSESSMENT_UNIT_EPA_CATEGORY</th>\n",
       "      <th>...</th>\n",
       "      <th>LW_DETAILED_CAUSE_ID</th>\n",
       "      <th>LW_DETAILED_CAUSE_NAME</th>\n",
       "      <th>LW_PARENT_CAUSE_ID</th>\n",
       "      <th>LW_PARENT_CAUSE_NAME</th>\n",
       "      <th>LW_DETAILED_SOURCE_ID</th>\n",
       "      <th>LW_DETAILED_SOURCE_NAME</th>\n",
       "      <th>LW_PARENT_SOURCE_ID</th>\n",
       "      <th>LW_PARENT_SOURCE_NAME</th>\n",
       "      <th>TMDL_FLAG</th>\n",
       "      <th>EPA2_SNAPSHOT_DATE</th>\n",
       "    </tr>\n",
       "  </thead>\n",
       "  <tbody>\n",
       "    <tr>\n",
       "      <td>315473</td>\n",
       "      <td>227158</td>\n",
       "      <td>NJ02020007010010-01</td>\n",
       "      <td>NJ02020007010010-01</td>\n",
       "      <td>2010</td>\n",
       "      <td>NJ</td>\n",
       "      <td>Y</td>\n",
       "      <td>http://ofmpub.epa.gov/waters10/attains_waterbo...</td>\n",
       "      <td>Wallkill R/Lake Mohawk(above Sparta Sta)</td>\n",
       "      <td>IMPAIRED</td>\n",
       "      <td>4A</td>\n",
       "      <td>...</td>\n",
       "      <td>NaN</td>\n",
       "      <td>NaN</td>\n",
       "      <td>NaN</td>\n",
       "      <td>NaN</td>\n",
       "      <td>NaN</td>\n",
       "      <td>NaN</td>\n",
       "      <td>NaN</td>\n",
       "      <td>NaN</td>\n",
       "      <td>NaN</td>\n",
       "      <td>NaN</td>\n",
       "    </tr>\n",
       "    <tr>\n",
       "      <td>315477</td>\n",
       "      <td>227162</td>\n",
       "      <td>NJ02020007010020-01</td>\n",
       "      <td>NJ02020007010020-01</td>\n",
       "      <td>2010</td>\n",
       "      <td>NJ</td>\n",
       "      <td>Y</td>\n",
       "      <td>http://ofmpub.epa.gov/waters10/attains_waterbo...</td>\n",
       "      <td>Wallkill R (Ogdensburg to SpartaStation)</td>\n",
       "      <td>IMPAIRED</td>\n",
       "      <td>5</td>\n",
       "      <td>...</td>\n",
       "      <td>1036.0</td>\n",
       "      <td>TEMPERATURE, WATER</td>\n",
       "      <td>1035.0</td>\n",
       "      <td>TEMPERATURE</td>\n",
       "      <td>136.0</td>\n",
       "      <td>UPSTREAM IMPOUNDMENTS (E.G., PL-566 NRCS STRUC...</td>\n",
       "      <td>1.0</td>\n",
       "      <td>HYDROMODIFICATION</td>\n",
       "      <td>N</td>\n",
       "      <td>5/1/2015</td>\n",
       "    </tr>\n",
       "    <tr>\n",
       "      <td>315478</td>\n",
       "      <td>227162</td>\n",
       "      <td>NJ02020007010020-01</td>\n",
       "      <td>NJ02020007010020-01</td>\n",
       "      <td>2010</td>\n",
       "      <td>NJ</td>\n",
       "      <td>Y</td>\n",
       "      <td>http://ofmpub.epa.gov/waters10/attains_waterbo...</td>\n",
       "      <td>Wallkill R (Ogdensburg to SpartaStation)</td>\n",
       "      <td>IMPAIRED</td>\n",
       "      <td>5</td>\n",
       "      <td>...</td>\n",
       "      <td>247.0</td>\n",
       "      <td>CAUSE UNKNOWN</td>\n",
       "      <td>247.0</td>\n",
       "      <td>CAUSE UNKNOWN</td>\n",
       "      <td>NaN</td>\n",
       "      <td>NaN</td>\n",
       "      <td>NaN</td>\n",
       "      <td>NaN</td>\n",
       "      <td>N</td>\n",
       "      <td>5/1/2015</td>\n",
       "    </tr>\n",
       "    <tr>\n",
       "      <td>315493</td>\n",
       "      <td>227171</td>\n",
       "      <td>NJ02020007010040-01</td>\n",
       "      <td>NJ02020007010040-01</td>\n",
       "      <td>2010</td>\n",
       "      <td>NJ</td>\n",
       "      <td>Y</td>\n",
       "      <td>http://ofmpub.epa.gov/waters10/attains_waterbo...</td>\n",
       "      <td>Wallkill R(Hamburg SW Bdy to Ogdensburg)</td>\n",
       "      <td>IMPAIRED</td>\n",
       "      <td>5</td>\n",
       "      <td>...</td>\n",
       "      <td>1036.0</td>\n",
       "      <td>TEMPERATURE, WATER</td>\n",
       "      <td>1035.0</td>\n",
       "      <td>TEMPERATURE</td>\n",
       "      <td>NaN</td>\n",
       "      <td>NaN</td>\n",
       "      <td>NaN</td>\n",
       "      <td>NaN</td>\n",
       "      <td>N</td>\n",
       "      <td>5/1/2015</td>\n",
       "    </tr>\n",
       "    <tr>\n",
       "      <td>315498</td>\n",
       "      <td>227176</td>\n",
       "      <td>NJ02020007010060-01</td>\n",
       "      <td>NJ02020007010060-01</td>\n",
       "      <td>2010</td>\n",
       "      <td>NJ</td>\n",
       "      <td>Y</td>\n",
       "      <td>http://ofmpub.epa.gov/waters10/attains_waterbo...</td>\n",
       "      <td>Beaver Run</td>\n",
       "      <td>IMPAIRED</td>\n",
       "      <td>5</td>\n",
       "      <td>...</td>\n",
       "      <td>247.0</td>\n",
       "      <td>CAUSE UNKNOWN</td>\n",
       "      <td>247.0</td>\n",
       "      <td>CAUSE UNKNOWN</td>\n",
       "      <td>18.0</td>\n",
       "      <td>AGRICULTURE</td>\n",
       "      <td>18.0</td>\n",
       "      <td>AGRICULTURE</td>\n",
       "      <td>N</td>\n",
       "      <td>5/1/2015</td>\n",
       "    </tr>\n",
       "    <tr>\n",
       "      <td>...</td>\n",
       "      <td>...</td>\n",
       "      <td>...</td>\n",
       "      <td>...</td>\n",
       "      <td>...</td>\n",
       "      <td>...</td>\n",
       "      <td>...</td>\n",
       "      <td>...</td>\n",
       "      <td>...</td>\n",
       "      <td>...</td>\n",
       "      <td>...</td>\n",
       "      <td>...</td>\n",
       "      <td>...</td>\n",
       "      <td>...</td>\n",
       "      <td>...</td>\n",
       "      <td>...</td>\n",
       "      <td>...</td>\n",
       "      <td>...</td>\n",
       "      <td>...</td>\n",
       "      <td>...</td>\n",
       "      <td>...</td>\n",
       "      <td>...</td>\n",
       "    </tr>\n",
       "    <tr>\n",
       "      <td>339663</td>\n",
       "      <td>232432</td>\n",
       "      <td>NJDELAWARE-RIVER-8</td>\n",
       "      <td>NJDELAWARE-RIVER-8</td>\n",
       "      <td>2010</td>\n",
       "      <td>NJ</td>\n",
       "      <td>Y</td>\n",
       "      <td>http://ofmpub.epa.gov/waters10/attains_waterbo...</td>\n",
       "      <td>Delaware River 1D</td>\n",
       "      <td>IMPAIRED</td>\n",
       "      <td>5</td>\n",
       "      <td>...</td>\n",
       "      <td>696.0</td>\n",
       "      <td>MERCURY IN FISH TISSUE</td>\n",
       "      <td>693.0</td>\n",
       "      <td>MERCURY</td>\n",
       "      <td>239.0</td>\n",
       "      <td>INDUSTRIAL POINT SOURCE DISCHARGE</td>\n",
       "      <td>538.0</td>\n",
       "      <td>INDUSTRIAL</td>\n",
       "      <td>N</td>\n",
       "      <td>5/1/2015</td>\n",
       "    </tr>\n",
       "    <tr>\n",
       "      <td>339664</td>\n",
       "      <td>232432</td>\n",
       "      <td>NJDELAWARE-RIVER-8</td>\n",
       "      <td>NJDELAWARE-RIVER-8</td>\n",
       "      <td>2010</td>\n",
       "      <td>NJ</td>\n",
       "      <td>Y</td>\n",
       "      <td>http://ofmpub.epa.gov/waters10/attains_waterbo...</td>\n",
       "      <td>Delaware River 1D</td>\n",
       "      <td>IMPAIRED</td>\n",
       "      <td>5</td>\n",
       "      <td>...</td>\n",
       "      <td>696.0</td>\n",
       "      <td>MERCURY IN FISH TISSUE</td>\n",
       "      <td>693.0</td>\n",
       "      <td>MERCURY</td>\n",
       "      <td>154.0</td>\n",
       "      <td>ATMOSPHERIC DEPOSITION - TOXICS</td>\n",
       "      <td>109.0</td>\n",
       "      <td>ATMOSPHERIC DEPOSITION</td>\n",
       "      <td>N</td>\n",
       "      <td>5/1/2015</td>\n",
       "    </tr>\n",
       "    <tr>\n",
       "      <td>339665</td>\n",
       "      <td>232432</td>\n",
       "      <td>NJDELAWARE-RIVER-8</td>\n",
       "      <td>NJDELAWARE-RIVER-8</td>\n",
       "      <td>2010</td>\n",
       "      <td>NJ</td>\n",
       "      <td>Y</td>\n",
       "      <td>http://ofmpub.epa.gov/waters10/attains_waterbo...</td>\n",
       "      <td>Delaware River 1D</td>\n",
       "      <td>IMPAIRED</td>\n",
       "      <td>5</td>\n",
       "      <td>...</td>\n",
       "      <td>862.0</td>\n",
       "      <td>PCB(S) IN FISH TISSUE</td>\n",
       "      <td>918.0</td>\n",
       "      <td>POLYCHLORINATED BIPHENYLS (PCBS)</td>\n",
       "      <td>154.0</td>\n",
       "      <td>ATMOSPHERIC DEPOSITION - TOXICS</td>\n",
       "      <td>109.0</td>\n",
       "      <td>ATMOSPHERIC DEPOSITION</td>\n",
       "      <td>N</td>\n",
       "      <td>5/1/2015</td>\n",
       "    </tr>\n",
       "    <tr>\n",
       "      <td>339666</td>\n",
       "      <td>232432</td>\n",
       "      <td>NJDELAWARE-RIVER-8</td>\n",
       "      <td>NJDELAWARE-RIVER-8</td>\n",
       "      <td>2010</td>\n",
       "      <td>NJ</td>\n",
       "      <td>Y</td>\n",
       "      <td>http://ofmpub.epa.gov/waters10/attains_waterbo...</td>\n",
       "      <td>Delaware River 1D</td>\n",
       "      <td>IMPAIRED</td>\n",
       "      <td>5</td>\n",
       "      <td>...</td>\n",
       "      <td>862.0</td>\n",
       "      <td>PCB(S) IN FISH TISSUE</td>\n",
       "      <td>918.0</td>\n",
       "      <td>POLYCHLORINATED BIPHENYLS (PCBS)</td>\n",
       "      <td>389.0</td>\n",
       "      <td>URBAN RUNOFF/STORM SEWERS</td>\n",
       "      <td>539.0</td>\n",
       "      <td>URBAN-RELATED RUNOFF/STORMWATER</td>\n",
       "      <td>N</td>\n",
       "      <td>5/1/2015</td>\n",
       "    </tr>\n",
       "    <tr>\n",
       "      <td>339667</td>\n",
       "      <td>232432</td>\n",
       "      <td>NJDELAWARE-RIVER-8</td>\n",
       "      <td>NJDELAWARE-RIVER-8</td>\n",
       "      <td>2010</td>\n",
       "      <td>NJ</td>\n",
       "      <td>Y</td>\n",
       "      <td>http://ofmpub.epa.gov/waters10/attains_waterbo...</td>\n",
       "      <td>Delaware River 1D</td>\n",
       "      <td>IMPAIRED</td>\n",
       "      <td>5</td>\n",
       "      <td>...</td>\n",
       "      <td>862.0</td>\n",
       "      <td>PCB(S) IN FISH TISSUE</td>\n",
       "      <td>918.0</td>\n",
       "      <td>POLYCHLORINATED BIPHENYLS (PCBS)</td>\n",
       "      <td>239.0</td>\n",
       "      <td>INDUSTRIAL POINT SOURCE DISCHARGE</td>\n",
       "      <td>538.0</td>\n",
       "      <td>INDUSTRIAL</td>\n",
       "      <td>N</td>\n",
       "      <td>5/1/2015</td>\n",
       "    </tr>\n",
       "  </tbody>\n",
       "</table>\n",
       "<p>3014 rows × 34 columns</p>\n",
       "</div>"
      ],
      "text/plain": [
       "            ID   ASSESSMENT_UNIT_ID ASSESSMENT_UNIT_ID_ORIG  CYCLE_YEAR STATE  \\\n",
       "315473  227158  NJ02020007010010-01     NJ02020007010010-01        2010    NJ   \n",
       "315477  227162  NJ02020007010020-01     NJ02020007010020-01        2010    NJ   \n",
       "315478  227162  NJ02020007010020-01     NJ02020007010020-01        2010    NJ   \n",
       "315493  227171  NJ02020007010040-01     NJ02020007010040-01        2010    NJ   \n",
       "315498  227176  NJ02020007010060-01     NJ02020007010060-01        2010    NJ   \n",
       "...        ...                  ...                     ...         ...   ...   \n",
       "339663  232432   NJDELAWARE-RIVER-8      NJDELAWARE-RIVER-8        2010    NJ   \n",
       "339664  232432   NJDELAWARE-RIVER-8      NJDELAWARE-RIVER-8        2010    NJ   \n",
       "339665  232432   NJDELAWARE-RIVER-8      NJDELAWARE-RIVER-8        2010    NJ   \n",
       "339666  232432   NJDELAWARE-RIVER-8      NJDELAWARE-RIVER-8        2010    NJ   \n",
       "339667  232432   NJDELAWARE-RIVER-8      NJDELAWARE-RIVER-8        2010    NJ   \n",
       "\n",
       "       IR_STATUS                                AU_WATERBODY_REPORT  \\\n",
       "315473         Y  http://ofmpub.epa.gov/waters10/attains_waterbo...   \n",
       "315477         Y  http://ofmpub.epa.gov/waters10/attains_waterbo...   \n",
       "315478         Y  http://ofmpub.epa.gov/waters10/attains_waterbo...   \n",
       "315493         Y  http://ofmpub.epa.gov/waters10/attains_waterbo...   \n",
       "315498         Y  http://ofmpub.epa.gov/waters10/attains_waterbo...   \n",
       "...          ...                                                ...   \n",
       "339663         Y  http://ofmpub.epa.gov/waters10/attains_waterbo...   \n",
       "339664         Y  http://ofmpub.epa.gov/waters10/attains_waterbo...   \n",
       "339665         Y  http://ofmpub.epa.gov/waters10/attains_waterbo...   \n",
       "339666         Y  http://ofmpub.epa.gov/waters10/attains_waterbo...   \n",
       "339667         Y  http://ofmpub.epa.gov/waters10/attains_waterbo...   \n",
       "\n",
       "                            ASSESSMENT_UNIT_NAME ASSESSMENT_STATUS  \\\n",
       "315473  Wallkill R/Lake Mohawk(above Sparta Sta)          IMPAIRED   \n",
       "315477  Wallkill R (Ogdensburg to SpartaStation)          IMPAIRED   \n",
       "315478  Wallkill R (Ogdensburg to SpartaStation)          IMPAIRED   \n",
       "315493  Wallkill R(Hamburg SW Bdy to Ogdensburg)          IMPAIRED   \n",
       "315498                                Beaver Run          IMPAIRED   \n",
       "...                                          ...               ...   \n",
       "339663                         Delaware River 1D          IMPAIRED   \n",
       "339664                         Delaware River 1D          IMPAIRED   \n",
       "339665                         Delaware River 1D          IMPAIRED   \n",
       "339666                         Delaware River 1D          IMPAIRED   \n",
       "339667                         Delaware River 1D          IMPAIRED   \n",
       "\n",
       "       ASSESSMENT_UNIT_EPA_CATEGORY  ... LW_DETAILED_CAUSE_ID  \\\n",
       "315473                           4A  ...                  NaN   \n",
       "315477                            5  ...               1036.0   \n",
       "315478                            5  ...                247.0   \n",
       "315493                            5  ...               1036.0   \n",
       "315498                            5  ...                247.0   \n",
       "...                             ...  ...                  ...   \n",
       "339663                            5  ...                696.0   \n",
       "339664                            5  ...                696.0   \n",
       "339665                            5  ...                862.0   \n",
       "339666                            5  ...                862.0   \n",
       "339667                            5  ...                862.0   \n",
       "\n",
       "        LW_DETAILED_CAUSE_NAME LW_PARENT_CAUSE_ID  \\\n",
       "315473                     NaN                NaN   \n",
       "315477      TEMPERATURE, WATER             1035.0   \n",
       "315478           CAUSE UNKNOWN              247.0   \n",
       "315493      TEMPERATURE, WATER             1035.0   \n",
       "315498           CAUSE UNKNOWN              247.0   \n",
       "...                        ...                ...   \n",
       "339663  MERCURY IN FISH TISSUE              693.0   \n",
       "339664  MERCURY IN FISH TISSUE              693.0   \n",
       "339665   PCB(S) IN FISH TISSUE              918.0   \n",
       "339666   PCB(S) IN FISH TISSUE              918.0   \n",
       "339667   PCB(S) IN FISH TISSUE              918.0   \n",
       "\n",
       "                    LW_PARENT_CAUSE_NAME LW_DETAILED_SOURCE_ID  \\\n",
       "315473                               NaN                   NaN   \n",
       "315477                       TEMPERATURE                 136.0   \n",
       "315478                     CAUSE UNKNOWN                   NaN   \n",
       "315493                       TEMPERATURE                   NaN   \n",
       "315498                     CAUSE UNKNOWN                  18.0   \n",
       "...                                  ...                   ...   \n",
       "339663                           MERCURY                 239.0   \n",
       "339664                           MERCURY                 154.0   \n",
       "339665  POLYCHLORINATED BIPHENYLS (PCBS)                 154.0   \n",
       "339666  POLYCHLORINATED BIPHENYLS (PCBS)                 389.0   \n",
       "339667  POLYCHLORINATED BIPHENYLS (PCBS)                 239.0   \n",
       "\n",
       "                                  LW_DETAILED_SOURCE_NAME LW_PARENT_SOURCE_ID  \\\n",
       "315473                                                NaN                 NaN   \n",
       "315477  UPSTREAM IMPOUNDMENTS (E.G., PL-566 NRCS STRUC...                 1.0   \n",
       "315478                                                NaN                 NaN   \n",
       "315493                                                NaN                 NaN   \n",
       "315498                                        AGRICULTURE                18.0   \n",
       "...                                                   ...                 ...   \n",
       "339663                  INDUSTRIAL POINT SOURCE DISCHARGE               538.0   \n",
       "339664                    ATMOSPHERIC DEPOSITION - TOXICS               109.0   \n",
       "339665                    ATMOSPHERIC DEPOSITION - TOXICS               109.0   \n",
       "339666                          URBAN RUNOFF/STORM SEWERS               539.0   \n",
       "339667                  INDUSTRIAL POINT SOURCE DISCHARGE               538.0   \n",
       "\n",
       "                  LW_PARENT_SOURCE_NAME TMDL_FLAG  EPA2_SNAPSHOT_DATE  \n",
       "315473                              NaN       NaN                 NaN  \n",
       "315477                HYDROMODIFICATION         N            5/1/2015  \n",
       "315478                              NaN         N            5/1/2015  \n",
       "315493                              NaN         N            5/1/2015  \n",
       "315498                      AGRICULTURE         N            5/1/2015  \n",
       "...                                 ...       ...                 ...  \n",
       "339663                       INDUSTRIAL         N            5/1/2015  \n",
       "339664           ATMOSPHERIC DEPOSITION         N            5/1/2015  \n",
       "339665           ATMOSPHERIC DEPOSITION         N            5/1/2015  \n",
       "339666  URBAN-RELATED RUNOFF/STORMWATER         N            5/1/2015  \n",
       "339667                       INDUSTRIAL         N            5/1/2015  \n",
       "\n",
       "[3014 rows x 34 columns]"
      ]
     },
     "execution_count": 24,
     "metadata": {},
     "output_type": "execute_result"
    }
   ],
   "source": [
    "newjersey_df = three_column_filter(\"STATE\",\"ASSESSMENT_STATUS\",\"AU_PARENT_USE_DESC\",\"NJ\",\"IMPAIRED\",\"PUBLIC WATER SUPPLY\")\n",
    "newjersey_df"
   ]
  },
  {
   "cell_type": "code",
   "execution_count": null,
   "metadata": {
    "slideshow": {
     "slide_type": "-"
    }
   },
   "outputs": [],
   "source": []
  },
  {
   "cell_type": "code",
   "execution_count": 120,
   "metadata": {},
   "outputs": [],
   "source": [
    "# Flag ALL  records with IMPAIRED FLAG for the state of Montana\n",
    "filtered_df4 = three_column_filter(\"ASSESSMENT_STATUS\",\"STATE\",\"AU_PARENT_USE_DESC\",\"IMPAIRED\",\"MT\",\"PUBLIC WATER SUPPLY\")\n",
    "mt_drinking_df = filtered_df4.copy()\n"
   ]
  },
  {
   "cell_type": "code",
   "execution_count": 122,
   "metadata": {
    "slideshow": {
     "slide_type": "-"
    }
   },
   "outputs": [
    {
     "data": {
      "text/html": [
       "<div>\n",
       "<style scoped>\n",
       "    .dataframe tbody tr th:only-of-type {\n",
       "        vertical-align: middle;\n",
       "    }\n",
       "\n",
       "    .dataframe tbody tr th {\n",
       "        vertical-align: top;\n",
       "    }\n",
       "\n",
       "    .dataframe thead th {\n",
       "        text-align: right;\n",
       "    }\n",
       "</style>\n",
       "<table border=\"1\" class=\"dataframe\">\n",
       "  <thead>\n",
       "    <tr style=\"text-align: right;\">\n",
       "      <th></th>\n",
       "      <th>ID</th>\n",
       "      <th>ASSESSMENT_UNIT_ID</th>\n",
       "      <th>ASSESSMENT_UNIT_ID_ORIG</th>\n",
       "      <th>CYCLE_YEAR</th>\n",
       "      <th>STATE</th>\n",
       "      <th>IR_STATUS</th>\n",
       "      <th>AU_WATERBODY_REPORT</th>\n",
       "      <th>ASSESSMENT_UNIT_NAME</th>\n",
       "      <th>ASSESSMENT_STATUS</th>\n",
       "      <th>ASSESSMENT_UNIT_EPA_CATEGORY</th>\n",
       "      <th>...</th>\n",
       "      <th>LW_DETAILED_CAUSE_ID</th>\n",
       "      <th>LW_DETAILED_CAUSE_NAME</th>\n",
       "      <th>LW_PARENT_CAUSE_ID</th>\n",
       "      <th>LW_PARENT_CAUSE_NAME</th>\n",
       "      <th>LW_DETAILED_SOURCE_ID</th>\n",
       "      <th>LW_DETAILED_SOURCE_NAME</th>\n",
       "      <th>LW_PARENT_SOURCE_ID</th>\n",
       "      <th>LW_PARENT_SOURCE_NAME</th>\n",
       "      <th>TMDL_FLAG</th>\n",
       "      <th>EPA2_SNAPSHOT_DATE</th>\n",
       "    </tr>\n",
       "  </thead>\n",
       "  <tbody>\n",
       "    <tr>\n",
       "      <td>241313</td>\n",
       "      <td>174063</td>\n",
       "      <td>MT40A001_010</td>\n",
       "      <td>MT40A001_010</td>\n",
       "      <td>2012</td>\n",
       "      <td>MT</td>\n",
       "      <td>Y</td>\n",
       "      <td>http://ofmpub.epa.gov/waters10/attains_waterbo...</td>\n",
       "      <td>Musselshell River</td>\n",
       "      <td>IMPAIRED</td>\n",
       "      <td>5</td>\n",
       "      <td>...</td>\n",
       "      <td>983.0</td>\n",
       "      <td>SEDIMENTATION/SILTATION</td>\n",
       "      <td>974.0</td>\n",
       "      <td>SEDIMENT</td>\n",
       "      <td>306.0</td>\n",
       "      <td>CHANNELIZATION</td>\n",
       "      <td>1.0</td>\n",
       "      <td>HYDROMODIFICATION</td>\n",
       "      <td>N</td>\n",
       "      <td>5/1/2015</td>\n",
       "    </tr>\n",
       "    <tr>\n",
       "      <td>241315</td>\n",
       "      <td>174063</td>\n",
       "      <td>MT40A001_010</td>\n",
       "      <td>MT40A001_010</td>\n",
       "      <td>2012</td>\n",
       "      <td>MT</td>\n",
       "      <td>Y</td>\n",
       "      <td>http://ofmpub.epa.gov/waters10/attains_waterbo...</td>\n",
       "      <td>Musselshell River</td>\n",
       "      <td>IMPAIRED</td>\n",
       "      <td>5</td>\n",
       "      <td>...</td>\n",
       "      <td>772.0</td>\n",
       "      <td>NITROGEN, TOTAL</td>\n",
       "      <td>792.0</td>\n",
       "      <td>NUTRIENTS</td>\n",
       "      <td>18.0</td>\n",
       "      <td>AGRICULTURE</td>\n",
       "      <td>18.0</td>\n",
       "      <td>AGRICULTURE</td>\n",
       "      <td>N</td>\n",
       "      <td>5/1/2015</td>\n",
       "    </tr>\n",
       "    <tr>\n",
       "      <td>241316</td>\n",
       "      <td>174063</td>\n",
       "      <td>MT40A001_010</td>\n",
       "      <td>MT40A001_010</td>\n",
       "      <td>2012</td>\n",
       "      <td>MT</td>\n",
       "      <td>Y</td>\n",
       "      <td>http://ofmpub.epa.gov/waters10/attains_waterbo...</td>\n",
       "      <td>Musselshell River</td>\n",
       "      <td>IMPAIRED</td>\n",
       "      <td>5</td>\n",
       "      <td>...</td>\n",
       "      <td>903.0</td>\n",
       "      <td>PHOSPHORUS, TOTAL</td>\n",
       "      <td>792.0</td>\n",
       "      <td>NUTRIENTS</td>\n",
       "      <td>149.0</td>\n",
       "      <td>IRRIGATED CROP PRODUCTION</td>\n",
       "      <td>18.0</td>\n",
       "      <td>AGRICULTURE</td>\n",
       "      <td>N</td>\n",
       "      <td>5/1/2015</td>\n",
       "    </tr>\n",
       "    <tr>\n",
       "      <td>241350</td>\n",
       "      <td>174070</td>\n",
       "      <td>MT40A002_010</td>\n",
       "      <td>MT40A002_010</td>\n",
       "      <td>2012</td>\n",
       "      <td>MT</td>\n",
       "      <td>Y</td>\n",
       "      <td>http://ofmpub.epa.gov/waters10/attains_waterbo...</td>\n",
       "      <td>North Fork Musselshell River</td>\n",
       "      <td>IMPAIRED</td>\n",
       "      <td>4C</td>\n",
       "      <td>...</td>\n",
       "      <td>NaN</td>\n",
       "      <td>NaN</td>\n",
       "      <td>NaN</td>\n",
       "      <td>NaN</td>\n",
       "      <td>NaN</td>\n",
       "      <td>NaN</td>\n",
       "      <td>NaN</td>\n",
       "      <td>NaN</td>\n",
       "      <td>NaN</td>\n",
       "      <td>NaN</td>\n",
       "    </tr>\n",
       "    <tr>\n",
       "      <td>241435</td>\n",
       "      <td>174098</td>\n",
       "      <td>MT40A005_010</td>\n",
       "      <td>MT40A005_010</td>\n",
       "      <td>2012</td>\n",
       "      <td>MT</td>\n",
       "      <td>Y</td>\n",
       "      <td>http://ofmpub.epa.gov/waters10/attains_waterbo...</td>\n",
       "      <td>Deadmans Basin Reservoir</td>\n",
       "      <td>IMPAIRED</td>\n",
       "      <td>5</td>\n",
       "      <td>...</td>\n",
       "      <td>651.0</td>\n",
       "      <td>IRON</td>\n",
       "      <td>706.0</td>\n",
       "      <td>METALS (OTHER THAN MERCURY)</td>\n",
       "      <td>292.0</td>\n",
       "      <td>SOURCE UNKNOWN</td>\n",
       "      <td>472.0</td>\n",
       "      <td>UNKNOWN</td>\n",
       "      <td>N</td>\n",
       "      <td>5/1/2015</td>\n",
       "    </tr>\n",
       "    <tr>\n",
       "      <td>...</td>\n",
       "      <td>...</td>\n",
       "      <td>...</td>\n",
       "      <td>...</td>\n",
       "      <td>...</td>\n",
       "      <td>...</td>\n",
       "      <td>...</td>\n",
       "      <td>...</td>\n",
       "      <td>...</td>\n",
       "      <td>...</td>\n",
       "      <td>...</td>\n",
       "      <td>...</td>\n",
       "      <td>...</td>\n",
       "      <td>...</td>\n",
       "      <td>...</td>\n",
       "      <td>...</td>\n",
       "      <td>...</td>\n",
       "      <td>...</td>\n",
       "      <td>...</td>\n",
       "      <td>...</td>\n",
       "      <td>...</td>\n",
       "      <td>...</td>\n",
       "    </tr>\n",
       "    <tr>\n",
       "      <td>252570</td>\n",
       "      <td>176846</td>\n",
       "      <td>MT76E004_020</td>\n",
       "      <td>MT76E004_020</td>\n",
       "      <td>2012</td>\n",
       "      <td>MT</td>\n",
       "      <td>Y</td>\n",
       "      <td>http://ofmpub.epa.gov/waters10/attains_waterbo...</td>\n",
       "      <td>Cramer Creek</td>\n",
       "      <td>IMPAIRED</td>\n",
       "      <td>5</td>\n",
       "      <td>...</td>\n",
       "      <td>161.0</td>\n",
       "      <td>BARIUM</td>\n",
       "      <td>946.0</td>\n",
       "      <td>RADIATION</td>\n",
       "      <td>145.0</td>\n",
       "      <td>IMPACTS FROM ABANDONED MINE LANDS (INACTIVE)</td>\n",
       "      <td>252.0</td>\n",
       "      <td>RESOURCE EXTRACTION</td>\n",
       "      <td>N</td>\n",
       "      <td>5/1/2015</td>\n",
       "    </tr>\n",
       "    <tr>\n",
       "      <td>253312</td>\n",
       "      <td>177224</td>\n",
       "      <td>MT76G004_051</td>\n",
       "      <td>MT76G004_051</td>\n",
       "      <td>2012</td>\n",
       "      <td>MT</td>\n",
       "      <td>Y</td>\n",
       "      <td>http://ofmpub.epa.gov/waters10/attains_waterbo...</td>\n",
       "      <td>Telegraph Creek</td>\n",
       "      <td>IMPAIRED</td>\n",
       "      <td>5</td>\n",
       "      <td>...</td>\n",
       "      <td>189.0</td>\n",
       "      <td>BERYLLIUM</td>\n",
       "      <td>706.0</td>\n",
       "      <td>METALS (OTHER THAN MERCURY)</td>\n",
       "      <td>145.0</td>\n",
       "      <td>IMPACTS FROM ABANDONED MINE LANDS (INACTIVE)</td>\n",
       "      <td>252.0</td>\n",
       "      <td>RESOURCE EXTRACTION</td>\n",
       "      <td>Y</td>\n",
       "      <td>5/1/2015</td>\n",
       "    </tr>\n",
       "    <tr>\n",
       "      <td>254508</td>\n",
       "      <td>177749</td>\n",
       "      <td>MT76N001_020</td>\n",
       "      <td>MT76N001_020</td>\n",
       "      <td>2012</td>\n",
       "      <td>MT</td>\n",
       "      <td>Y</td>\n",
       "      <td>http://ofmpub.epa.gov/waters10/attains_waterbo...</td>\n",
       "      <td>Clark Fork River</td>\n",
       "      <td>IMPAIRED</td>\n",
       "      <td>5</td>\n",
       "      <td>...</td>\n",
       "      <td>567.0</td>\n",
       "      <td>GAS SUPERSATURATION</td>\n",
       "      <td>830.0</td>\n",
       "      <td>OTHER CAUSE</td>\n",
       "      <td>NaN</td>\n",
       "      <td>NaN</td>\n",
       "      <td>NaN</td>\n",
       "      <td>NaN</td>\n",
       "      <td>N</td>\n",
       "      <td>5/1/2015</td>\n",
       "    </tr>\n",
       "    <tr>\n",
       "      <td>254509</td>\n",
       "      <td>177749</td>\n",
       "      <td>MT76N001_020</td>\n",
       "      <td>MT76N001_020</td>\n",
       "      <td>2012</td>\n",
       "      <td>MT</td>\n",
       "      <td>Y</td>\n",
       "      <td>http://ofmpub.epa.gov/waters10/attains_waterbo...</td>\n",
       "      <td>Clark Fork River</td>\n",
       "      <td>IMPAIRED</td>\n",
       "      <td>5</td>\n",
       "      <td>...</td>\n",
       "      <td>446.0</td>\n",
       "      <td>DISSOLVED GAS SUPERSATURATION</td>\n",
       "      <td>830.0</td>\n",
       "      <td>OTHER CAUSE</td>\n",
       "      <td>38.0</td>\n",
       "      <td>DAM OR IMPOUNDMENT</td>\n",
       "      <td>1.0</td>\n",
       "      <td>HYDROMODIFICATION</td>\n",
       "      <td>N</td>\n",
       "      <td>5/1/2015</td>\n",
       "    </tr>\n",
       "    <tr>\n",
       "      <td>255124</td>\n",
       "      <td>177913</td>\n",
       "      <td>MT76P003_010</td>\n",
       "      <td>MT76P003_010</td>\n",
       "      <td>2012</td>\n",
       "      <td>MT</td>\n",
       "      <td>Y</td>\n",
       "      <td>http://ofmpub.epa.gov/waters10/attains_waterbo...</td>\n",
       "      <td>Whitefish River</td>\n",
       "      <td>IMPAIRED</td>\n",
       "      <td>5</td>\n",
       "      <td>...</td>\n",
       "      <td>1190.0</td>\n",
       "      <td>PCB IN WATER COLUMN</td>\n",
       "      <td>918.0</td>\n",
       "      <td>POLYCHLORINATED BIPHENYLS (PCBS)</td>\n",
       "      <td>239.0</td>\n",
       "      <td>INDUSTRIAL POINT SOURCE DISCHARGE</td>\n",
       "      <td>538.0</td>\n",
       "      <td>INDUSTRIAL</td>\n",
       "      <td>N</td>\n",
       "      <td>5/1/2015</td>\n",
       "    </tr>\n",
       "  </tbody>\n",
       "</table>\n",
       "<p>64 rows × 34 columns</p>\n",
       "</div>"
      ],
      "text/plain": [
       "            ID ASSESSMENT_UNIT_ID ASSESSMENT_UNIT_ID_ORIG  CYCLE_YEAR STATE  \\\n",
       "241313  174063       MT40A001_010            MT40A001_010        2012    MT   \n",
       "241315  174063       MT40A001_010            MT40A001_010        2012    MT   \n",
       "241316  174063       MT40A001_010            MT40A001_010        2012    MT   \n",
       "241350  174070       MT40A002_010            MT40A002_010        2012    MT   \n",
       "241435  174098       MT40A005_010            MT40A005_010        2012    MT   \n",
       "...        ...                ...                     ...         ...   ...   \n",
       "252570  176846       MT76E004_020            MT76E004_020        2012    MT   \n",
       "253312  177224       MT76G004_051            MT76G004_051        2012    MT   \n",
       "254508  177749       MT76N001_020            MT76N001_020        2012    MT   \n",
       "254509  177749       MT76N001_020            MT76N001_020        2012    MT   \n",
       "255124  177913       MT76P003_010            MT76P003_010        2012    MT   \n",
       "\n",
       "       IR_STATUS                                AU_WATERBODY_REPORT  \\\n",
       "241313         Y  http://ofmpub.epa.gov/waters10/attains_waterbo...   \n",
       "241315         Y  http://ofmpub.epa.gov/waters10/attains_waterbo...   \n",
       "241316         Y  http://ofmpub.epa.gov/waters10/attains_waterbo...   \n",
       "241350         Y  http://ofmpub.epa.gov/waters10/attains_waterbo...   \n",
       "241435         Y  http://ofmpub.epa.gov/waters10/attains_waterbo...   \n",
       "...          ...                                                ...   \n",
       "252570         Y  http://ofmpub.epa.gov/waters10/attains_waterbo...   \n",
       "253312         Y  http://ofmpub.epa.gov/waters10/attains_waterbo...   \n",
       "254508         Y  http://ofmpub.epa.gov/waters10/attains_waterbo...   \n",
       "254509         Y  http://ofmpub.epa.gov/waters10/attains_waterbo...   \n",
       "255124         Y  http://ofmpub.epa.gov/waters10/attains_waterbo...   \n",
       "\n",
       "                ASSESSMENT_UNIT_NAME ASSESSMENT_STATUS  \\\n",
       "241313             Musselshell River          IMPAIRED   \n",
       "241315             Musselshell River          IMPAIRED   \n",
       "241316             Musselshell River          IMPAIRED   \n",
       "241350  North Fork Musselshell River          IMPAIRED   \n",
       "241435      Deadmans Basin Reservoir          IMPAIRED   \n",
       "...                              ...               ...   \n",
       "252570                  Cramer Creek          IMPAIRED   \n",
       "253312               Telegraph Creek          IMPAIRED   \n",
       "254508              Clark Fork River          IMPAIRED   \n",
       "254509              Clark Fork River          IMPAIRED   \n",
       "255124               Whitefish River          IMPAIRED   \n",
       "\n",
       "       ASSESSMENT_UNIT_EPA_CATEGORY  ... LW_DETAILED_CAUSE_ID  \\\n",
       "241313                            5  ...                983.0   \n",
       "241315                            5  ...                772.0   \n",
       "241316                            5  ...                903.0   \n",
       "241350                           4C  ...                  NaN   \n",
       "241435                            5  ...                651.0   \n",
       "...                             ...  ...                  ...   \n",
       "252570                            5  ...                161.0   \n",
       "253312                            5  ...                189.0   \n",
       "254508                            5  ...                567.0   \n",
       "254509                            5  ...                446.0   \n",
       "255124                            5  ...               1190.0   \n",
       "\n",
       "               LW_DETAILED_CAUSE_NAME LW_PARENT_CAUSE_ID  \\\n",
       "241313        SEDIMENTATION/SILTATION              974.0   \n",
       "241315                NITROGEN, TOTAL              792.0   \n",
       "241316              PHOSPHORUS, TOTAL              792.0   \n",
       "241350                            NaN                NaN   \n",
       "241435                           IRON              706.0   \n",
       "...                               ...                ...   \n",
       "252570                         BARIUM              946.0   \n",
       "253312                      BERYLLIUM              706.0   \n",
       "254508            GAS SUPERSATURATION              830.0   \n",
       "254509  DISSOLVED GAS SUPERSATURATION              830.0   \n",
       "255124            PCB IN WATER COLUMN              918.0   \n",
       "\n",
       "                    LW_PARENT_CAUSE_NAME LW_DETAILED_SOURCE_ID  \\\n",
       "241313                          SEDIMENT                 306.0   \n",
       "241315                         NUTRIENTS                  18.0   \n",
       "241316                         NUTRIENTS                 149.0   \n",
       "241350                               NaN                   NaN   \n",
       "241435       METALS (OTHER THAN MERCURY)                 292.0   \n",
       "...                                  ...                   ...   \n",
       "252570                         RADIATION                 145.0   \n",
       "253312       METALS (OTHER THAN MERCURY)                 145.0   \n",
       "254508                       OTHER CAUSE                   NaN   \n",
       "254509                       OTHER CAUSE                  38.0   \n",
       "255124  POLYCHLORINATED BIPHENYLS (PCBS)                 239.0   \n",
       "\n",
       "                             LW_DETAILED_SOURCE_NAME LW_PARENT_SOURCE_ID  \\\n",
       "241313                                CHANNELIZATION                 1.0   \n",
       "241315                                   AGRICULTURE                18.0   \n",
       "241316                     IRRIGATED CROP PRODUCTION                18.0   \n",
       "241350                                           NaN                 NaN   \n",
       "241435                                SOURCE UNKNOWN               472.0   \n",
       "...                                              ...                 ...   \n",
       "252570  IMPACTS FROM ABANDONED MINE LANDS (INACTIVE)               252.0   \n",
       "253312  IMPACTS FROM ABANDONED MINE LANDS (INACTIVE)               252.0   \n",
       "254508                                           NaN                 NaN   \n",
       "254509                            DAM OR IMPOUNDMENT                 1.0   \n",
       "255124             INDUSTRIAL POINT SOURCE DISCHARGE               538.0   \n",
       "\n",
       "       LW_PARENT_SOURCE_NAME TMDL_FLAG  EPA2_SNAPSHOT_DATE  \n",
       "241313     HYDROMODIFICATION         N            5/1/2015  \n",
       "241315           AGRICULTURE         N            5/1/2015  \n",
       "241316           AGRICULTURE         N            5/1/2015  \n",
       "241350                   NaN       NaN                 NaN  \n",
       "241435               UNKNOWN         N            5/1/2015  \n",
       "...                      ...       ...                 ...  \n",
       "252570   RESOURCE EXTRACTION         N            5/1/2015  \n",
       "253312   RESOURCE EXTRACTION         Y            5/1/2015  \n",
       "254508                   NaN         N            5/1/2015  \n",
       "254509     HYDROMODIFICATION         N            5/1/2015  \n",
       "255124            INDUSTRIAL         N            5/1/2015  \n",
       "\n",
       "[64 rows x 34 columns]"
      ]
     },
     "execution_count": 122,
     "metadata": {},
     "output_type": "execute_result"
    }
   ],
   "source": [
    "# Count the Impaired by State with a two letter state name,then remove the duplicates\n",
    "# Just to get a list of the types of impairment details\n",
    "mt_issue_list = mt_drinking_df.drop_duplicates(subset=[\"LW_DETAILED_CAUSE_ID\"])\n",
    "mt_issue_list\n",
    "mt_issue_list.to_csv(\"montana_drinking2.csv\", index=False, header=True)\n",
    "mt_issue_list"
   ]
  },
  {
   "cell_type": "code",
   "execution_count": null,
   "metadata": {
    "slideshow": {
     "slide_type": "-"
    }
   },
   "outputs": [],
   "source": []
  },
  {
   "cell_type": "code",
   "execution_count": 119,
   "metadata": {
    "scrolled": true,
    "slideshow": {
     "slide_type": "-"
    }
   },
   "outputs": [
    {
     "data": {
      "text/plain": [
       "array([nan, 'SEDIMENTATION/SILTATION', 'TURBIDITY',\n",
       "       'TOXIC & OTHER DELETERIOUS SUBSTANCES', 'DISSOLVED OXYGEN', 'LEAD',\n",
       "       'ZINC', 'BARIUM', 'PETROLEUM HYDROCARBONS',\n",
       "       'DEBRIS/FLOATABLES/TRASH', 'RESIDUES', 'IRON', 'MANGANESE',\n",
       "       'NITROGENOUS BOD', 'CARBONACEOUS BOD', 'MERCURY',\n",
       "       'PHOSPHORUS, TOTAL', 'FECAL COLIFORM', 'COPPER', 'AMMONIA, TOTAL',\n",
       "       'CHLORIDE', 'ENTEROCOCCUS BACTERIA', 'ESCHERICHIA COLI (E. COLI)',\n",
       "       'POLYCHLORINATED BIPHENYLS (PCBS)', 'TOTAL DISSOLVED SOLIDS (TDS)',\n",
       "       'DIELDRIN', 'WHOLE EFFLUENT TOXICITY (WET)', 'PH', 'ALUMINUM',\n",
       "       'CHROMIUM, TRIVALENT', 'DDT', 'ARSENIC', 'THALLIUM', 'CYANIDE',\n",
       "       'SULFATES', 'TEMPERATURE', 'NITRATES', 'CADMIUM', 'BERYLLIUM',\n",
       "       'SELENIUM', 'AMMONIA, UN-IONIZED', 'CHLORINE', 'NITROGEN, TOTAL',\n",
       "       'MERCURY IN FISH TISSUE', 'PHOSPHORUS, ELEMENTAL', 'CHLORDANE',\n",
       "       'TOXAPHENE', 'BORON', 'AQUATIC PLANTS - NATIVE', 'DIOXIN',\n",
       "       'INVASIVE EXOTIC SPECIES', 'NUTRIENTS', 'FURAN COMPOUNDS',\n",
       "       'DIOXIN (INCLUDING 2,3,7,8-TCDD)', 'PCBS - DIOXIN-LIKE',\n",
       "       'COLIFORMS', 'TRASH', 'CONTAMINATED SEDIMENTS (CHLORDANE)',\n",
       "       'CONTAMINATED SEDIMENTS (PCBS)', 'SEDIMENT TOXICITY',\n",
       "       'DIELDRIN IN SEDIMENT', 'CONTAMINATED SEDIMENTS (LEAD)',\n",
       "       'CONTAMINATED SEDIMENTS (COPPER)', 'CONTAMINATED SEDIMENTS (ZINC)',\n",
       "       'CONTAMINATED SEDIMENTS (PAHS)', 'PESTICIDES', 'DIAZINON',\n",
       "       'CHLORPYRIFOS', 'NICKEL', 'PATHOGENS',\n",
       "       'METALS (OTHER THAN MERCURY)', 'DDT IN TISSUE AND SEDIMENT',\n",
       "       'CHLORDANE IN FISH TISSUE', '2-METHYLNAPHTHALENE',\n",
       "       'BENTHIC MACROINVERTEBRATES BIOASSESSMENTS',\n",
       "       'PCBS IN SEDIMENTS AND FISH TISSUE',\n",
       "       'CONTAMINATED SEDIMENTS (CADMIUM)', 'CHROMIUM, TOTAL',\n",
       "       'MERCURY IN SEDIMENT', 'BENZO[A]PYRENE', 'CHRYSENE', 'PYRENE',\n",
       "       'PHENANTHRENE', 'BENZO[A]ANTHRACENE', 'BEACH CLOSURES',\n",
       "       'INDICATOR BACTERIA', 'FISH CONSUMPTION ADVISORY', 'DEBRIS',\n",
       "       'DDT IN TISSUE', 'DIELDRIN IN TISSUE', 'BENZ[A]ANTHRACENE',\n",
       "       'DIBENZ[A,H]ANTHRACENE',\n",
       "       'POLYCYCLIC AROMATIC HYDROCARBONS (PAHS) (AQUATIC ECOSYSTEMS)',\n",
       "       'PCB(S) IN FISH TISSUE', 'TOXICITY', 'EUTROPHICATION',\n",
       "       'TOTAL COLIFORM', 'AMMONIA', 'CONTAMINATED SEDIMENTS (SILVER)',\n",
       "       'HYDROGEN SULFIDE', 'PRIORITY ORGANICS COMPOUNDS',\n",
       "       'ORGANIC ENRICHMENT/LOW DISSOLVED OXYGEN', 'NITROGEN, NITRATE',\n",
       "       'CHEMA', 'DDT IN SEDIMENT', 'GROUP A PESTICIDES',\n",
       "       'UNKNOWN TOXICITY', 'CONDUCTIVITY',\n",
       "       'CYANOBACTERIA HEPATOTOXIC MICROCYSTINS', 'ALGAL TOXINS',\n",
       "       'HEPTACHLOR EPOXIDE', 'CHLOROPHYLL-A', 'SCUM/FOAM, UNNATURAL',\n",
       "       'NITRATE', 'FISH BARRIERS', 'ODORS', 'ALGAE', 'FISH KILL(S)',\n",
       "       'SPECIFIC CONDUCTIVITY', 'PH, HIGH', 'DIMETHOATE', 'SALINITY',\n",
       "       'NITROGEN', 'PHOSPHORUS',\n",
       "       'SALINITY/TOTAL DISSOLVED SOLIDS/CHLORIDES', 'TRACE ELEMENTS',\n",
       "       'AMMONIA NITROGEN', 'COLOR', 'PERCHLORATE', 'TEMPERATURE, WATER',\n",
       "       'SEDIMENT', 'NUTRIENT/EUTROPHICATION BIOLOGICAL INDICATORS', 'DDD',\n",
       "       'SODIUM', 'ENDRIN', 'NITRITE AS NITROGEN', 'PUMPING',\n",
       "       'WATER DIVERSION', 'SHELLFISH HARVESTING ADVISORY', 'OIL',\n",
       "       'BIS(2-ETHYLHEXYL) PHTHALATE', 'ACID MINE DRAINAGE', 'BACTERIA',\n",
       "       'PYRETHROIDS', 'PENTACHLOROPHENOL (PCP)', 'MALATHION', 'PH, LOW',\n",
       "       'GUTHION(AZINPHOS-METHYL)', 'CARBOFURAN', 'DIURON', 'DICHLORVOS',\n",
       "       'OXYFLUORFEN', 'DISULFOTON', 'BIOCHEMICAL OXYGEN DEMAND (BOD)',\n",
       "       'HEXACHLOROBENZENE', 'ALPHA-BHC', 'LINDANE', 'DDE', 'SIMAZINE',\n",
       "       'PERMETHRIN', 'BIFENTHRIN', 'TRIFLURALIN', 'PROMETRYN',\n",
       "       'ORGANOPHOSPHORUS PESTICIDES', 'MOLYBDENUM', 'ALDICARB',\n",
       "       'FLUORIDE', 'SILVER', 'ENDOSULFAN', 'TOTAL SUSPENDED SOLIDS (TSS)',\n",
       "       'CHEMICAL OXYGEN DEMAND (COD)', 'BENZO[B]FLUORANTHENE',\n",
       "       'NITRATE/NITRITE', 'PHOSPHATE', 'SYNTHETIC ORGANICS', 'SOLIDS',\n",
       "       'SURFACTANTS', 'OTHER HABITAT ALTERATION(S)',\n",
       "       'REDUCED TIDAL FLUSHING', 'HYDROMODIFICATION', 'EXOTIC VEGETATION',\n",
       "       'TETRACHLOROETHYLENE', 'URANIUM', 'DISSOLVED OXYGEN SATURATION',\n",
       "       'CAUSE UNKNOWN', 'BOD, SEDIMENT LOAD (SEDIMENT OXYGEN DEMAND)',\n",
       "       'EXCESS ALGAL GROWTH',\n",
       "       'ORGANIC ENRICHMENT (SEWAGE) BIOLOGICAL INDICATORS',\n",
       "       'TASTE AND ODOR', 'OIL AND GREASE', 'ESTUARINE BIOASSESSMENTS',\n",
       "       'GOLD', 'COMBINATION BENTHIC/FISHES BIOASSESSMENTS',\n",
       "       'FLOW ALTERATION(S)', 'PARTICLE DISTRIBUTION (EMBEDDEDNESS)',\n",
       "       'FISH BIOASSESSMENTS', 'COMBINED BIOTA/HABITAT BIOASSESSMENTS',\n",
       "       'PHYSICAL SUBSTRATE HABITAT ALTERATIONS',\n",
       "       'HABITAT ASSESSMENT (STREAMS)',\n",
       "       'ALTERATION IN STREAM-SIDE OR LITTORAL VEGETATIVE COVERS',\n",
       "       'CHLORINE, RESIDUAL (CHLORINE DEMAND)',\n",
       "       'ALTERATIONS IN WETLAND HABITATS', 'OTHER CAUSE',\n",
       "       'ALGAL GROWTH/CHLOROPHYLL A',\n",
       "       'CAUSE UNKNOWN - BIOLOGICAL INTEGRITY',\n",
       "       'CAUSE UNKNOWN (BIOLOGICAL): MUSSELS',\n",
       "       'FISH KILL CAUSED BY ANIMAL WASTE',\n",
       "       'FISH KILL DUE TO UNKNOWN TOXICITY', 'FISH KILL CAUSED BY AMMONIA',\n",
       "       'FISH CONSUMPTION ADVISORY - MERCURY',\n",
       "       'FISH KILL CAUSED BY FERTILIZER SPILL',\n",
       "       'FISH CONSUMPTION ADVISORY - PCBS', 'WASTEWATER', 'SANITARY WASTE',\n",
       "       'FISH KILL CAUSED BY PESTICIDES', 'CHROMIUM',\n",
       "       'FISH KILL CAUSED BY CHLORINE', 'FISH KILL CAUSED BY FUEL SPILL',\n",
       "       'FISH KILL DUE TO NATURAL CAUSES',\n",
       "       'FISH KILL CAUSED BY WASTEWATER',\n",
       "       'FISH KILL CAUSED BY ORGANIC ENRICHMENT/LOW DISSOLVED OXYGEN',\n",
       "       'DISSOLVED GAS SUPERSATURATION', 'AQUATIC PLANT BIOASSESSMENTS',\n",
       "       'METHYL PARATHION', 'ANTIMONY', 'BIOLOGY', 'SILTATION', 'ATRAZINE',\n",
       "       'SULFATE', 'GROSS ALPHA', 'METHYLMERCURY',\n",
       "       'BETA PARTICLES AND PHOTON EMITTERS',\n",
       "       'NITRATE/NITRITE (NITRITE + NITRATE AS N)',\n",
       "       'TOTAL KJEHLDAHL NITROGEN (TKN)', 'METHYL MERCURY',\n",
       "       'MERCURY IN WATER COLUMN', 'MACROPHYTES',\n",
       "       'AQUATIC PLANTS (MACROPHYTES)',\n",
       "       'AMBIENT BIOASSAYS - CHRONIC AQUATIC TOXICITY',\n",
       "       'AQUATIC MACROINVERTEBRATE BIOASSESSMENTS',\n",
       "       'LACK OF A COLDWATER ASSEMBLAGE', 'SECCHI DISK TRANSPARENCY',\n",
       "       'SEDIMENT SCREENING VALUE (EXCEEDENCE)',\n",
       "       'FOAM/FLOCS/SCUM/OIL SLICKS', 'NON-NATIVE AQUATIC PLANTS',\n",
       "       '2,3,7,8-TETRACHLORODIBENZO-P-DIOXIN (ONLY)',\n",
       "       'SEDIMENT BIOASSAYS - ACUTE TOXICITY FRESHWATER',\n",
       "       'DEHP (DI-SEC-OCTYL PHTHALATE)', 'SEDIMENT BIOASSAY',\n",
       "       'PERIPHYTON (AUFWUCHS) INDICATOR BIOASSESSMENTS',\n",
       "       '1,2-DICHLOROETHANE', '1,1-DICHLOROETHANE',\n",
       "       'BIOLOGICAL IMPAIRMENT', 'SOLIDS (SUSPENDED/BEDLOAD)',\n",
       "       'SUSPENDED SOLIDS', 'NON-NATIVE FISH/SHELLFISH/ZOOPLANKTON',\n",
       "       'BOTTOM DEPOSITS', 'ENDRIN ALDEHYDE', 'ENDOSULFAN SULFATE',\n",
       "       'COBALT', 'GAS SUPERSATURATION', 'PCB IN WATER COLUMN',\n",
       "       'ECOLOGICAL/BIOLOGICAL INTEGRITY BENTHOS',\n",
       "       'ECOLOGICAL/BIOLOGICAL INTEGRITY FISHCOM', 'LOW PH', 'HIGH PH',\n",
       "       'SHELLFISH GROWING AREA-CONDITIONALLY APPROVED OPEN',\n",
       "       'SHELLFISH GROWING AREA-PROHIBITED',\n",
       "       'SHELLFISH GROWING AREA-CONDITIONALLY APPROVED CLOSED',\n",
       "       'RECREATION ADVISORY POSTINGS', 'DIOXINS',\n",
       "       'INDENO[1,2,3-CD]PYRENE', 'NAPHTHALENE', 'ACENAPHTHYLENE',\n",
       "       'ACENAPHTHENE', 'FLUORENE', 'BENZO[G,H,I]PERYLENE', 'FLUORANTHENE',\n",
       "       'ANTHRACENE', 'BIPHENYL', 'LIGHT ATTENUATION COEFFICIENT',\n",
       "       'HEPTACHLOR', 'BENZO[K]FLUORANTHENE', 'BENTHIC MACROINVERTEBRATES',\n",
       "       'CREOSOTE', 'CHROMIUM, HEXAVALENT', 'BENZENE',\n",
       "       'TRICHLOROETHYLENE (TCE)',\n",
       "       'AMBIENT BIOASSAYS - ACUTE AQUATIC TOXICITY', 'RADIUM 226',\n",
       "       'RADIUM 228', 'ORTHOPHOSPHORUS', 'THERMAL MODIFICATIONS',\n",
       "       'OTHER INORGANICS',\n",
       "       'SEDIMENT BIOASSAYS FOR ESTUARINE AND MARINE WATER',\n",
       "       'ALKALINITY, CARBONATE AS CACO3', 'SULFIDE-HYDROGEN SULFIDE',\n",
       "       'OTHER ANTHROPOGENIC SUBSTRATE ALTERATIONS',\n",
       "       'ODOR THRESHOLD NUMBER', 'TOLUENE', 'ACETONE', 'STRONTIUM',\n",
       "       'CESIUM', 'PCB-1260', 'SLUDGE', 'COAL ASH',\n",
       "       'RDX (HEXAHYDRO-1,3,5-TRINITRO-1,3,5-TRIAZINE)', 'ALDRIN',\n",
       "       'IMPAIRED MACROBENTHOS COMMUNITY', 'FISH COMMUNITY',\n",
       "       'CHLORINE DIOXIDE (AS CLO2)', 'BACTERIA (OYSTER WATERS)', 'TOXICS',\n",
       "       'AG RUNOFF', 'ASBESTOS', 'STORMWATER', 'METALS, ACID - MINING',\n",
       "       \"4,4'-DDE\", 'TOTAL PCBS', 'BENZO[K]FLUORENE', 'BENZO[B]FLUORENE',\n",
       "       \"4,4'-DDD\", 'FINE SEDIMENT', 'TOTAL DISSOLVED GAS', \"4,4'-DDT\"],\n",
       "      dtype=object)"
      ]
     },
     "execution_count": 119,
     "metadata": {},
     "output_type": "execute_result"
    }
   ],
   "source": [
    "# create a subset of data into a new dataframe from the original that has just the \"Impaired\" status and the \"PUBLIC WATER SUPPLY\" use.\n",
    "\n",
    "columns = [\n",
    "    \"STATE\",\n",
    "    \"LW_PARENT_CAUSE_NAME\",\n",
    "    \"LW_DETAILED_CAUSE_NAME\"\n",
    " \n",
    "]\n",
    "\n",
    "impaired_drinking = imp_df.loc[imp_df[\"LW_PARENT_CAUSE_NAME\"] != \"\", columns]\n",
    "#impaired_drinking\n",
    "#reasons_df = imp_df[\"LW_PARENT_CAUSE_NAME\"].unique()\n",
    "#reasons_df\n",
    "details_df = imp_df[\"LW_DETAILED_CAUSE_NAME\"].unique()\n",
    "details_df"
   ]
  },
  {
   "cell_type": "code",
   "execution_count": null,
   "metadata": {},
   "outputs": [],
   "source": []
  },
  {
   "cell_type": "code",
   "execution_count": null,
   "metadata": {},
   "outputs": [],
   "source": []
  }
 ],
 "metadata": {
  "kernelspec": {
   "display_name": "Python 3",
   "language": "python",
   "name": "python3"
  },
  "language_info": {
   "codemirror_mode": {
    "name": "ipython",
    "version": 3
   },
   "file_extension": ".py",
   "mimetype": "text/x-python",
   "name": "python",
   "nbconvert_exporter": "python",
   "pygments_lexer": "ipython3",
   "version": "3.7.4"
  }
 },
 "nbformat": 4,
 "nbformat_minor": 4
}
