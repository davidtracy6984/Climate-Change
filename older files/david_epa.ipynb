{
 "cells": [
  {
   "cell_type": "code",
   "execution_count": 1,
   "metadata": {},
   "outputs": [],
   "source": [
    "#Import libraries\n",
    "import pandas as pd\n",
    "import matplotlib.pyplot as plt"
   ]
  },
  {
   "cell_type": "code",
   "execution_count": 2,
   "metadata": {},
   "outputs": [
    {
     "name": "stderr",
     "output_type": "stream",
     "text": [
      "c:\\users\\wolgy\\miniconda3\\lib\\site-packages\\IPython\\core\\interactiveshell.py:3051: DtypeWarning: Columns (6) have mixed types. Specify dtype option on import or set low_memory=False.\n",
      "  interactivity=interactivity, compiler=compiler, result=result)\n"
     ]
    },
    {
     "data": {
      "text/html": [
       "<div>\n",
       "<style scoped>\n",
       "    .dataframe tbody tr th:only-of-type {\n",
       "        vertical-align: middle;\n",
       "    }\n",
       "\n",
       "    .dataframe tbody tr th {\n",
       "        vertical-align: top;\n",
       "    }\n",
       "\n",
       "    .dataframe thead th {\n",
       "        text-align: right;\n",
       "    }\n",
       "</style>\n",
       "<table border=\"1\" class=\"dataframe\">\n",
       "  <thead>\n",
       "    <tr style=\"text-align: right;\">\n",
       "      <th></th>\n",
       "      <th>ID</th>\n",
       "      <th>Cycle_Year</th>\n",
       "      <th>State</th>\n",
       "      <th>Name</th>\n",
       "      <th>Status</th>\n",
       "      <th>Parent_Use</th>\n",
       "      <th>Threatened_Flag</th>\n",
       "      <th>Detailed_Cause</th>\n",
       "      <th>Parent_Cause</th>\n",
       "      <th>Detailed_Source</th>\n",
       "      <th>Parent_Source</th>\n",
       "      <th>TMDL_FLAG</th>\n",
       "      <th>EPA2_SNAPSHOT_DATE</th>\n",
       "    </tr>\n",
       "  </thead>\n",
       "  <tbody>\n",
       "    <tr>\n",
       "      <th>0</th>\n",
       "      <td>5408</td>\n",
       "      <td>2008</td>\n",
       "      <td>AR</td>\n",
       "      <td>Dorcheat Bayou</td>\n",
       "      <td>IMPAIRED</td>\n",
       "      <td>AESTHETIC VALUE</td>\n",
       "      <td>NaN</td>\n",
       "      <td>LEAD</td>\n",
       "      <td>METALS (OTHER THAN MERCURY)</td>\n",
       "      <td>SOURCE UNKNOWN</td>\n",
       "      <td>UNKNOWN</td>\n",
       "      <td>Y</td>\n",
       "      <td>5/1/2015</td>\n",
       "    </tr>\n",
       "    <tr>\n",
       "      <th>1</th>\n",
       "      <td>5408</td>\n",
       "      <td>2008</td>\n",
       "      <td>AR</td>\n",
       "      <td>Dorcheat Bayou</td>\n",
       "      <td>IMPAIRED</td>\n",
       "      <td>AESTHETIC VALUE</td>\n",
       "      <td>NaN</td>\n",
       "      <td>LEAD</td>\n",
       "      <td>METALS (OTHER THAN MERCURY)</td>\n",
       "      <td>HIGHWAYS, ROADS, BRIDGES, INFRASTRUCTURE (NEW ...</td>\n",
       "      <td>CONSTRUCTION</td>\n",
       "      <td>Y</td>\n",
       "      <td>5/1/2015</td>\n",
       "    </tr>\n",
       "    <tr>\n",
       "      <th>2</th>\n",
       "      <td>5408</td>\n",
       "      <td>2008</td>\n",
       "      <td>AR</td>\n",
       "      <td>Dorcheat Bayou</td>\n",
       "      <td>IMPAIRED</td>\n",
       "      <td>AESTHETIC VALUE</td>\n",
       "      <td>NaN</td>\n",
       "      <td>SEDIMENTATION/SILTATION</td>\n",
       "      <td>SEDIMENT</td>\n",
       "      <td>SOURCE UNKNOWN</td>\n",
       "      <td>UNKNOWN</td>\n",
       "      <td>N</td>\n",
       "      <td>5/1/2015</td>\n",
       "    </tr>\n",
       "    <tr>\n",
       "      <th>3</th>\n",
       "      <td>5408</td>\n",
       "      <td>2008</td>\n",
       "      <td>AR</td>\n",
       "      <td>Dorcheat Bayou</td>\n",
       "      <td>IMPAIRED</td>\n",
       "      <td>AESTHETIC VALUE</td>\n",
       "      <td>NaN</td>\n",
       "      <td>SEDIMENTATION/SILTATION</td>\n",
       "      <td>SEDIMENT</td>\n",
       "      <td>HIGHWAYS, ROADS, BRIDGES, INFRASTRUCTURE (NEW ...</td>\n",
       "      <td>CONSTRUCTION</td>\n",
       "      <td>N</td>\n",
       "      <td>5/1/2015</td>\n",
       "    </tr>\n",
       "    <tr>\n",
       "      <th>4</th>\n",
       "      <td>5408</td>\n",
       "      <td>2008</td>\n",
       "      <td>AR</td>\n",
       "      <td>Dorcheat Bayou</td>\n",
       "      <td>IMPAIRED</td>\n",
       "      <td>AESTHETIC VALUE</td>\n",
       "      <td>NaN</td>\n",
       "      <td>PH</td>\n",
       "      <td>PH/ACIDITY/CAUSTIC CONDITIONS</td>\n",
       "      <td>HIGHWAYS, ROADS, BRIDGES, INFRASTRUCTURE (NEW ...</td>\n",
       "      <td>CONSTRUCTION</td>\n",
       "      <td>Y</td>\n",
       "      <td>5/1/2015</td>\n",
       "    </tr>\n",
       "  </tbody>\n",
       "</table>\n",
       "</div>"
      ],
      "text/plain": [
       "     ID  Cycle_Year State            Name    Status       Parent_Use  \\\n",
       "0  5408        2008    AR  Dorcheat Bayou  IMPAIRED  AESTHETIC VALUE   \n",
       "1  5408        2008    AR  Dorcheat Bayou  IMPAIRED  AESTHETIC VALUE   \n",
       "2  5408        2008    AR  Dorcheat Bayou  IMPAIRED  AESTHETIC VALUE   \n",
       "3  5408        2008    AR  Dorcheat Bayou  IMPAIRED  AESTHETIC VALUE   \n",
       "4  5408        2008    AR  Dorcheat Bayou  IMPAIRED  AESTHETIC VALUE   \n",
       "\n",
       "  Threatened_Flag           Detailed_Cause                   Parent_Cause  \\\n",
       "0             NaN                     LEAD    METALS (OTHER THAN MERCURY)   \n",
       "1             NaN                     LEAD    METALS (OTHER THAN MERCURY)   \n",
       "2             NaN  SEDIMENTATION/SILTATION                       SEDIMENT   \n",
       "3             NaN  SEDIMENTATION/SILTATION                       SEDIMENT   \n",
       "4             NaN                       PH  PH/ACIDITY/CAUSTIC CONDITIONS   \n",
       "\n",
       "                                     Detailed_Source Parent_Source TMDL_FLAG  \\\n",
       "0                                     SOURCE UNKNOWN       UNKNOWN         Y   \n",
       "1  HIGHWAYS, ROADS, BRIDGES, INFRASTRUCTURE (NEW ...  CONSTRUCTION         Y   \n",
       "2                                     SOURCE UNKNOWN       UNKNOWN         N   \n",
       "3  HIGHWAYS, ROADS, BRIDGES, INFRASTRUCTURE (NEW ...  CONSTRUCTION         N   \n",
       "4  HIGHWAYS, ROADS, BRIDGES, INFRASTRUCTURE (NEW ...  CONSTRUCTION         Y   \n",
       "\n",
       "  EPA2_SNAPSHOT_DATE  \n",
       "0           5/1/2015  \n",
       "1           5/1/2015  \n",
       "2           5/1/2015  \n",
       "3           5/1/2015  \n",
       "4           5/1/2015  "
      ]
     },
     "execution_count": 2,
     "metadata": {},
     "output_type": "execute_result"
    }
   ],
   "source": [
    "#set up the pathway for the epa data files\n",
    "path = 'Data\\\\'\n",
    "\n",
    "#Making a datframe out of the csv file\n",
    "epadata_raw = pd.read_csv(path+'EPA_DATA.csv')\n",
    "epadata_raw.head()"
   ]
  },
  {
   "cell_type": "code",
   "execution_count": 9,
   "metadata": {},
   "outputs": [
    {
     "data": {
      "text/plain": [
       "<BarContainer object of 3 artists>"
      ]
     },
     "execution_count": 9,
     "metadata": {},
     "output_type": "execute_result"
    },
    {
     "data": {
      "image/png": "[encoded data removed]",
      "text/plain": [
       "<Figure size 432x288 with 1 Axes>"
      ]
     },
     "metadata": {
      "needs_background": "light"
     },
     "output_type": "display_data"
    }
   ],
   "source": [
    "#Setup the x and y(height) variables\n",
    "status_var = epadata_raw['Status'].unique()\n",
    "status_count = epadata_raw['Status'].value_counts()\n",
    "\n",
    "#Create a simple bar chart out of them\n",
    "plt.bar(status_var,status_count)"
   ]
  },
  {
   "cell_type": "code",
   "execution_count": 16,
   "metadata": {},
   "outputs": [],
   "source": [
    "#epadata_raw.groupby('State')['Status'].count().plot.bar(figsize=(20,10))\n",
    "#This produces a graph but its not entirely clear what its presenting, and it is not the side by side that we want"
   ]
  },
  {
   "cell_type": "code",
   "execution_count": 23,
   "metadata": {},
   "outputs": [],
   "source": [
    "impaired_df = epadata_raw[epadata_raw['Status']=='IMPAIRED']\n",
    "good_df = epadata_raw[epadata_raw['Status']=='GOOD']\n",
    "threatend_df = epadata_raw[epadata_raw['Status']=='THREATENED']"
   ]
  },
  {
   "cell_type": "code",
   "execution_count": 29,
   "metadata": {},
   "outputs": [
    {
     "data": {
      "text/plain": [
       "array(['GA', 'HI', 'ID', 'IL', 'MA', 'NE', 'OK', 'OR', 'VT', 'WY', 'AK',\n",
       "       'AL', 'AR', 'AZ', 'CO', 'DE', 'LA', 'MI', 'MO', 'MT', 'ND', 'NJ',\n",
       "       'NM', 'NV', 'SD', 'TN', 'UT', 'WV', 'CT', 'IA', 'IN', 'KS', 'KY',\n",
       "       'ME', 'MN', 'NY', 'OH', 'RI', 'SC', 'TX', 'VA', 'MD', 'MS', 'PR',\n",
       "       'VI', 'WA', 'WI', 'FL'], dtype=object)"
      ]
     },
     "execution_count": 29,
     "metadata": {},
     "output_type": "execute_result"
    }
   ],
   "source": [
    "impaired_df['State'].unique()\n",
    "good_df['State'].unique()"
   ]
  },
  {
   "cell_type": "code",
   "execution_count": null,
   "metadata": {},
   "outputs": [],
   "source": []
  },
  {
   "cell_type": "code",
   "execution_count": null,
   "metadata": {},
   "outputs": [],
   "source": []
  }
 ],
 "metadata": {
  "kernelspec": {
   "display_name": "Python 3",
   "language": "python",
   "name": "python3"
  },
  "language_info": {
   "codemirror_mode": {
    "name": "ipython",
    "version": 3
   },
   "file_extension": ".py",
   "mimetype": "text/x-python",
   "name": "python",
   "nbconvert_exporter": "python",
   "pygments_lexer": "ipython3",
   "version": "3.7.3"
  }
 },
 "nbformat": 4,
 "nbformat_minor": 4
}
