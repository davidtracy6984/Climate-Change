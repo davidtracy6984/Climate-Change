{
 "cells": [
  {
   "cell_type": "code",
   "execution_count": null,
   "metadata": {},
   "outputs": [],
   "source": [
    "import numpy as np\n",
    "import pandas as pd\n",
    "import matplotlib.pyplot as plt\n",
    "import matplotlib as mp\n",
    "import os\n",
    "import csv\n",
    "import seaborn as sns\n",
    "sns.set()"
   ]
  },
  {
   "cell_type": "code",
   "execution_count": null,
   "metadata": {},
   "outputs": [],
   "source": [
    "fileWaterTemp = \"data/nwis.waterdata.usgs.gov.csv\"\n",
    "\n",
    "dataPath = pd.read_csv(fileWaterTemp)\n",
    "\n",
    "temp_1_df = pd.DataFrame(dataPath[28:])\n",
    "\n",
    "temp_1_df = temp_1_df.rename(columns={\"# ---------------------------------- WARNING ----------------------------------------\":\"Outfit\",\n",
    "                                     \"Unnamed: 1\": \"Station ID\",\n",
    "                                     \"Unnamed: 2\": \"Date/Time\",\n",
    "                                     \"Unnamed: 3\": \"Timezone\",\n",
    "                                     \"Unnamed: 4\": \"Temperature C\",\n",
    "                                     \"Unnamed: 5\": \"Approval Code\"}) \n",
    "\n",
    "\n",
    "\n",
    "\n",
    "new = temp_1_df[\"Date/Time\"].str.split(\" \", n=1, expand = True)\n",
    "\n",
    "temp_1_df[\"Date\"]= new[0]\n",
    "temp_1_df[\"Time\"]= new[1]\n",
    "\n",
    "temp_1_df.drop(columns = [\"Date/Time\"], inplace = True)\n",
    "\n",
    "temp_1_df['Date'] = pd.to_datetime(temp_1_df['Date']).dt.strftime('%Y/%m/%d')\n",
    "\n",
    "temp_1_df[\"Temperature C\"] = temp_1_df[\"Temperature C\"].astype(float)\n"
   ]
  },
  {
   "cell_type": "code",
   "execution_count": null,
   "metadata": {},
   "outputs": [],
   "source": [
    "eventDate = temp_1_df.groupby(\"Date\")\n",
    "\n",
    "avgTempColumbia = eventDate[\"Temperature C\"].mean()\n",
    "\n",
    "\n",
    "eventDate_df = pd.DataFrame({\"Average Temperature\": avgTempColumbia})\n"
   ]
  },
  {
   "cell_type": "code",
   "execution_count": null,
   "metadata": {},
   "outputs": [],
   "source": [
    "eventDate_df[\"Time\"] = eventDate_df.index\n",
    "x_axis = np.arange(len(eventDate_df['Time']))\n",
    "tick_locations = [value for value in x_axis]\n",
    "labels = eventDate_df.index\n",
    "\n",
    "y = eventDate_df[\"Average Temperature\"]\n",
    "\n",
    "cm = mp.cm.get_cmap('gnuplot')\n",
    "mp.rc('xtick', labelsize=18) \n",
    "mp.rc('ytick', labelsize=18)\n",
    "plt.figure(figsize=(20,6))\n",
    "sc = plt.scatter(x_axis,y, c=y, cmap=cm)\n",
    "plt.xticks(tick_locations[::500], labels[::500], rotation=45)\n",
    "plt.colorbar(sc)\n",
    "plt.xlabel(\"Date\", fontsize=18) \n",
    "plt.ylabel('Temperature C', fontsize=18)              \n",
    "plt.title('Average Water Temp per Day near Dalles, Oregon (Station ID: 14105700, USGS)', fontsize=18)        \n",
    "plt.savefig('imagesTravis/tempDalles.png', bbox_inches=\"tight\", pad_inches=0.2)            \n",
    "plt.show()"
   ]
  },
  {
   "cell_type": "markdown",
   "metadata": {},
   "source": [
    "<img src=\"imagesTravis/tempDalles.png\"/>"
   ]
  },
  {
   "cell_type": "code",
   "execution_count": null,
   "metadata": {},
   "outputs": [],
   "source": []
  }
 ],
 "metadata": {
  "kernelspec": {
   "display_name": "Python 3",
   "language": "python",
   "name": "python3"
  },
  "language_info": {
   "codemirror_mode": {
    "name": "ipython",
    "version": 3
   },
   "file_extension": ".py",
   "mimetype": "text/x-python",
   "name": "python",
   "nbconvert_exporter": "python",
   "pygments_lexer": "ipython3",
   "version": "3.7.6"
  }
 },
 "nbformat": 4,
 "nbformat_minor": 4
}
